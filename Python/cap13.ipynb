{
  "nbformat": 4,
  "nbformat_minor": 0,
  "metadata": {
    "colab": {
      "provenance": []
    },
    "kernelspec": {
      "name": "python3",
      "display_name": "Python 3"
    },
    "language_info": {
      "name": "python"
    }
  },
  "cells": [
    {
      "cell_type": "markdown",
      "source": [
        "# Gestión Moderna de Portafolio\n",
        "### Autores Bernardo León y Carlos Zapata\n",
        "### (C) Copyright 2023\n",
        "\n",
        "## Capitulo 13: Optimización Robusta de Portafolios\n"
      ],
      "metadata": {
        "id": "YmIud_mUqI4H"
      }
    },
    {
      "cell_type": "code",
      "execution_count": 1,
      "metadata": {
        "id": "8IeIpx1dqIEV",
        "colab": {
          "base_uri": "https://localhost:8080/"
        },
        "outputId": "9ee2b2dd-d6fa-4f69-864d-6a4d40e5aacb"
      },
      "outputs": [
        {
          "output_type": "stream",
          "name": "stdout",
          "text": [
            "\u001b[2K     \u001b[90m━━━━━━━━━━━━━━━━━━━━━━━━━━━━━━━━━━━━━━━\u001b[0m \u001b[32m55.9/55.9 KB\u001b[0m \u001b[31m750.2 kB/s\u001b[0m eta \u001b[36m0:00:00\u001b[0m\n",
            "\u001b[2K     \u001b[90m━━━━━━━━━━━━━━━━━━━━━━━━━━━━━━━━━━━━━━━━\u001b[0m \u001b[32m62.8/62.8 KB\u001b[0m \u001b[31m3.1 MB/s\u001b[0m eta \u001b[36m0:00:00\u001b[0m\n",
            "\u001b[2K     \u001b[90m━━━━━━━━━━━━━━━━━━━━━━━━━━━━━━━━━━━━━\u001b[0m \u001b[32m112.2/112.2 KB\u001b[0m \u001b[31m797.4 kB/s\u001b[0m eta \u001b[36m0:00:00\u001b[0m\n",
            "\u001b[2K     \u001b[90m━━━━━━━━━━━━━━━━━━━━━━━━━━━━━━━━━━━━━━━━\u001b[0m \u001b[32m4.2/4.2 MB\u001b[0m \u001b[31m8.9 MB/s\u001b[0m eta \u001b[36m0:00:00\u001b[0m\n",
            "\u001b[2K     \u001b[90m━━━━━━━━━━━━━━━━━━━━━━━━━━━━━━━━━━━━━━━\u001b[0m \u001b[32m111.0/111.0 KB\u001b[0m \u001b[31m5.8 MB/s\u001b[0m eta \u001b[36m0:00:00\u001b[0m\n",
            "\u001b[2K     \u001b[90m━━━━━━━━━━━━━━━━━━━━━━━━━━━━━━━━━━━━━━━\u001b[0m \u001b[32m129.4/129.4 KB\u001b[0m \u001b[31m3.6 MB/s\u001b[0m eta \u001b[36m0:00:00\u001b[0m\n",
            "\u001b[?25h"
          ]
        }
      ],
      "source": [
        "#Librerías usadas\n",
        "import pandas as pd\n",
        "import numpy as np\n",
        "import matplotlib.pyplot as plt\n",
        "import cvxpy as cp\n",
        "from scipy import stats\n",
        "%pip install --quiet yfinance\n",
        "import yfinance as yf\n",
        "import warnings\n",
        "warnings.filterwarnings(\"ignore\")"
      ]
    },
    {
      "cell_type": "markdown",
      "source": [
        "### Ejemplo 13.1"
      ],
      "metadata": {
        "id": "-7WkPTybL7BD"
      }
    },
    {
      "cell_type": "code",
      "source": [
        "# Información histórica dentro de muetsra (In-sample) para las acciones\n",
        "fechai = \"2015-12-01\"\n",
        "fechaf = \"2020-12-31\"\n",
        "periodicidad = \"1Mo\"\n",
        "activos = [\"ADBE\",\"MCD\",\"MSCI\",\"MSFT\",\"NEE\",\"PG\",\"RSG\",\"WMT\"]\n",
        "precios = yf.download(activos,start=fechai,end=fechaf,interval=periodicidad)['Adj Close'].dropna()\n",
        "retornos = np.log(precios/precios.shift(1)).dropna()\n",
        "mu = retornos.mean()\n",
        "cov = retornos.cov()\n",
        "sigma = retornos.std()"
      ],
      "metadata": {
        "id": "Y_WwETQGqRMN",
        "colab": {
          "base_uri": "https://localhost:8080/"
        },
        "outputId": "7949a676-26f1-402b-c1ea-b17ff01909ec"
      },
      "execution_count": null,
      "outputs": [
        {
          "output_type": "stream",
          "name": "stdout",
          "text": [
            "[*********************100%***********************]  8 of 8 completed\n"
          ]
        }
      ]
    },
    {
      "cell_type": "code",
      "source": [
        "# PT de Sharpe\n",
        "rf = 0.0\n",
        "r = mu -rf \n",
        "n = len(mu)\n",
        "# PT de Sharpe\n",
        "w = cp.Variable(n)\n",
        "risk = cp.quad_form(w, cov)\n",
        "objective = cp.Minimize(risk)\n",
        "constraints = [w @ r == 1, w >= 0] \n",
        "prob = cp.Problem(objective, constraints)\n",
        "prob.solve()\n",
        "wpt = w.value/np.sum(w.value)\n",
        "\n",
        "fig = plt.figure(figsize = (6, 5))\n",
        "plt.bar(activos, wpt, width = 0.4)\n",
        "plt.ylabel(\"Part. (%)\")\n",
        "plt.show()"
      ],
      "metadata": {
        "id": "-HyyzIhtq1pc",
        "colab": {
          "base_uri": "https://localhost:8080/",
          "height": 320
        },
        "outputId": "5e2dae1a-4ab7-4564-b7fb-00d9932b4f9d"
      },
      "execution_count": null,
      "outputs": [
        {
          "output_type": "display_data",
          "data": {
            "text/plain": [
              "<Figure size 432x360 with 1 Axes>"
            ],
            "image/png": "[encoded data removed]"
          },
          "metadata": {
            "needs_background": "light"
          }
        }
      ]
    },
    {
      "cell_type": "code",
      "source": [
        "# PT de Sharpe\n",
        "rf = 0.0\n",
        "r = mu -rf \n",
        "n = len(mu)\n",
        "\n",
        "# PT de Sharpe\n",
        "w = cp.Variable(n)\n",
        "risk = cp.quad_form(w, cov)\n",
        "objective = cp.Minimize(risk)\n",
        "constraints = [w @ r == 1, w >= 0] \n",
        "prob = cp.Problem(objective, constraints)\n",
        "prob.solve()\n",
        "wpt = w.value/np.sum(w.value)\n",
        "\n",
        "fig = plt.figure(figsize = (6, 5))\n",
        "plt.bar(activos, wpt, width = 0.4)\n",
        "plt.ylabel(\"Part. (%)\")\n",
        "plt.show()"
      ],
      "metadata": {
        "id": "jBzP2k43Mpe5",
        "colab": {
          "base_uri": "https://localhost:8080/",
          "height": 320
        },
        "outputId": "39262a3a-5e47-48f8-fdd2-86ade8c4af80"
      },
      "execution_count": null,
      "outputs": [
        {
          "output_type": "display_data",
          "data": {
            "text/plain": [
              "<Figure size 432x360 with 1 Axes>"
            ],
            "image/png": "[encoded data removed]"
          },
          "metadata": {
            "needs_background": "light"
          }
        }
      ]
    },
    {
      "cell_type": "markdown",
      "source": [
        "### Portafolios Robustos\n",
        "\n",
        "#### Incertidumbre de Intervalo"
      ],
      "metadata": {
        "id": "vumTmEIEMx-9"
      }
    },
    {
      "cell_type": "code",
      "source": [
        "# Calculo delta (distribución normal)\n",
        "from scipy.stats import norm\n",
        "t = len(retornos)\n",
        "alpha = 0.05\n",
        "znorm = norm.ppf((1-alpha/2))\n",
        "delta = znorm*sigma/np.sqrt(t)\n",
        "\n",
        "# Calculo lambda\n",
        "rpt = wpt @ mu\n",
        "sigmapt = np.sqrt(wpt.T @ cov @ wpt)\n",
        "lambda_coef = (rpt-rf)/sigmapt**2"
      ],
      "metadata": {
        "id": "Gixbspr8M1AI"
      },
      "execution_count": null,
      "outputs": []
    },
    {
      "cell_type": "code",
      "source": [
        "# PRMVi\n",
        "unos = np.repeat(1,n)\n",
        "w = cp.Variable(n)\n",
        "risk = cp.quad_form(w, cov)\n",
        "objective = cp.Maximize(w @ mu - w * delta - lambda_coef*risk)\n",
        "constraints = [w @ unos == 1, w >= 0] \n",
        "prob = cp.Problem(objective, constraints)\n",
        "prob.solve()\n",
        "wprmvi = w.value/np.sum(w.value)\n",
        "\n",
        "fig = plt.figure(figsize = (6, 5))\n",
        "plt.bar(activos, wprmvi, width = 0.4)\n",
        "plt.ylabel(\"Part. (%)\")\n",
        "plt.show()"
      ],
      "metadata": {
        "colab": {
          "base_uri": "https://localhost:8080/",
          "height": 320
        },
        "id": "jEwsIfzjM6IO",
        "outputId": "3f72cde7-db42-4735-e3d8-f7343583be2b"
      },
      "execution_count": null,
      "outputs": [
        {
          "output_type": "display_data",
          "data": {
            "text/plain": [
              "<Figure size 432x360 with 1 Axes>"
            ],
            "image/png": "[encoded data removed]"
          },
          "metadata": {
            "needs_background": "light"
          }
        }
      ]
    },
    {
      "cell_type": "markdown",
      "source": [
        "#### Incertidumbre Elipsoidal"
      ],
      "metadata": {
        "id": "BkaXZLsJRgAQ"
      }
    },
    {
      "cell_type": "code",
      "source": [
        "# Calculo delta (distribución Chi-cuadrado)\n",
        "from scipy.stats import chi2\n",
        "alpha = 0.05\n",
        "delta2 = np.sqrt(chi2.ppf(alpha, n))\n",
        "round(delta2,4)"
      ],
      "metadata": {
        "id": "pbSPh5qVRfQt",
        "colab": {
          "base_uri": "https://localhost:8080/"
        },
        "outputId": "bc561d0f-3dc2-49c0-a87e-338ec7d6811e"
      },
      "execution_count": null,
      "outputs": [
        {
          "output_type": "execute_result",
          "data": {
            "text/plain": [
              "1.6531"
            ]
          },
          "metadata": {},
          "execution_count": 7
        }
      ]
    },
    {
      "cell_type": "code",
      "source": [
        "# PRMVe\n",
        "unos = np.repeat(1,n)\n",
        "w = cp.Variable(n)\n",
        "S12 = np.linalg.cholesky(cov)\n",
        "risk = cp.quad_form(w, cov)\n",
        "objective = cp.Maximize(w @ mu - lambda_coef*risk - delta2 * np.linalg.norm(S12) )\n",
        "constraints = [w @ unos == 1, w >= 0] \n",
        "prob = cp.Problem(objective, constraints)\n",
        "prob.solve()\n",
        "wprmve = w.value/np.sum(w.value)\n",
        "\n",
        "fig = plt.figure(figsize = (6, 5))\n",
        "plt.bar(activos, wprmve, width = 0.4)\n",
        "plt.ylabel(\"Part. (%)\")\n",
        "plt.show()"
      ],
      "metadata": {
        "id": "ozycRh9ae6nC",
        "colab": {
          "base_uri": "https://localhost:8080/",
          "height": 320
        },
        "outputId": "df8006e7-01d8-4ca7-ee28-531d70c4c3c1"
      },
      "execution_count": null,
      "outputs": [
        {
          "output_type": "display_data",
          "data": {
            "text/plain": [
              "<Figure size 432x360 with 1 Axes>"
            ],
            "image/png": "[encoded data removed]"
          },
          "metadata": {
            "needs_background": "light"
          }
        }
      ]
    }
  ]
}