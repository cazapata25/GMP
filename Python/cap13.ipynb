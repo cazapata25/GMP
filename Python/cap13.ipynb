{
  "nbformat": 4,
  "nbformat_minor": 0,
  "metadata": {
    "colab": {
      "provenance": [],
      "collapsed_sections": []
    },
    "kernelspec": {
      "name": "python3",
      "display_name": "Python 3"
    },
    "language_info": {
      "name": "python"
    }
  },
  "cells": [
    {
      "cell_type": "markdown",
      "source": [
        "# Gestión Moderna de Portafolio\n",
        "### Autores: Bernardo León y Carlos Zapata\n",
        "### Copyright 2022\n",
        "\n",
        "## Capitulo 13: Optimización Robusta de Portafolios\n"
      ],
      "metadata": {
        "id": "YmIud_mUqI4H"
      }
    },
    {
      "cell_type": "code",
      "execution_count": 1,
      "metadata": {
        "id": "8IeIpx1dqIEV",
        "colab": {
          "base_uri": "https://localhost:8080/"
        },
        "outputId": "c897f6ee-3de0-45ab-bec2-0f010a572d12"
      },
      "outputs": [
        {
          "output_type": "stream",
          "name": "stdout",
          "text": [
            "Looking in indexes: https://pypi.org/simple, https://us-python.pkg.dev/colab-wheels/public/simple/\n",
            "Collecting yfinance\n",
            "  Downloading yfinance-0.1.74-py2.py3-none-any.whl (27 kB)\n",
            "Requirement already satisfied: pandas>=0.24.0 in /usr/local/lib/python3.7/dist-packages (from yfinance) (1.3.5)\n",
            "Requirement already satisfied: lxml>=4.5.1 in /usr/local/lib/python3.7/dist-packages (from yfinance) (4.9.1)\n",
            "Collecting requests>=2.26\n",
            "  Downloading requests-2.28.1-py3-none-any.whl (62 kB)\n",
            "\u001b[K     |████████████████████████████████| 62 kB 680 kB/s \n",
            "\u001b[?25hRequirement already satisfied: numpy>=1.15 in /usr/local/lib/python3.7/dist-packages (from yfinance) (1.21.6)\n",
            "Requirement already satisfied: multitasking>=0.0.7 in /usr/local/lib/python3.7/dist-packages (from yfinance) (0.0.11)\n",
            "Requirement already satisfied: python-dateutil>=2.7.3 in /usr/local/lib/python3.7/dist-packages (from pandas>=0.24.0->yfinance) (2.8.2)\n",
            "Requirement already satisfied: pytz>=2017.3 in /usr/local/lib/python3.7/dist-packages (from pandas>=0.24.0->yfinance) (2022.2.1)\n",
            "Requirement already satisfied: six>=1.5 in /usr/local/lib/python3.7/dist-packages (from python-dateutil>=2.7.3->pandas>=0.24.0->yfinance) (1.15.0)\n",
            "Requirement already satisfied: urllib3<1.27,>=1.21.1 in /usr/local/lib/python3.7/dist-packages (from requests>=2.26->yfinance) (1.24.3)\n",
            "Requirement already satisfied: idna<4,>=2.5 in /usr/local/lib/python3.7/dist-packages (from requests>=2.26->yfinance) (2.10)\n",
            "Requirement already satisfied: charset-normalizer<3,>=2 in /usr/local/lib/python3.7/dist-packages (from requests>=2.26->yfinance) (2.1.1)\n",
            "Requirement already satisfied: certifi>=2017.4.17 in /usr/local/lib/python3.7/dist-packages (from requests>=2.26->yfinance) (2022.6.15)\n",
            "Installing collected packages: requests, yfinance\n",
            "  Attempting uninstall: requests\n",
            "    Found existing installation: requests 2.23.0\n",
            "    Uninstalling requests-2.23.0:\n",
            "      Successfully uninstalled requests-2.23.0\n",
            "Successfully installed requests-2.28.1 yfinance-0.1.74\n"
          ]
        }
      ],
      "source": [
        "#Librerías usadas\n",
        "import pandas as pd\n",
        "import numpy as np\n",
        "import matplotlib.pyplot as plt\n",
        "import cvxpy as cp\n",
        "from scipy import stats\n",
        "%pip install yfinance\n",
        "import yfinance as yf\n",
        "import warnings\n",
        "warnings.filterwarnings(\"ignore\")"
      ]
    },
    {
      "cell_type": "markdown",
      "source": [
        "### Ejemplo 13.1"
      ],
      "metadata": {
        "id": "-7WkPTybL7BD"
      }
    },
    {
      "cell_type": "code",
      "source": [
        "# Información histórica dentro de muetsra (In-sample) para las acciones\n",
        "fechai = \"2015-12-01\"\n",
        "fechaf = \"2020-12-31\"\n",
        "periodicidad = \"1Mo\"\n",
        "activos = [\"ADBE\",\"MCD\",\"MSCI\",\"MSFT\",\"NEE\",\"PG\",\"RSG\",\"WMT\"]\n",
        "precios = yf.download(activos,start=fechai,end=fechaf,interval=periodicidad)['Adj Close'].dropna()\n",
        "retornos = np.log(precios/precios.shift(1)).dropna()\n",
        "mu = retornos.mean()\n",
        "cov = retornos.cov()\n",
        "sigma = retornos.std()"
      ],
      "metadata": {
        "id": "Y_WwETQGqRMN",
        "colab": {
          "base_uri": "https://localhost:8080/"
        },
        "outputId": "90c2d9dd-f1cb-42f6-f967-7d3eb15d13b9"
      },
      "execution_count": 3,
      "outputs": [
        {
          "output_type": "stream",
          "name": "stdout",
          "text": [
            "[*********************100%***********************]  8 of 8 completed\n"
          ]
        }
      ]
    },
    {
      "cell_type": "code",
      "source": [
        "# PT de Sharpe\n",
        "rf = 0.0\n",
        "r = mu -rf \n",
        "n = len(mu)\n",
        "# PT de Sharpe\n",
        "w = cp.Variable(n)\n",
        "risk = cp.quad_form(w, cov)\n",
        "objective = cp.Minimize(risk)\n",
        "constraints = [w @ r == 1, w >= 0] \n",
        "prob = cp.Problem(objective, constraints)\n",
        "prob.solve()\n",
        "wpt = w.value/np.sum(w.value)\n",
        "\n",
        "fig = plt.figure(figsize = (6, 5))\n",
        "plt.bar(activos, wpt, width = 0.4)\n",
        "plt.ylabel(\"Part. (%)\")\n",
        "plt.show()"
      ],
      "metadata": {
        "id": "-HyyzIhtq1pc",
        "colab": {
          "base_uri": "https://localhost:8080/",
          "height": 320
        },
        "outputId": "59c78bd0-7e9f-49d1-dae4-60cb36afba61"
      },
      "execution_count": 4,
      "outputs": [
        {
          "output_type": "display_data",
          "data": {
            "text/plain": [
              "<Figure size 432x360 with 1 Axes>"
            ],
            "image/png": "[encoded data removed]"
          },
          "metadata": {
            "needs_background": "light"
          }
        }
      ]
    },
    {
      "cell_type": "code",
      "source": [
        "# PT de Sharpe\n",
        "rf = 0.0\n",
        "r = mu -rf \n",
        "n = len(mu)\n",
        "\n",
        "# PT de Sharpe\n",
        "w = cp.Variable(n)\n",
        "risk = cp.quad_form(w, cov)\n",
        "objective = cp.Minimize(risk)\n",
        "constraints = [w @ r == 1, w >= 0] \n",
        "prob = cp.Problem(objective, constraints)\n",
        "prob.solve()\n",
        "wpt = w.value/np.sum(w.value)\n",
        "\n",
        "fig = plt.figure(figsize = (6, 5))\n",
        "plt.bar(activos, wpt, width = 0.4)\n",
        "plt.ylabel(\"Part. (%)\")\n",
        "plt.show()"
      ],
      "metadata": {
        "id": "jBzP2k43Mpe5"
      },
      "execution_count": null,
      "outputs": []
    },
    {
      "cell_type": "markdown",
      "source": [
        "### Portafolios Robustos\n",
        "\n",
        "#### Incertidumbre de Intervalo"
      ],
      "metadata": {
        "id": "vumTmEIEMx-9"
      }
    },
    {
      "cell_type": "code",
      "source": [
        "# Calculo delta (distribución normal)\n",
        "from scipy.stats import norm\n",
        "t = len(retornos)\n",
        "alpha = 0.05\n",
        "znorm = norm.ppf((1-alpha/2))\n",
        "delta = znorm*sigma/np.sqrt(t)\n",
        "\n",
        "# Calculo lambda\n",
        "rpt = wpt @ mu\n",
        "sigmapt = np.sqrt(wpt.T @ cov @ wpt)\n",
        "lambda_coef = (rpt-rf)/sigmapt**2"
      ],
      "metadata": {
        "id": "Gixbspr8M1AI"
      },
      "execution_count": 12,
      "outputs": []
    },
    {
      "cell_type": "code",
      "source": [
        "# PRMVi\n",
        "unos = np.repeat(1,n)\n",
        "w = cp.Variable(n)\n",
        "risk = cp.quad_form(w, cov)\n",
        "objective = cp.Maximize(w @ mu - w @ delta - lambda_coef*risk)\n",
        "constraints = [w @ unos == 1, w >= 0] \n",
        "prob = cp.Problem(objective, constraints)\n",
        "prob.solve()\n",
        "wprmvi = w.value/np.sum(w.value)\n",
        "\n",
        "fig = plt.figure(figsize = (6, 5))\n",
        "plt.bar(activos, wprmvi, width = 0.4)\n",
        "plt.ylabel(\"Part. (%)\")\n",
        "plt.show()"
      ],
      "metadata": {
        "colab": {
          "base_uri": "https://localhost:8080/",
          "height": 320
        },
        "id": "jEwsIfzjM6IO",
        "outputId": "38208364-2dbb-497d-bf2c-89cf8ce8d786"
      },
      "execution_count": 15,
      "outputs": [
        {
          "output_type": "display_data",
          "data": {
            "text/plain": [
              "<Figure size 432x360 with 1 Axes>"
            ],
            "image/png": "[encoded data removed]"
          },
          "metadata": {
            "needs_background": "light"
          }
        }
      ]
    },
    {
      "cell_type": "markdown",
      "source": [
        "#### Incertidumbre Elipsoidal"
      ],
      "metadata": {
        "id": "BkaXZLsJRgAQ"
      }
    },
    {
      "cell_type": "code",
      "source": [
        "# Calculo delta (distribución Chi-cuadrado)\n",
        "from scipy.stats import chi2\n",
        "alpha = 0.05\n",
        "delta2 = np.sqrt(chi2.ppf(alpha, n))"
      ],
      "metadata": {
        "id": "pbSPh5qVRfQt"
      },
      "execution_count": 35,
      "outputs": []
    },
    {
      "cell_type": "code",
      "source": [
        "# PRMVi\n",
        "unos = np.repeat(1,n)\n",
        "S12 = pd.DataFrame(np.linalg.cholesky(cov))\n",
        "w = cp.Variable(n)\n",
        "risk = cp.quad_form(w, cov)\n",
        "objective = cp.Maximize(w @ mu - lambda_coef*risk - delta2*(np.linalg.norm(S12 @ w)) )\n",
        "constraints = [w @ unos == 1, w >= 0] \n",
        "prob = cp.Problem(objective, constraints)\n",
        "prob.solve()\n",
        "wprmvi = w.value/np.sum(w.value)\n",
        "\n",
        "fig = plt.figure(figsize = (6, 5))\n",
        "plt.bar(activos, wprmvi, width = 0.4)\n",
        "plt.ylabel(\"Part. (%)\")\n",
        "plt.show()"
      ],
      "metadata": {
        "id": "ozycRh9ae6nC"
      },
      "execution_count": 77,
      "outputs": []
    },
    {
      "cell_type": "code",
      "source": [],
      "metadata": {
        "id": "fwO9VUT8doy6"
      },
      "execution_count": 78,
      "outputs": []
    },
    {
      "cell_type": "code",
      "source": [
        "    prob <- Problem(Maximize( t(w)%*%mu-lambda*(quad_form(w, cov))-delta2*(norm2(S12%*%w))),\n",
        "                    constraints = list(w >= 0, ones(1,n)%*%w==1))\n",
        "    result <- solve(prob)\n",
        "    return(as.vector(result$getValue(w)))\n",
        "}"
      ],
      "metadata": {
        "id": "SYZuUUBvQl9o"
      },
      "execution_count": 24,
      "outputs": []
    }
  ]
}