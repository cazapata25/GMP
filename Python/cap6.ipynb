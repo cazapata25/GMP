{
  "cells": [
    {
      "cell_type": "markdown",
      "metadata": {
        "id": "Bs7moL6dWjD-"
      },
      "source": [
        "# Gestión Moderna de Portafolio\n",
        "### Autores Bernardo León y Carlos Zapata\n",
        "### (C) Copyright 2023"
      ]
    },
    {
      "cell_type": "markdown",
      "metadata": {
        "id": "kNXGha2JegrH"
      },
      "source": [
        "## Capitulo 6: Medida Omega $\\Omega$\n"
      ]
    },
    {
      "cell_type": "code",
      "execution_count": 5,
      "metadata": {
        "id": "A27X4swzeTBX"
      },
      "outputs": [],
      "source": [
        "%pip install --quiet yfinance"
      ]
    },
    {
      "cell_type": "code",
      "execution_count": 6,
      "metadata": {
        "id": "jxDBsH7JWihu"
      },
      "outputs": [],
      "source": [
        "#Librerías usadas\n",
        "import pandas as pd\n",
        "import numpy as np\n",
        "import cvxpy as cp\n",
        "import matplotlib.pyplot as plt\n",
        "import yfinance as yf\n",
        "import warnings\n",
        "warnings.filterwarnings(\"ignore\")"
      ]
    },
    {
      "cell_type": "markdown",
      "metadata": {
        "id": "4SuonFOKdU46"
      },
      "source": [
        "### Ejemplo 6.1"
      ]
    },
    {
      "cell_type": "code",
      "execution_count": 58,
      "metadata": {
        "colab": {
          "base_uri": "https://localhost:8080/"
        },
        "id": "XdsKjbEpWvEC",
        "outputId": "c3a6f42f-ee08-4c43-c55a-68f7f9fb703e"
      },
      "outputs": [
        {
          "output_type": "stream",
          "name": "stdout",
          "text": [
            "[*********************100%***********************]  4 of 4 completed\n"
          ]
        }
      ],
      "source": [
        "# Información histórica para las acciones: AAPL, AMZN, GOOG y MSFT\n",
        "fechai = \"2009-12-01\"\n",
        "fechaf = \"2021-12-31\"\n",
        "periodicidad = \"1Mo\"\n",
        "activos = [\"AAPL\",\"AMZN\",\"GOOGL\",\"MSFT\"]\n",
        "precios = yf.download(activos,start=fechai,end=fechaf,interval=periodicidad)['Adj Close'].dropna()\n",
        "retornos = np.log(precios/precios.shift(1)).dropna()\n",
        "mu = retornos.mean()*12\n",
        "cov = retornos.cov()*12\n",
        "var = np.diag(cov)\n",
        "sigma = np.sqrt(var)\n",
        "n = len(mu)"
      ]
    },
    {
      "cell_type": "code",
      "execution_count": 59,
      "metadata": {
        "colab": {
          "base_uri": "https://localhost:8080/"
        },
        "id": "hWrQM8qOduRx",
        "outputId": "383910c8-dde0-4da8-94c5-9a21f358381b"
      },
      "outputs": [
        {
          "output_type": "execute_result",
          "data": {
            "text/plain": [
              "AAPL     2.100586\n",
              "AMZN     2.040308\n",
              "GOOGL    1.787564\n",
              "MSFT     2.168691\n",
              "dtype: float64"
            ]
          },
          "metadata": {},
          "execution_count": 59
        }
      ],
      "source": [
        "# Calculo excesos y umbral h\n",
        "h = 0\n",
        "excesos = retornos-h\n",
        "pos_ret = excesos[excesos>h].sum()\n",
        "neg_ret = excesos[excesos<h].sum()\n",
        "omegai = pos_ret / (-neg_ret )\n",
        "omegai"
      ]
    },
    {
      "cell_type": "markdown",
      "metadata": {
        "id": "fPEOijcAo8Vl"
      },
      "source": [
        "# Optimización usando SCIPY"
      ]
    },
    {
      "cell_type": "code",
      "execution_count": 60,
      "metadata": {
        "id": "OmrGvG8hevPg",
        "colab": {
          "base_uri": "https://localhost:8080/"
        },
        "outputId": "fe478e59-79d5-4fa6-bd49-6441d1ef7d03"
      },
      "outputs": [
        {
          "output_type": "execute_result",
          "data": {
            "text/plain": [
              "array([0.18140004, 0.36459492, 0.02634756, 0.42765748])"
            ]
          },
          "metadata": {},
          "execution_count": 60
        }
      ],
      "source": [
        "from scipy.optimize import minimize\n",
        "\n",
        "def omega(pesos, retornos, h):\n",
        "  port_return = retornos @ pesos\n",
        "  excesos = port_return-h\n",
        "  pos_ret = excesos[excesos>h].sum()\n",
        "  neg_ret = excesos[excesos<h].sum()\n",
        "  return pos_ret / (-neg_ret )\n",
        "\n",
        "#\n",
        "def optimize_omega(retornos, h):\n",
        "  pesos = np.repeat(1/n,n)\n",
        "  objective = lambda pesos: -omega(pesos, retornos, h)\n",
        "  bounds = [(0, 1)] * n\n",
        "  solution = minimize(objective, pesos, bounds=bounds)\n",
        "  return solution.x/sum(solution.x)\n",
        "\n",
        "h= 0\n",
        "wpo = optimize_omega(retornos, h)\n",
        "wpo"
      ]
    }
  ],
  "metadata": {
    "colab": {
      "provenance": []
    },
    "kernelspec": {
      "display_name": "Python 3 (ipykernel)",
      "language": "python",
      "name": "python3"
    },
    "language_info": {
      "codemirror_mode": {
        "name": "ipython",
        "version": 3
      },
      "file_extension": ".py",
      "mimetype": "text/x-python",
      "name": "python",
      "nbconvert_exporter": "python",
      "pygments_lexer": "ipython3",
      "version": "3.10.9"
    }
  },
  "nbformat": 4,
  "nbformat_minor": 0
}