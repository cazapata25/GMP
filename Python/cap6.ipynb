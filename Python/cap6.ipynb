{
  "cells": [
    {
      "cell_type": "markdown",
      "metadata": {
        "id": "Bs7moL6dWjD-"
      },
      "source": [
        "# Gestión Moderna de Portafolio\n",
        "### Autores Bernardo León y Carlos Zapata\n",
        "### (C) Copyright 2023"
      ]
    },
    {
      "cell_type": "markdown",
      "metadata": {
        "id": "kNXGha2JegrH"
      },
      "source": [
        "## Capitulo 6: Medida Omega $\\Omega$\n"
      ]
    },
    {
      "cell_type": "code",
      "execution_count": 118,
      "metadata": {
        "id": "A27X4swzeTBX"
      },
      "outputs": [],
      "source": [
        "%pip install --quiet yfinance"
      ]
    },
    {
      "cell_type": "code",
      "execution_count": 119,
      "metadata": {
        "id": "jxDBsH7JWihu"
      },
      "outputs": [],
      "source": [
        "#Librerías usadas\n",
        "import pandas as pd\n",
        "import numpy as np\n",
        "import cvxpy as cp\n",
        "import matplotlib.pyplot as plt\n",
        "import yfinance as yf\n",
        "import warnings\n",
        "warnings.filterwarnings(\"ignore\")"
      ]
    },
    {
      "cell_type": "markdown",
      "metadata": {
        "id": "4SuonFOKdU46"
      },
      "source": [
        "### Ejemplo 6.1"
      ]
    },
    {
      "cell_type": "code",
      "execution_count": 133,
      "metadata": {
        "colab": {
          "base_uri": "https://localhost:8080/"
        },
        "id": "XdsKjbEpWvEC",
        "outputId": "c47e39cf-7b54-43b2-8a45-1f6ee19ecc0b"
      },
      "outputs": [
        {
          "output_type": "stream",
          "name": "stdout",
          "text": [
            "[*********************100%***********************]  4 of 4 completed\n"
          ]
        }
      ],
      "source": [
        "# Información histórica para las acciones: AAPL, AMZN, GOOG y MSFT\n",
        "fechai = \"2015-12-01\"\n",
        "fechaf = \"2020-12-31\"\n",
        "periodicidad = \"1Mo\"\n",
        "activos = [\"AAPL\",\"AMZN\",\"GOOGL\",\"MSFT\"]\n",
        "precios = yf.download(activos,start=fechai,end=fechaf,interval=periodicidad)['Adj Close'].dropna()\n",
        "retornos = np.log(precios/precios.shift(1)).dropna()\n",
        "mu = retornos.mean()\n",
        "cov = retornos.cov()\n",
        "var = np.diag(cov)\n",
        "sigma = np.sqrt(var)\n",
        "n = len(mu)"
      ]
    },
    {
      "cell_type": "code",
      "execution_count": 134,
      "metadata": {
        "colab": {
          "base_uri": "https://localhost:8080/"
        },
        "id": "hWrQM8qOduRx",
        "outputId": "f138a902-e446-4280-fcbb-3382c2c2567c"
      },
      "outputs": [
        {
          "output_type": "execute_result",
          "data": {
            "text/plain": [
              "AAPL     2.217804\n",
              "AMZN     2.314771\n",
              "GOOGL    1.734004\n",
              "MSFT     3.257868\n",
              "dtype: float64"
            ]
          },
          "metadata": {},
          "execution_count": 134
        }
      ],
      "source": [
        "# Calculo excesos y umbral h\n",
        "h = 0\n",
        "excesos = retornos-h\n",
        "pos_ret = excesos[excesos>h].sum()\n",
        "neg_ret = excesos[excesos<h].sum()\n",
        "omegai = pos_ret / (-neg_ret )\n",
        "omegai"
      ]
    },
    {
      "cell_type": "markdown",
      "metadata": {
        "id": "fPEOijcAo8Vl"
      },
      "source": [
        "# Optimización usando CVXPY"
      ]
    },
    {
      "cell_type": "code",
      "execution_count": null,
      "metadata": {
        "id": "OmrGvG8hevPg"
      },
      "outputs": [],
      "source": [
        "def omega(retornos, h):\n",
        "    s = retornos.shape[0]\n",
        "    n = retornos.shape[1]\n",
        "    y = cp.Variable(n)\n",
        "    u = cp.Variable(s)\n",
        "    z = cp.Variable()\n",
        "    constraints = [cp.matmul(retornos, y) + u >= h,\n",
        "                   cp.sum(y) == 1,\n",
        "                   cp.sum(u) == z,\n",
        "                   cp.matmul(mu, y) >= h*z,\n",
        "                   z >= 1e-05]\n",
        "    objective = cp.Minimize(cp.matmul(mu, y) - h*z)\n",
        "    prob = cp.Problem(objective, constraints)\n",
        "    prob.solve(solver=cp.GLPK_MI)\n",
        "    return y.value"
      ]
    }
  ],
  "metadata": {
    "colab": {
      "provenance": []
    },
    "kernelspec": {
      "display_name": "Python 3 (ipykernel)",
      "language": "python",
      "name": "python3"
    },
    "language_info": {
      "codemirror_mode": {
        "name": "ipython",
        "version": 3
      },
      "file_extension": ".py",
      "mimetype": "text/x-python",
      "name": "python",
      "nbconvert_exporter": "python",
      "pygments_lexer": "ipython3",
      "version": "3.10.9"
    }
  },
  "nbformat": 4,
  "nbformat_minor": 0
}