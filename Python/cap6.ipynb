{
 "cells": [
  {
   "cell_type": "markdown",
   "metadata": {
    "id": "Bs7moL6dWjD-"
   },
   "source": [
    "# Gestión Moderna de Portafolio\n",
    "### Autores Bernardo León y Carlos Zapata\n",
    "### (C) Copyright 2023"
   ]
  },
  {
   "cell_type": "markdown",
   "metadata": {
    "id": "kNXGha2JegrH"
   },
   "source": [
    "## Capitulo 6: Medida Omega $\\Omega$\n"
   ]
  },
  {
   "cell_type": "code",
   "execution_count": 6,
   "metadata": {},
   "outputs": [
    {
     "name": "stdout",
     "output_type": "stream",
     "text": [
      "Note: you may need to restart the kernel to use updated packages.\n",
      "Note: you may need to restart the kernel to use updated packages.\n"
     ]
    }
   ],
   "source": [
    "%pip install --quiet yfinance\n",
    "%pip install --quiet cvxpy"
   ]
  },
  {
   "cell_type": "code",
   "execution_count": 8,
   "metadata": {
    "colab": {
     "base_uri": "https://localhost:8080/"
    },
    "id": "jxDBsH7JWihu",
    "outputId": "79a158a7-90c3-4f35-ecf7-d1d468508fee"
   },
   "outputs": [],
   "source": [
    "#Librerías usadas\n",
    "import pandas as pd\n",
    "import numpy as np\n",
    "import cvxpy as cp\n",
    "import matplotlib.pyplot as plt\n",
    "import yfinance as yf\n",
    "import warnings\n",
    "warnings.filterwarnings(\"ignore\")"
   ]
  },
  {
   "cell_type": "markdown",
   "metadata": {
    "id": "4SuonFOKdU46"
   },
   "source": [
    "### Ejemplo 6.1"
   ]
  },
  {
   "cell_type": "code",
   "execution_count": 2,
   "metadata": {
    "colab": {
     "base_uri": "https://localhost:8080/"
    },
    "id": "XdsKjbEpWvEC",
    "outputId": "721c9d0a-5712-413c-c288-cdef8424d377"
   },
   "outputs": [
    {
     "name": "stdout",
     "output_type": "stream",
     "text": [
      "[*********************100%***********************]  4 of 4 completed\n"
     ]
    }
   ],
   "source": [
    "# Información histórica para las acciones: AAPL, AMZN, GOOG y MSFT\n",
    "fechai = \"2015-12-01\"\n",
    "fechaf = \"2020-12-31\"\n",
    "periodicidad = \"1Mo\"\n",
    "activos = [\"AAPL\",\"AMZN\",\"GOOGL\",\"MSFT\"]\n",
    "precios = yf.download(activos,start=fechai,end=fechaf,interval=periodicidad)['Adj Close'].dropna()\n",
    "retornos = np.log(precios/precios.shift(1)).dropna()\n",
    "mu = retornos.mean()*12\n",
    "cov = retornos.cov()*12\n",
    "var = np.diag(cov)\n",
    "sigma = np.sqrt(var)\n",
    "n = len(mu)"
   ]
  },
  {
   "cell_type": "code",
   "execution_count": 3,
   "metadata": {
    "colab": {
     "base_uri": "https://localhost:8080/"
    },
    "id": "hWrQM8qOduRx",
    "outputId": "920741c3-6cff-4760-ea71-e07b0a948b8f"
   },
   "outputs": [
    {
     "data": {
      "text/plain": [
       "AAPL     2.217804\n",
       "AMZN     2.314771\n",
       "GOOGL    1.734004\n",
       "MSFT     3.257867\n",
       "dtype: float64"
      ]
     },
     "execution_count": 3,
     "metadata": {},
     "output_type": "execute_result"
    }
   ],
   "source": [
    "# Calculo excesos y umbral h\n",
    "h = 0\n",
    "excesos = retornos-h\n",
    "pos_ret = excesos[excesos>h].sum()\n",
    "neg_ret = excesos[excesos<h].sum()\n",
    "#pos_ret, neg_ret \n",
    "omegai = pos_ret / (-neg_ret )\n",
    "omegai"
   ]
  },
  {
   "cell_type": "markdown",
   "metadata": {
    "id": "fPEOijcAo8Vl"
   },
   "source": [
    "# Optimización usando GLPK y CVXPY"
   ]
  },
  {
   "cell_type": "code",
   "execution_count": 11,
   "metadata": {
    "id": "OmrGvG8hevPg"
   },
   "outputs": [
    {
     "ename": "AttributeError",
     "evalue": "'tuple' object has no attribute 'value'",
     "output_type": "error",
     "traceback": [
      "\u001b[1;31m---------------------------------------------------------------------------\u001b[0m",
      "\u001b[1;31mAttributeError\u001b[0m                            Traceback (most recent call last)",
      "Cell \u001b[1;32mIn[11], line 26\u001b[0m\n\u001b[0;32m     23\u001b[0m     \u001b[38;5;28;01mreturn\u001b[39;00m x\u001b[38;5;241m.\u001b[39mvalue\n\u001b[0;32m     25\u001b[0m wpomega \u001b[38;5;241m=\u001b[39m omega(retornos, h)\n\u001b[1;32m---> 26\u001b[0m \u001b[43mwpomega\u001b[49m\u001b[38;5;241;43m.\u001b[39;49m\u001b[43mvalue\u001b[49m\n",
      "\u001b[1;31mAttributeError\u001b[0m: 'tuple' object has no attribute 'value'"
     ]
    }
   ],
   "source": [
    "def omega(retornos, h):\n",
    "    s = retornos.shape[0]\n",
    "    n = retornos.shape[1]\n",
    "    mu = retornos.mean(axis=0)\n",
    "    cov = retornos.cov()\n",
    "    y = cp.Variable(n)\n",
    "    u = cp.Variable(s)\n",
    "    z = cp.Variable()\n",
    "    constraints = [cp.matmul(retornos, y) + u >= h,\n",
    "                   cp.sum(y) == z,\n",
    "                   cp.sum(u) == 1,\n",
    "                   cp.matmul(mu, y) >= h*z,\n",
    "                   z >= 1e-05]\n",
    "    objective = cp.Minimize(cp.matmul(mu, y) - h*z)\n",
    "    #objective = cp.Maximize(mu @ y - h * z)\n",
    "    return objective, constraints\n",
    "\n",
    "def budget_constraint(retornos, dir = \"==\", rhs = 1):\n",
    "    x = cp.Variable(retornos.shape[1])\n",
    "    constraints = [cp.sum(x) == rhs]\n",
    "    prob = cp.Problem(cp.Minimize(0), constraints)\n",
    "    prob.solve(solver=cp.GLPK)\n",
    "    return x.value\n",
    "\n",
    "wpomega = omega(retornos, h)\n",
    "wpomega.value\n",
    "#prob.variables()[0].value"
   ]
  },
  {
   "cell_type": "code",
   "execution_count": null,
   "metadata": {},
   "outputs": [],
   "source": []
  }
 ],
 "metadata": {
  "colab": {
   "provenance": []
  },
  "kernelspec": {
   "display_name": "Python 3 (ipykernel)",
   "language": "python",
   "name": "python3"
  },
  "language_info": {
   "codemirror_mode": {
    "name": "ipython",
    "version": 3
   },
   "file_extension": ".py",
   "mimetype": "text/x-python",
   "name": "python",
   "nbconvert_exporter": "python",
   "pygments_lexer": "ipython3",
   "version": "3.10.9"
  }
 },
 "nbformat": 4,
 "nbformat_minor": 1
}
