{
  "nbformat": 4,
  "nbformat_minor": 0,
  "metadata": {
    "colab": {
      "provenance": []
    },
    "kernelspec": {
      "name": "python3",
      "display_name": "Python 3"
    },
    "language_info": {
      "name": "python"
    }
  },
  "cells": [
    {
      "cell_type": "markdown",
      "source": [
        "# Gestión Moderna de Portafolio\n",
        "### Autores Bernardo León y Carlos Zapata\n",
        "### (C) Copyright 2023"
      ],
      "metadata": {
        "id": "Bs7moL6dWjD-"
      }
    },
    {
      "cell_type": "markdown",
      "source": [
        "## Capitulo 6: Medida Omega $\\Omega$\n"
      ],
      "metadata": {
        "id": "kNXGha2JegrH"
      }
    },
    {
      "cell_type": "code",
      "execution_count": 1,
      "metadata": {
        "id": "jxDBsH7JWihu",
        "colab": {
          "base_uri": "https://localhost:8080/"
        },
        "outputId": "79a158a7-90c3-4f35-ecf7-d1d468508fee"
      },
      "outputs": [
        {
          "output_type": "stream",
          "name": "stdout",
          "text": [
            "\u001b[2K     \u001b[90m━━━━━━━━━━━━━━━━━━━━━━━━━━━━━━━━━━━━━━━━\u001b[0m \u001b[32m55.9/55.9 KB\u001b[0m \u001b[31m1.6 MB/s\u001b[0m eta \u001b[36m0:00:00\u001b[0m\n",
            "\u001b[2K     \u001b[90m━━━━━━━━━━━━━━━━━━━━━━━━━━━━━━━━━━━━━━━━\u001b[0m \u001b[32m4.2/4.2 MB\u001b[0m \u001b[31m12.2 MB/s\u001b[0m eta \u001b[36m0:00:00\u001b[0m\n",
            "\u001b[2K     \u001b[90m━━━━━━━━━━━━━━━━━━━━━━━━━━━━━━━━━━━━━━━\u001b[0m \u001b[32m129.4/129.4 KB\u001b[0m \u001b[31m7.1 MB/s\u001b[0m eta \u001b[36m0:00:00\u001b[0m\n",
            "\u001b[2K     \u001b[90m━━━━━━━━━━━━━━━━━━━━━━━━━━━━━━━━━━━━━━━\u001b[0m \u001b[32m111.0/111.0 KB\u001b[0m \u001b[31m5.1 MB/s\u001b[0m eta \u001b[36m0:00:00\u001b[0m\n",
            "\u001b[2K     \u001b[90m━━━━━━━━━━━━━━━━━━━━━━━━━━━━━━━━━━━━━━━━\u001b[0m \u001b[32m62.8/62.8 KB\u001b[0m \u001b[31m2.8 MB/s\u001b[0m eta \u001b[36m0:00:00\u001b[0m\n",
            "\u001b[2K     \u001b[90m━━━━━━━━━━━━━━━━━━━━━━━━━━━━━━━━━━━━━━━\u001b[0m \u001b[32m112.2/112.2 KB\u001b[0m \u001b[31m6.7 MB/s\u001b[0m eta \u001b[36m0:00:00\u001b[0m\n",
            "\u001b[?25h"
          ]
        }
      ],
      "source": [
        "#Librerías usadas\n",
        "import pandas as pd\n",
        "import numpy as np\n",
        "import matplotlib.pyplot as plt\n",
        "%pip install --quiet yfinance\n",
        "import yfinance as yf\n",
        "import warnings\n",
        "warnings.filterwarnings(\"ignore\")"
      ]
    },
    {
      "cell_type": "markdown",
      "source": [
        "### Ejemplo 6.1"
      ],
      "metadata": {
        "id": "4SuonFOKdU46"
      }
    },
    {
      "cell_type": "code",
      "source": [
        "# Información histórica para las acciones: AAPL, AMZN, GOOG y MSFT\n",
        "fechai = \"2015-12-01\"\n",
        "fechaf = \"2020-12-31\"\n",
        "periodicidad = \"1Mo\"\n",
        "activos = [\"AAPL\",\"AMZN\",\"GOOGL\",\"MSFT\"]\n",
        "precios = yf.download(activos,start=fechai,end=fechaf,interval=periodicidad)['Adj Close'].dropna()\n",
        "retornos = np.log(precios/precios.shift(1)).dropna()\n",
        "mu = retornos.mean()*12\n",
        "cov = retornos.cov()*12\n",
        "var = np.diag(cov)\n",
        "sigma = np.sqrt(var)\n",
        "n = len(mu)"
      ],
      "metadata": {
        "id": "XdsKjbEpWvEC",
        "colab": {
          "base_uri": "https://localhost:8080/"
        },
        "outputId": "721c9d0a-5712-413c-c288-cdef8424d377"
      },
      "execution_count": 2,
      "outputs": [
        {
          "output_type": "stream",
          "name": "stdout",
          "text": [
            "[*********************100%***********************]  4 of 4 completed\n"
          ]
        }
      ]
    },
    {
      "cell_type": "code",
      "source": [
        "# Calculo excesos y umbral h\n",
        "h = 0\n",
        "excesos = retornos-h\n",
        "pos_ret = excesos[excesos>h].sum()\n",
        "neg_ret = excesos[excesos<h].sum()\n",
        "#pos_ret, neg_ret \n",
        "omegai = pos_ret / (-neg_ret )\n",
        "omegai"
      ],
      "metadata": {
        "colab": {
          "base_uri": "https://localhost:8080/"
        },
        "id": "hWrQM8qOduRx",
        "outputId": "920741c3-6cff-4760-ea71-e07b0a948b8f"
      },
      "execution_count": 3,
      "outputs": [
        {
          "output_type": "execute_result",
          "data": {
            "text/plain": [
              "AAPL     2.217805\n",
              "AMZN     2.314771\n",
              "GOOGL    1.734004\n",
              "MSFT     3.257870\n",
              "dtype: float64"
            ]
          },
          "metadata": {},
          "execution_count": 3
        }
      ]
    },
    {
      "cell_type": "markdown",
      "source": [
        "# Optimización usando GLPK y CVXPY"
      ],
      "metadata": {
        "id": "fPEOijcAo8Vl"
      }
    },
    {
      "cell_type": "code",
      "source": [
        "import cvxpy as cp\n",
        "\n",
        "def omega(retornos, h):\n",
        "    s = retornos.shape[0]\n",
        "    n = retornos.shape[1]\n",
        "    mu = retornos.mean(axis=0)\n",
        "    cov = retornos.cov()\n",
        "    y = cp.Variable(n)\n",
        "    u = cp.Variable(s)\n",
        "    z = cp.Variable()\n",
        "    constraints = [cp.matmul(retornos, y) + u >= h,\n",
        "                   cp.sum(y) == z,\n",
        "                   cp.sum(u) == 1,\n",
        "                   cp.matmul(mu, y) >= h*z,\n",
        "                   z >= 1e-05]\n",
        "    objective = cp.Minimize(cp.matmul(mu, y) - h*z)\n",
        "    #objective = cp.Maximize(mu @ y - h * z)\n",
        "    return objective, constraints\n",
        "\n",
        "def budget_constraint(retornos, dir = \"==\", rhs = 1):\n",
        "    x = cp.Variable(retornos.shape[1])\n",
        "    constraints = [cp.sum(x) == rhs]\n",
        "    prob = cp.Problem(cp.Minimize(0), constraints)\n",
        "    prob.solve(solver=cp.GLPK)\n",
        "    return x.value\n",
        "\n",
        "wpomega = omega(retornos, h)\n",
        "wpomega\n",
        "#prob.variables()[0].value"
      ],
      "metadata": {
        "id": "OmrGvG8hevPg"
      },
      "execution_count": 204,
      "outputs": []
    }
  ]
}