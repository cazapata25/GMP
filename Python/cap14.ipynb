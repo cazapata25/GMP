{
  "nbformat": 4,
  "nbformat_minor": 0,
  "metadata": {
    "colab": {
      "provenance": [],
      "private_outputs": true
    },
    "kernelspec": {
      "name": "python3",
      "display_name": "Python 3"
    },
    "language_info": {
      "name": "python"
    },
    "accelerator": "GPU"
  },
  "cells": [
    {
      "cell_type": "markdown",
      "source": [
        "# Gestión Moderna de Portafolio\n",
        "### Autores Bernardo León y Carlos Zapata\n",
        "### (C) Copyright 2023\n",
        "\n",
        "## Capitulo 14: Paridad de Riesgo\n"
      ],
      "metadata": {
        "id": "YmIud_mUqI4H"
      }
    },
    {
      "cell_type": "code",
      "execution_count": null,
      "metadata": {
        "id": "8IeIpx1dqIEV"
      },
      "outputs": [],
      "source": [
        "#Librerías usadas\n",
        "import pandas as pd\n",
        "import numpy as np\n",
        "import matplotlib.pyplot as plt\n",
        "import cvxpy as cp\n",
        "from scipy import stats\n",
        "%pip install --quiet yfinance\n",
        "import yfinance as yf\n",
        "import warnings\n",
        "warnings.filterwarnings(\"ignore\")"
      ]
    },
    {
      "cell_type": "markdown",
      "source": [
        "### Ejemplo 14.2: Paridad de Riesgo Naive"
      ],
      "metadata": {
        "id": "-7WkPTybL7BD"
      }
    },
    {
      "cell_type": "code",
      "source": [
        "# Información histórica dentro de muestra (In-sample) para las acciones\n",
        "fechai = \"2015-12-01\"\n",
        "fechaf = \"2020-12-31\"\n",
        "periodicidad = \"1Mo\"\n",
        "activos = [\"ADBE\",\"MCD\",\"MSCI\",\"MSFT\",\"NEE\",\"PG\",\"RSG\",\"WMT\"]\n",
        "precios = yf.download(activos,start=fechai,end=fechaf,interval=periodicidad)['Adj Close']#.dropna()\n",
        "retornos = np.log(precios/precios.shift(1)).dropna()\n",
        "mu = retornos.mean()\n",
        "cov = retornos.cov()\n",
        "sigma = retornos.std()"
      ],
      "metadata": {
        "id": "Y_WwETQGqRMN"
      },
      "execution_count": null,
      "outputs": []
    },
    {
      "cell_type": "code",
      "source": [
        "# PMVG y CR\n",
        "n = len(mu)\n",
        "def pmvg(cov, ones):  \n",
        "    covis = np.linalg.inv(cov)  \n",
        "    w = np.dot(covis, ones)  \n",
        "    return w / np.sum(np.abs(w)) \n",
        "unos = np.repeat(1,n)\n",
        "wpmvg = pmvg(cov, unos)\n",
        "\n",
        "crMV = wpmvg * sigma\n",
        "np.array(crMV)"
      ],
      "metadata": {
        "id": "-HyyzIhtq1pc"
      },
      "execution_count": null,
      "outputs": []
    },
    {
      "cell_type": "code",
      "source": [
        "fig, (ax1, ax2)= plt.subplots(1,2, figsize=(12, 5))\n",
        "ax1.bar(activos, wpmvg, width = 0.4)\n",
        "ax1.set_ylabel(\"Part. (%)\")\n",
        "ax2.bar(activos, crMV, width = 0.4)\n",
        "ax2.set_ylabel(\"Part. (%)\")\n",
        "plt.show();"
      ],
      "metadata": {
        "id": "ppkbObxfyITX"
      },
      "execution_count": null,
      "outputs": []
    },
    {
      "cell_type": "code",
      "source": [
        "# Paridad de Riesgo Naive\n",
        "wrpnaive = 1/sigma/((1/sigma).sum())\n",
        "\n",
        "# Contribución al riesgo (CR):\n",
        "crnaive = wrpnaive * sigma\n",
        "crnaive"
      ],
      "metadata": {
        "id": "jBzP2k43Mpe5"
      },
      "execution_count": null,
      "outputs": []
    },
    {
      "cell_type": "code",
      "source": [
        "fig, (ax1, ax2)= plt.subplots(1,2, figsize=(12, 5))\n",
        "ax1.bar(activos, wrpnaive, width = 0.4)\n",
        "ax1.set_ylabel(\"Part. (%)\")\n",
        "ax2.bar(activos, crnaive, width = 0.4)\n",
        "ax2.set_ylabel(\"Part. (%)\")\n",
        "plt.show();"
      ],
      "metadata": {
        "id": "NtHHHUgyyOyw"
      },
      "execution_count": null,
      "outputs": []
    },
    {
      "cell_type": "markdown",
      "source": [
        "# Ejemplos 14.3 y 14.4: Risk Parity Vanilla"
      ],
      "metadata": {
        "id": "cPKWYFgmMw1X"
      }
    },
    {
      "cell_type": "code",
      "source": [
        "# Forma 1: Root Solve\n",
        "from scipy.optimize import fsolve\n",
        "\n",
        "b = np.repeat(1/n,n)\n",
        "f = lambda x: cov @ x - b/x\n",
        "\n",
        "x_root = fsolve(f, b)\n",
        "wRPv = x_root/sum(x_root)\n",
        "wRPv"
      ],
      "metadata": {
        "id": "tpZ9hJ3qMwXI"
      },
      "execution_count": null,
      "outputs": []
    },
    {
      "cell_type": "code",
      "source": [
        "# Contribución al riesgo (CR):\n",
        "crv = wRPv * (cov @ wRPv)\n",
        "\n",
        "fig, (ax1, ax2)= plt.subplots(1,2, figsize=(12, 5))\n",
        "ax1.bar(activos, wRPv, width = 0.4)\n",
        "ax1.set_ylabel(\"Part. (%)\")\n",
        "ax2.bar(activos, crv, width = 0.4)\n",
        "ax2.set_ylabel(\"Part. (%)\")\n",
        "plt.show();"
      ],
      "metadata": {
        "id": "LWAn5LTYNuj3"
      },
      "execution_count": null,
      "outputs": []
    },
    {
      "cell_type": "code",
      "source": [
        "# Forma 2: Metodo de Newton"
      ],
      "metadata": {
        "id": "NWpmL6op0VFg"
      },
      "execution_count": null,
      "outputs": []
    },
    {
      "cell_type": "code",
      "source": [
        "from scipy.optimize import minimize\n",
        "n = cov.shape[0]\n",
        "def fn_convex(x, cov):\n",
        "    return 0.5 * x @ cov @ x - (1/n)*np.sum(np.log(x))\n",
        "\n",
        "x0 = np.full((n,), 1/n)\n",
        "Sigma = cov\n",
        "result = minimize(fun=fn_convex, x0=x0, args=(Sigma,), method=\"BFGS\")\n",
        "x_cvx = result.x\n",
        "wRPv2 = x_cvx/np.sum(x_cvx)\n",
        "wRPv2"
      ],
      "metadata": {
        "id": "EhUyYDRazyXp"
      },
      "execution_count": null,
      "outputs": []
    },
    {
      "cell_type": "code",
      "source": [
        "# Contribución al riesgo (CR vanilla):\n",
        "crvanilla2 = wRPv2 * (Sigma @ wRPv2)\n",
        "crrvanilla2 = crvanilla2/np.sum(crvanilla2)\n",
        "np.array(crrvanilla2)"
      ],
      "metadata": {
        "id": "hvfUB7x9z5Fv"
      },
      "execution_count": null,
      "outputs": []
    }
  ]
}