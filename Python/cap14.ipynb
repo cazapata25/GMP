{
  "nbformat": 4,
  "nbformat_minor": 0,
  "metadata": {
    "colab": {
      "provenance": [],
      "collapsed_sections": [],
      "private_outputs": true
    },
    "kernelspec": {
      "name": "python3",
      "display_name": "Python 3"
    },
    "language_info": {
      "name": "python"
    },
    "accelerator": "GPU"
  },
  "cells": [
    {
      "cell_type": "markdown",
      "source": [
        "# Gestión Moderna de Portafolio\n",
        "### Autores: Bernardo León y Carlos Zapata\n",
        "### Copyright 2022\n",
        "\n",
        "## Capitulo 14: Paridad de Riesgo\n"
      ],
      "metadata": {
        "id": "YmIud_mUqI4H"
      }
    },
    {
      "cell_type": "code",
      "execution_count": null,
      "metadata": {
        "id": "8IeIpx1dqIEV"
      },
      "outputs": [],
      "source": [
        "#Librerías usadas\n",
        "import pandas as pd\n",
        "import numpy as np\n",
        "import matplotlib.pyplot as plt\n",
        "import cvxpy as cp\n",
        "from scipy import stats\n",
        "%pip install yfinance\n",
        "import yfinance as yf\n",
        "import warnings\n",
        "warnings.filterwarnings(\"ignore\")"
      ]
    },
    {
      "cell_type": "markdown",
      "source": [
        "### Ejemplo 14.2: Paridad de Riesgo Naive"
      ],
      "metadata": {
        "id": "-7WkPTybL7BD"
      }
    },
    {
      "cell_type": "code",
      "source": [
        "# Información histórica dentro de muetsra (In-sample) para las acciones\n",
        "fechai = \"2015-12-01\"\n",
        "fechaf = \"2020-12-31\"\n",
        "periodicidad = \"1Mo\"\n",
        "activos = [\"ADBE\",\"MCD\",\"MSCI\",\"MSFT\",\"NEE\",\"PG\",\"RSG\",\"WMT\"]\n",
        "precios = yf.download(activos,start=fechai,end=fechaf,interval=periodicidad)['Adj Close'].dropna()\n",
        "retornos = np.log(precios/precios.shift(1)).dropna()\n",
        "mu = retornos.mean()\n",
        "cov = retornos.cov()\n",
        "sigma = retornos.std()"
      ],
      "metadata": {
        "id": "Y_WwETQGqRMN"
      },
      "execution_count": null,
      "outputs": []
    },
    {
      "cell_type": "code",
      "source": [
        "# PMVG y CR\n",
        "n = len(mu)\n",
        "def pmvg(cov, ones):  \n",
        "    covis = np.linalg.inv(cov)  \n",
        "    w = np.dot(covis, ones)  \n",
        "    return w / np.sum(np.abs(w)) \n",
        "unos = np.repeat(1,n)\n",
        "wpmvg = pmvg(cov, unos)\n",
        "\n",
        "crMV = wpmvg * sigma\n",
        "\n",
        "fig, (ax1, ax2)= plt.subplots(1,2, figsize=(12, 5))\n",
        "ax1.bar(activos, wpmvg, width = 0.4)\n",
        "ax1.set_ylabel(\"Part. (%)\")\n",
        "ax2.bar(activos, crMV, width = 0.4)\n",
        "ax2.set_ylabel(\"Part. (%)\")\n",
        "plt.show()"
      ],
      "metadata": {
        "id": "-HyyzIhtq1pc"
      },
      "execution_count": null,
      "outputs": []
    },
    {
      "cell_type": "code",
      "source": [
        "# Paridad de Riesgo Naive\n",
        "\n",
        "wrpnaive = 1/sigma/((1/sigma).sum())\n",
        "\n",
        "# Contribución al riesgo (CR):\n",
        "crnaive = wrpnaive * sigma\n",
        "\n",
        "fig, (ax1, ax2)= plt.subplots(1,2, figsize=(12, 5))\n",
        "ax1.bar(activos, wrpnaive, width = 0.4)\n",
        "ax1.set_ylabel(\"Part. (%)\")\n",
        "ax2.bar(activos, crnaive, width = 0.4)\n",
        "ax2.set_ylabel(\"Part. (%)\")\n",
        "plt.show()"
      ],
      "metadata": {
        "id": "jBzP2k43Mpe5"
      },
      "execution_count": null,
      "outputs": []
    },
    {
      "cell_type": "markdown",
      "source": [
        "# Ejemplos 14.3 y 14.4: Risk Parity Vanilla"
      ],
      "metadata": {
        "id": "cPKWYFgmMw1X"
      }
    },
    {
      "cell_type": "code",
      "source": [
        "# Forma 1: Root Solve\n",
        "from scipy.optimize import fsolve\n",
        "\n",
        "b = np.repeat(1/n,n)\n",
        "f = lambda x: cov @ x - b/x\n",
        "\n",
        "x_root = fsolve(f, b)\n",
        "wRPv = x_root/sum(x_root)\n",
        "wRPv"
      ],
      "metadata": {
        "id": "tpZ9hJ3qMwXI"
      },
      "execution_count": null,
      "outputs": []
    },
    {
      "cell_type": "code",
      "source": [
        "# Contribución al riesgo (CR):\n",
        "crv = wRPv * (cov @ wRPv)\n",
        "\n",
        "fig, (ax1, ax2)= plt.subplots(1,2, figsize=(12, 5))\n",
        "ax1.bar(activos, wRPv, width = 0.4)\n",
        "ax1.set_ylabel(\"Part. (%)\")\n",
        "ax2.bar(activos, crv, width = 0.4)\n",
        "ax2.set_ylabel(\"Part. (%)\")\n",
        "plt.show()"
      ],
      "metadata": {
        "id": "LWAn5LTYNuj3"
      },
      "execution_count": null,
      "outputs": []
    },
    {
      "cell_type": "code",
      "source": [],
      "metadata": {
        "id": "PDL-5OhLP96g"
      },
      "execution_count": null,
      "outputs": []
    }
  ]
}