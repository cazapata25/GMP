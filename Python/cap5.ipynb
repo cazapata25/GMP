{
  "nbformat": 4,
  "nbformat_minor": 0,
  "metadata": {
    "colab": {
      "provenance": [],
      "collapsed_sections": []
    },
    "kernelspec": {
      "name": "python3",
      "display_name": "Python 3"
    },
    "language_info": {
      "name": "python"
    }
  },
  "cells": [
    {
      "cell_type": "markdown",
      "source": [
        "# Gestión Moderna de portafolio\n",
        "### Autores Bernardo León y Carlos Zapata\n",
        "### Copyright 2022\n",
        "\n",
        "## Capitulo 5: Medidas de downside risk: semivarianza, VaR y CVaR"
      ],
      "metadata": {
        "id": "W57qIp4Uttcm"
      }
    },
    {
      "cell_type": "code",
      "execution_count": null,
      "metadata": {
        "colab": {
          "base_uri": "https://localhost:8080/"
        },
        "id": "_OGgg1H5tsN_",
        "outputId": "4d59309e-906e-4033-b0a6-08cc60718588"
      },
      "outputs": [
        {
          "output_type": "stream",
          "name": "stdout",
          "text": [
            "Looking in indexes: https://pypi.org/simple, https://us-python.pkg.dev/colab-wheels/public/simple/\n",
            "Collecting yfinance\n",
            "  Downloading yfinance-0.1.74-py2.py3-none-any.whl (27 kB)\n",
            "Requirement already satisfied: numpy>=1.15 in /usr/local/lib/python3.7/dist-packages (from yfinance) (1.21.6)\n",
            "Collecting requests>=2.26\n",
            "  Downloading requests-2.28.1-py3-none-any.whl (62 kB)\n",
            "\u001b[K     |████████████████████████████████| 62 kB 1.2 MB/s \n",
            "\u001b[?25hRequirement already satisfied: pandas>=0.24.0 in /usr/local/lib/python3.7/dist-packages (from yfinance) (1.3.5)\n",
            "Requirement already satisfied: multitasking>=0.0.7 in /usr/local/lib/python3.7/dist-packages (from yfinance) (0.0.11)\n",
            "Requirement already satisfied: lxml>=4.5.1 in /usr/local/lib/python3.7/dist-packages (from yfinance) (4.9.1)\n",
            "Requirement already satisfied: python-dateutil>=2.7.3 in /usr/local/lib/python3.7/dist-packages (from pandas>=0.24.0->yfinance) (2.8.2)\n",
            "Requirement already satisfied: pytz>=2017.3 in /usr/local/lib/python3.7/dist-packages (from pandas>=0.24.0->yfinance) (2022.2.1)\n",
            "Requirement already satisfied: six>=1.5 in /usr/local/lib/python3.7/dist-packages (from python-dateutil>=2.7.3->pandas>=0.24.0->yfinance) (1.15.0)\n",
            "Requirement already satisfied: charset-normalizer<3,>=2 in /usr/local/lib/python3.7/dist-packages (from requests>=2.26->yfinance) (2.1.0)\n",
            "Requirement already satisfied: idna<4,>=2.5 in /usr/local/lib/python3.7/dist-packages (from requests>=2.26->yfinance) (2.10)\n",
            "Requirement already satisfied: certifi>=2017.4.17 in /usr/local/lib/python3.7/dist-packages (from requests>=2.26->yfinance) (2022.6.15)\n",
            "Requirement already satisfied: urllib3<1.27,>=1.21.1 in /usr/local/lib/python3.7/dist-packages (from requests>=2.26->yfinance) (1.24.3)\n",
            "Installing collected packages: requests, yfinance\n",
            "  Attempting uninstall: requests\n",
            "    Found existing installation: requests 2.23.0\n",
            "    Uninstalling requests-2.23.0:\n",
            "      Successfully uninstalled requests-2.23.0\n",
            "Successfully installed requests-2.28.1 yfinance-0.1.74\n"
          ]
        }
      ],
      "source": [
        "#Librerías usadas\n",
        "import pandas as pd\n",
        "import numpy as np\n",
        "import matplotlib.pyplot as plt\n",
        "%pip install yfinance\n",
        "import yfinance as yf"
      ]
    },
    {
      "cell_type": "markdown",
      "source": [
        "### Ejemplo 5.1: Modelo Semivarianza"
      ],
      "metadata": {
        "id": "Iye-W600t-1h"
      }
    },
    {
      "cell_type": "code",
      "source": [
        "# Información histórica para las acciones: AAPL, AMZN, GOOG y MSFT\n",
        "fechai = \"2009-12-01\"\n",
        "fechaf = \"2021-12-31\"\n",
        "periodicidad = \"1Mo\"\n",
        "activos = [\"AAPL\",\"AMZN\",\"GOOGL\",\"MSFT\"]\n",
        "precios = yf.download(activos,start=fechai,end=fechaf,interval=periodicidad)['Adj Close'].dropna()\n",
        "retornos = np.log(precios/precios.shift(1)).dropna()\n",
        "mu = retornos.mean()*12\n",
        "cov = retornos.cov()*12\n",
        "var = np.diag(cov)\n",
        "sigma = np.sqrt(var)\n",
        "n = len(mu)"
      ],
      "metadata": {
        "colab": {
          "base_uri": "https://localhost:8080/"
        },
        "id": "f-ih6yJ0t6k1",
        "outputId": "71c5f97c-a533-4a02-9039-27ee4ada37d9"
      },
      "execution_count": null,
      "outputs": [
        {
          "output_type": "stream",
          "name": "stdout",
          "text": [
            "[*********************100%***********************]  4 of 4 completed\n"
          ]
        }
      ]
    },
    {
      "cell_type": "code",
      "source": [
        "# Calculo semicovarianzas\n",
        "h = 0\n",
        "semiret = np.minimum(h, retornos)\n",
        "semicov = semiret.cov()*12\n",
        "semivar = np.diag(semicov)\n",
        "semisigma = np.sqrt(semivar)\n",
        "round(semicov,4)"
      ],
      "metadata": {
        "colab": {
          "base_uri": "https://localhost:8080/",
          "height": 175
        },
        "id": "TtB5Bbz-uHJr",
        "outputId": "8615000a-1535-473f-c691-37202cdb4102"
      },
      "execution_count": null,
      "outputs": [
        {
          "output_type": "execute_result",
          "data": {
            "text/plain": [
              "         AAPL    AMZN   GOOGL    MSFT\n",
              "AAPL   0.0187  0.0058  0.0055  0.0045\n",
              "AMZN   0.0058  0.0173  0.0064  0.0054\n",
              "GOOGL  0.0055  0.0064  0.0139  0.0065\n",
              "MSFT   0.0045  0.0054  0.0065  0.0116"
            ],
            "text/html": [
              "\n",
              "  <div id=\"df-2482d66b-7526-42c1-a49c-5ca40a229e82\">\n",
              "    <div class=\"colab-df-container\">\n",
              "      <div>\n",
              "<style scoped>\n",
              "    .dataframe tbody tr th:only-of-type {\n",
              "        vertical-align: middle;\n",
              "    }\n",
              "\n",
              "    .dataframe tbody tr th {\n",
              "        vertical-align: top;\n",
              "    }\n",
              "\n",
              "    .dataframe thead th {\n",
              "        text-align: right;\n",
              "    }\n",
              "</style>\n",
              "<table border=\"1\" class=\"dataframe\">\n",
              "  <thead>\n",
              "    <tr style=\"text-align: right;\">\n",
              "      <th></th>\n",
              "      <th>AAPL</th>\n",
              "      <th>AMZN</th>\n",
              "      <th>GOOGL</th>\n",
              "      <th>MSFT</th>\n",
              "    </tr>\n",
              "  </thead>\n",
              "  <tbody>\n",
              "    <tr>\n",
              "      <th>AAPL</th>\n",
              "      <td>0.0187</td>\n",
              "      <td>0.0058</td>\n",
              "      <td>0.0055</td>\n",
              "      <td>0.0045</td>\n",
              "    </tr>\n",
              "    <tr>\n",
              "      <th>AMZN</th>\n",
              "      <td>0.0058</td>\n",
              "      <td>0.0173</td>\n",
              "      <td>0.0064</td>\n",
              "      <td>0.0054</td>\n",
              "    </tr>\n",
              "    <tr>\n",
              "      <th>GOOGL</th>\n",
              "      <td>0.0055</td>\n",
              "      <td>0.0064</td>\n",
              "      <td>0.0139</td>\n",
              "      <td>0.0065</td>\n",
              "    </tr>\n",
              "    <tr>\n",
              "      <th>MSFT</th>\n",
              "      <td>0.0045</td>\n",
              "      <td>0.0054</td>\n",
              "      <td>0.0065</td>\n",
              "      <td>0.0116</td>\n",
              "    </tr>\n",
              "  </tbody>\n",
              "</table>\n",
              "</div>\n",
              "      <button class=\"colab-df-convert\" onclick=\"convertToInteractive('df-2482d66b-7526-42c1-a49c-5ca40a229e82')\"\n",
              "              title=\"Convert this dataframe to an interactive table.\"\n",
              "              style=\"display:none;\">\n",
              "        \n",
              "  <svg xmlns=\"http://www.w3.org/2000/svg\" height=\"24px\"viewBox=\"0 0 24 24\"\n",
              "       width=\"24px\">\n",
              "    <path d=\"M0 0h24v24H0V0z\" fill=\"none\"/>\n",
              "    <path d=\"M18.56 5.44l.94 2.06.94-2.06 2.06-.94-2.06-.94-.94-2.06-.94 2.06-2.06.94zm-11 1L8.5 8.5l.94-2.06 2.06-.94-2.06-.94L8.5 2.5l-.94 2.06-2.06.94zm10 10l.94 2.06.94-2.06 2.06-.94-2.06-.94-.94-2.06-.94 2.06-2.06.94z\"/><path d=\"M17.41 7.96l-1.37-1.37c-.4-.4-.92-.59-1.43-.59-.52 0-1.04.2-1.43.59L10.3 9.45l-7.72 7.72c-.78.78-.78 2.05 0 2.83L4 21.41c.39.39.9.59 1.41.59.51 0 1.02-.2 1.41-.59l7.78-7.78 2.81-2.81c.8-.78.8-2.07 0-2.86zM5.41 20L4 18.59l7.72-7.72 1.47 1.35L5.41 20z\"/>\n",
              "  </svg>\n",
              "      </button>\n",
              "      \n",
              "  <style>\n",
              "    .colab-df-container {\n",
              "      display:flex;\n",
              "      flex-wrap:wrap;\n",
              "      gap: 12px;\n",
              "    }\n",
              "\n",
              "    .colab-df-convert {\n",
              "      background-color: #E8F0FE;\n",
              "      border: none;\n",
              "      border-radius: 50%;\n",
              "      cursor: pointer;\n",
              "      display: none;\n",
              "      fill: #1967D2;\n",
              "      height: 32px;\n",
              "      padding: 0 0 0 0;\n",
              "      width: 32px;\n",
              "    }\n",
              "\n",
              "    .colab-df-convert:hover {\n",
              "      background-color: #E2EBFA;\n",
              "      box-shadow: 0px 1px 2px rgba(60, 64, 67, 0.3), 0px 1px 3px 1px rgba(60, 64, 67, 0.15);\n",
              "      fill: #174EA6;\n",
              "    }\n",
              "\n",
              "    [theme=dark] .colab-df-convert {\n",
              "      background-color: #3B4455;\n",
              "      fill: #D2E3FC;\n",
              "    }\n",
              "\n",
              "    [theme=dark] .colab-df-convert:hover {\n",
              "      background-color: #434B5C;\n",
              "      box-shadow: 0px 1px 3px 1px rgba(0, 0, 0, 0.15);\n",
              "      filter: drop-shadow(0px 1px 2px rgba(0, 0, 0, 0.3));\n",
              "      fill: #FFFFFF;\n",
              "    }\n",
              "  </style>\n",
              "\n",
              "      <script>\n",
              "        const buttonEl =\n",
              "          document.querySelector('#df-2482d66b-7526-42c1-a49c-5ca40a229e82 button.colab-df-convert');\n",
              "        buttonEl.style.display =\n",
              "          google.colab.kernel.accessAllowed ? 'block' : 'none';\n",
              "\n",
              "        async function convertToInteractive(key) {\n",
              "          const element = document.querySelector('#df-2482d66b-7526-42c1-a49c-5ca40a229e82');\n",
              "          const dataTable =\n",
              "            await google.colab.kernel.invokeFunction('convertToInteractive',\n",
              "                                                     [key], {});\n",
              "          if (!dataTable) return;\n",
              "\n",
              "          const docLinkHtml = 'Like what you see? Visit the ' +\n",
              "            '<a target=\"_blank\" href=https://colab.research.google.com/notebooks/data_table.ipynb>data table notebook</a>'\n",
              "            + ' to learn more about interactive tables.';\n",
              "          element.innerHTML = '';\n",
              "          dataTable['output_type'] = 'display_data';\n",
              "          await google.colab.output.renderOutput(dataTable, element);\n",
              "          const docLink = document.createElement('div');\n",
              "          docLink.innerHTML = docLinkHtml;\n",
              "          element.appendChild(docLink);\n",
              "        }\n",
              "      </script>\n",
              "    </div>\n",
              "  </div>\n",
              "  "
            ]
          },
          "metadata": {},
          "execution_count": 3
        }
      ]
    },
    {
      "cell_type": "code",
      "source": [
        "## Portafolios óptimos Semivarianza\n",
        "unos = np.repeat(1,n)\n",
        "x = mu.T @ np.linalg.inv(semicov) @ mu\n",
        "y = mu.T @ np.linalg.inv(semicov) @ unos\n",
        "z = unos.T @ np.linalg.inv(semicov) @ unos\n",
        "d = x*z - y**2\n",
        "\n",
        "g = (x*np.linalg.solve(semicov,unos) - y*np.linalg.solve(semicov,mu)) * (1/d)\n",
        "h = (z*np.linalg.solve(semicov,mu) -  y*np.linalg.solve(semicov,unos))  * (1/d)\n",
        "\n",
        "# Construcción de la FE\n",
        "rpmin = mu.min()\n",
        "rpmax = mu.max()\n",
        "nport = 100\n",
        "\n",
        "rpobj = 0.25\n",
        "wpobj = g + h * rpobj \n",
        "print('w PMVGs: ', wpobj)"
      ],
      "metadata": {
        "colab": {
          "base_uri": "https://localhost:8080/"
        },
        "id": "YSxfGc3_uRpa",
        "outputId": "4dd73014-1735-4c1f-cb16-1fe7321761c1"
      },
      "execution_count": null,
      "outputs": [
        {
          "output_type": "stream",
          "name": "stdout",
          "text": [
            "w PMVGs:  [0.30188737 0.28483894 0.03327546 0.37999823]\n"
          ]
        }
      ]
    },
    {
      "cell_type": "code",
      "source": [
        "# Pesos del PMVGs\n",
        "fig = plt.figure(figsize = (6, 5))\n",
        "plt.bar(activos, wpobj, width = 0.4)\n",
        "plt.ylabel(\"Part. (%)\")\n",
        "plt.show()"
      ],
      "metadata": {
        "colab": {
          "base_uri": "https://localhost:8080/",
          "height": 320
        },
        "id": "bU6B1PlnxOzg",
        "outputId": "f18cf2ca-7819-4bf7-8546-9ab7f880315f"
      },
      "execution_count": null,
      "outputs": [
        {
          "output_type": "display_data",
          "data": {
            "text/plain": [
              "<Figure size 432x360 with 1 Axes>"
            ],
            "image/png": "[encoded data removed]"
          },
          "metadata": {
            "needs_background": "light"
          }
        }
      ]
    },
    {
      "cell_type": "code",
      "source": [
        "## Portafolio tangente de Sortino\n",
        "rf = 0.0\n",
        "r = mu -rf \n",
        "Z = np.linalg.solve(semicov,r) \n",
        "sumaZ = Z.sum()\n",
        "wps = Z/sumaZ\n",
        "rps = wps @ mu\n",
        "sigmaps = np.sqrt(wps.T @ cov @ wps)\n",
        "wps"
      ],
      "metadata": {
        "colab": {
          "base_uri": "https://localhost:8080/"
        },
        "id": "ECNBofOzueI1",
        "outputId": "5772607f-d6ab-4051-a4b7-345c726aa6b6"
      },
      "execution_count": null,
      "outputs": [
        {
          "output_type": "execute_result",
          "data": {
            "text/plain": [
              "array([0.3107163 , 0.29399739, 0.01649873, 0.37878757])"
            ]
          },
          "metadata": {},
          "execution_count": 17
        }
      ]
    },
    {
      "cell_type": "code",
      "source": [
        "# Pesos del PT de Sortino\n",
        "fig = plt.figure(figsize = (6, 5))\n",
        "plt.bar(activos, wps, width = 0.4)\n",
        "plt.ylabel(\"Part. (%)\")\n",
        "plt.show()"
      ],
      "metadata": {
        "colab": {
          "base_uri": "https://localhost:8080/",
          "height": 320
        },
        "id": "9dUNQVy-weN8",
        "outputId": "72009019-9c2a-4cac-fa0d-6037ea50adff"
      },
      "execution_count": null,
      "outputs": [
        {
          "output_type": "display_data",
          "data": {
            "text/plain": [
              "<Figure size 432x360 with 1 Axes>"
            ],
            "image/png": "[encoded data removed]"
          },
          "metadata": {
            "needs_background": "light"
          }
        }
      ]
    },
    {
      "cell_type": "code",
      "source": [
        "# FE Semivarianza\n",
        "j = np.linspace(rpmin,rpmax, nport) \n",
        "wpo = np.zeros((nport, n))\n",
        "rpo = np.zeros((nport,1))\n",
        "semisigmapo = np.zeros((nport,1))\n",
        "\n",
        "for i in range(nport):\n",
        "    wj = g + h*j[i] \n",
        "    wpo[i,:] = wj.T\n",
        "    rpo[i] = wj @ mu\n",
        "    semisigmapo[i] = np.sqrt( wj.T @ semicov @ wj)"
      ],
      "metadata": {
        "id": "yhNneu4xxZeE"
      },
      "execution_count": null,
      "outputs": []
    },
    {
      "cell_type": "code",
      "source": [
        "# Plano Riesgo-Retorno\n",
        "fig = plt.figure(figsize = (6, 5))\n",
        "ax = fig.add_subplot(111)\n",
        "plt.plot(semisigma, mu, \"ro\")\n",
        "plt.plot(semisigmapo, rpo)\n",
        "plt.xlabel(\"Riesgo\")\n",
        "plt.ylabel(\"Retorno esperado\")\n",
        "plt.ylim(0.15,0.3)\n",
        "plt.xlim(0.05,0.2)\n",
        "plt.show()"
      ],
      "metadata": {
        "colab": {
          "base_uri": "https://localhost:8080/",
          "height": 338
        },
        "id": "gFBcyzBWuYwS",
        "outputId": "55b58a39-20b0-47a7-eee1-9901487ab292"
      },
      "execution_count": null,
      "outputs": [
        {
          "output_type": "display_data",
          "data": {
            "text/plain": [
              "<Figure size 432x360 with 1 Axes>"
            ],
            "image/png": "[encoded data removed]"
          },
          "metadata": {
            "needs_background": "light"
          }
        }
      ]
    }
  ]
}