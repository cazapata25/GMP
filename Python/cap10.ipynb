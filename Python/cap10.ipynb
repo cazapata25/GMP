{
  "nbformat": 4,
  "nbformat_minor": 0,
  "metadata": {
    "colab": {
      "provenance": []
    },
    "kernelspec": {
      "name": "python3",
      "display_name": "Python 3"
    },
    "language_info": {
      "name": "python"
    }
  },
  "cells": [
    {
      "cell_type": "markdown",
      "source": [
        "# Gestión Moderna de Portafolio\n",
        "### Autores Bernardo León y Carlos Zapata\n",
        "### (C) Copyright 2023\n"
      ],
      "metadata": {
        "id": "w2A0jGUbnFVL"
      }
    },
    {
      "cell_type": "markdown",
      "source": [
        "## Capitulo 10: Portafolio internacional"
      ],
      "metadata": {
        "id": "ACHTbqrdwalK"
      }
    },
    {
      "cell_type": "code",
      "execution_count": 1,
      "metadata": {
        "colab": {
          "base_uri": "https://localhost:8080/"
        },
        "id": "LFNPGbQFnEjT",
        "outputId": "8ac3d389-779e-4526-8c09-44c2f47c4b4d"
      },
      "outputs": [
        {
          "output_type": "stream",
          "name": "stdout",
          "text": [
            "\u001b[2K     \u001b[90m━━━━━━━━━━━━━━━━━━━━━━━━━━━━━━━━━━━━━━━━\u001b[0m \u001b[32m55.9/55.9 KB\u001b[0m \u001b[31m1.5 MB/s\u001b[0m eta \u001b[36m0:00:00\u001b[0m\n",
            "\u001b[2K     \u001b[90m━━━━━━━━━━━━━━━━━━━━━━━━━━━━━━━━━━━━━━━\u001b[0m \u001b[32m112.2/112.2 KB\u001b[0m \u001b[31m5.4 MB/s\u001b[0m eta \u001b[36m0:00:00\u001b[0m\n",
            "\u001b[2K     \u001b[90m━━━━━━━━━━━━━━━━━━━━━━━━━━━━━━━━━━━━━━━━\u001b[0m \u001b[32m62.8/62.8 KB\u001b[0m \u001b[31m1.5 MB/s\u001b[0m eta \u001b[36m0:00:00\u001b[0m\n",
            "\u001b[2K     \u001b[90m━━━━━━━━━━━━━━━━━━━━━━━━━━━━━━━━━━━━━━━━\u001b[0m \u001b[32m4.2/4.2 MB\u001b[0m \u001b[31m14.5 MB/s\u001b[0m eta \u001b[36m0:00:00\u001b[0m\n",
            "\u001b[2K     \u001b[90m━━━━━━━━━━━━━━━━━━━━━━━━━━━━━━━━━━━━━━━\u001b[0m \u001b[32m111.0/111.0 KB\u001b[0m \u001b[31m7.0 MB/s\u001b[0m eta \u001b[36m0:00:00\u001b[0m\n",
            "\u001b[2K     \u001b[90m━━━━━━━━━━━━━━━━━━━━━━━━━━━━━━━━━━━━━━━\u001b[0m \u001b[32m129.4/129.4 KB\u001b[0m \u001b[31m6.4 MB/s\u001b[0m eta \u001b[36m0:00:00\u001b[0m\n",
            "\u001b[?25h"
          ]
        }
      ],
      "source": [
        "#Librerías usadas\n",
        "import pandas as pd\n",
        "import numpy as np\n",
        "import matplotlib.pyplot as plt\n",
        "import statsmodels.api as sm\n",
        "%pip install --quiet yfinance\n",
        "import yfinance as yf\n",
        "import warnings\n",
        "warnings.filterwarnings(\"ignore\")"
      ]
    },
    {
      "cell_type": "markdown",
      "source": [
        "### Ejemplo 10.1: Modelo Semivarianza\n",
        "##### Retorno sistematico: BR + X\n",
        "##### Varianza sistematica: V(BR+X)"
      ],
      "metadata": {
        "id": "HGzatOBGnPVA"
      }
    },
    {
      "cell_type": "code",
      "source": [
        "# Información histórica para los mercados locales (DJI,N100,N225) y \n",
        "# las tasas de cambio (USDEUR=X, USDJPY=X)\n",
        "fechai = \"2015-12-01\"\n",
        "fechaf = \"2020-12-31\"\n",
        "periodicidad = \"1Mo\"\n",
        "mercados = ['^DJI','^N100','^N225']\n",
        "precios = yf.download(mercados,start=fechai,end=fechaf,interval=periodicidad)['Adj Close'].dropna()\n",
        "retornos = np.log(precios/precios.shift(1)).dropna()\n",
        "tasas_c = ['USDEUR=X','USDJPY=X']\n",
        "p_tasas = yf.download(tasas_c,start=fechai,end=fechaf,interval=periodicidad)['Adj Close'].dropna()\n",
        "r_tasas = np.log(p_tasas/p_tasas.shift(1)).dropna()\n",
        "retornosx = retornos.join(r_tasas)\n",
        "rx = retornosx.mean()*12\n",
        "omega = retornosx.cov()*12\n",
        "corr = retornosx.corr()\n",
        "print(rx), print(omega), print(corr)"
      ],
      "metadata": {
        "colab": {
          "base_uri": "https://localhost:8080/"
        },
        "id": "S3XhZvPjnOEp",
        "outputId": "9405f50a-6279-4144-b0e4-f851e8b79c59"
      },
      "execution_count": null,
      "outputs": [
        {
          "output_type": "stream",
          "name": "stdout",
          "text": [
            "[*********************100%***********************]  3 of 3 completed\n",
            "[*********************100%***********************]  2 of 2 completed\n",
            "^DJI        0.112661\n",
            "^N100       0.039375\n",
            "^N225       0.073188\n",
            "USDEUR=X   -0.023543\n",
            "USDJPY=X   -0.031066\n",
            "dtype: float64\n",
            "              ^DJI     ^N100     ^N225  USDEUR=X  USDJPY=X\n",
            "^DJI      0.024966  0.020444  0.022179 -0.002274  0.001345\n",
            "^N100     0.020444  0.024604  0.022407 -0.001109  0.002799\n",
            "^N225     0.022179  0.022407  0.031721 -0.001245  0.006998\n",
            "USDEUR=X -0.002274 -0.001109 -0.001245  0.003869  0.002089\n",
            "USDJPY=X  0.001345  0.002799  0.006998  0.002089  0.006460\n",
            "              ^DJI     ^N100     ^N225  USDEUR=X  USDJPY=X\n",
            "^DJI      1.000000  0.824872  0.788136 -0.231426  0.105912\n",
            "^N100     0.824872  1.000000  0.802061 -0.113677  0.222043\n",
            "^N225     0.788136  0.802061  1.000000 -0.112421  0.488873\n",
            "USDEUR=X -0.231426 -0.113677 -0.112421  1.000000  0.417802\n",
            "USDJPY=X  0.105912  0.222043  0.488873  0.417802  1.000000\n"
          ]
        },
        {
          "output_type": "execute_result",
          "data": {
            "text/plain": [
              "(None, None, None)"
            ]
          },
          "metadata": {},
          "execution_count": 31
        }
      ]
    },
    {
      "cell_type": "code",
      "source": [
        "# Load data MSCI\n",
        "msci= pd.read_csv(\"msci.csv\")[['MSCI World']]\n",
        "msci.index = precios.index\n",
        "r_msci = np.log(msci/msci.shift(1)).dropna()\n",
        "rm = r_msci.mean()*12\n",
        "sigmam = r_msci.std()*np.sqrt(12)\n",
        "round(rm,4), round(sigmam,4)"
      ],
      "metadata": {
        "colab": {
          "base_uri": "https://localhost:8080/"
        },
        "id": "rJYKjPl7oND7",
        "outputId": "405f9acf-31bf-4b48-f694-9c093a2cf638"
      },
      "execution_count": null,
      "outputs": [
        {
          "output_type": "execute_result",
          "data": {
            "text/plain": [
              "(MSCI World    0.0962\n",
              " dtype: float64, MSCI World    0.1525\n",
              " dtype: float64)"
            ]
          },
          "metadata": {},
          "execution_count": 32
        }
      ]
    },
    {
      "cell_type": "code",
      "source": [
        "# Estimación de betas - mercados locales\n",
        "ret = retornos[['^DJI','^N100','^N225']]\n",
        "n = 3\n",
        "betas = np.zeros((n,1))\n",
        "for i in range(n):\n",
        "    modelo = modelo = sm.OLS(ret.iloc[:,i], sm.add_constant(r_msci)).fit()\n",
        "    betas[i] = modelo.params[1]\n",
        "print(betas)"
      ],
      "metadata": {
        "colab": {
          "base_uri": "https://localhost:8080/"
        },
        "id": "pkq2I9aspZdi",
        "outputId": "45efcb72-001c-4a53-88fd-9cb439d9b728"
      },
      "execution_count": null,
      "outputs": [
        {
          "output_type": "stream",
          "name": "stdout",
          "text": [
            "[[0.99609352]\n",
            " [0.88692879]\n",
            " [0.93422684]]\n"
          ]
        }
      ]
    },
    {
      "cell_type": "code",
      "source": [
        "diagbetas = np.diagflat(betas)"
      ],
      "metadata": {
        "id": "mMLbZYL4zLbg"
      },
      "execution_count": null,
      "outputs": []
    },
    {
      "cell_type": "code",
      "source": [
        "# Retorno y riesgo sistemático del portafolio\n",
        "# Calculos para el portafolio inicial\n",
        "\n",
        "w = [0.4,0.3,0.3]\n",
        "f1 = [0,1,0]\n",
        "f2 = [0,0,1]\n",
        "B =  np.column_stack([diagbetas, f1, f2]).T\n",
        "Bw = B @ w\n",
        "rsp = Bw @ rx\n",
        "sigmasp = np.sqrt(Bw.T@omega@Bw)\n",
        "print('E(R+X): ', round(rsp,4)), print('V(R+X): ', round(sigmasp,4))"
      ],
      "metadata": {
        "colab": {
          "base_uri": "https://localhost:8080/"
        },
        "id": "qd5X3FnfrkdZ",
        "outputId": "b27f47ad-6c7c-405a-994e-8dace55ac625"
      },
      "execution_count": null,
      "outputs": [
        {
          "output_type": "stream",
          "name": "stdout",
          "text": [
            "E(R+X):  0.0595\n",
            "V(R+X):  0.1521\n"
          ]
        },
        {
          "output_type": "execute_result",
          "data": {
            "text/plain": [
              "(None, None)"
            ]
          },
          "metadata": {},
          "execution_count": 39
        }
      ]
    },
    {
      "cell_type": "markdown",
      "source": [
        "### Calculos Retorno esperado y Varianza de Markowitz"
      ],
      "metadata": {
        "id": "7M6qHmR2udyS"
      }
    },
    {
      "cell_type": "code",
      "source": [
        "# Calculos para el portafolio inicial\n",
        "w = [0.4,0.3,0.3]\n",
        "mu = ret.mean()*12\n",
        "sigma = ret.std()*np.sqrt(12)\n",
        "datos = pd.concat([mu, sigma], axis=1).T\n",
        "cov = ret.cov()*12\n",
        "rp = w @ mu\n",
        "sigmap = np.sqrt(w @ cov @ w)\n",
        "print('E(Rp): ', round(rp,4)), print('V(R): ', round(sigmap,4))"
      ],
      "metadata": {
        "colab": {
          "base_uri": "https://localhost:8080/"
        },
        "id": "z5yQZ-CyuQL_",
        "outputId": "dcf47f01-8487-49ef-aea7-b9d594a8906d"
      },
      "execution_count": null,
      "outputs": [
        {
          "output_type": "stream",
          "name": "stdout",
          "text": [
            "E(Rp):  0.0788\n",
            "V(R):  0.1527\n"
          ]
        },
        {
          "output_type": "execute_result",
          "data": {
            "text/plain": [
              "(None, None)"
            ]
          },
          "metadata": {},
          "execution_count": 48
        }
      ]
    },
    {
      "cell_type": "markdown",
      "source": [
        "#### Optimización del portafolio"
      ],
      "metadata": {
        "id": "Po2r8NcOtxk1"
      }
    },
    {
      "cell_type": "code",
      "source": [
        "import cvxpy as cp"
      ],
      "metadata": {
        "id": "0pwNySfItp8s"
      },
      "execution_count": null,
      "outputs": []
    },
    {
      "cell_type": "code",
      "source": [
        "# Optimización Markowitz\n",
        "n = 3\n",
        "w = cp.Variable(n)\n",
        "risk = cp.quad_form(w, cov)\n",
        "objective = cp.Minimize(risk)\n",
        "constraints = [cp.sum(w) == 1, w >= 0]\n",
        "prob = cp.Problem(objective, constraints)\n",
        "#solvers = ['SCS']\n",
        "prob.solve()\n",
        "wpo = pd.DataFrame(w.value)\n",
        "round(wpo,4)"
      ],
      "metadata": {
        "colab": {
          "base_uri": "https://localhost:8080/",
          "height": 143
        },
        "id": "6qrcJpU5zDHs",
        "outputId": "7c8ee71c-3804-4bdd-dd74-a433b1a486cd"
      },
      "execution_count": null,
      "outputs": [
        {
          "output_type": "execute_result",
          "data": {
            "text/plain": [
              "        0\n",
              "0  0.4646\n",
              "1  0.5032\n",
              "2  0.0322"
            ],
            "text/html": [
              "\n",
              "  <div id=\"df-978211d6-393d-48b8-aef6-101a1b49d09b\">\n",
              "    <div class=\"colab-df-container\">\n",
              "      <div>\n",
              "<style scoped>\n",
              "    .dataframe tbody tr th:only-of-type {\n",
              "        vertical-align: middle;\n",
              "    }\n",
              "\n",
              "    .dataframe tbody tr th {\n",
              "        vertical-align: top;\n",
              "    }\n",
              "\n",
              "    .dataframe thead th {\n",
              "        text-align: right;\n",
              "    }\n",
              "</style>\n",
              "<table border=\"1\" class=\"dataframe\">\n",
              "  <thead>\n",
              "    <tr style=\"text-align: right;\">\n",
              "      <th></th>\n",
              "      <th>0</th>\n",
              "    </tr>\n",
              "  </thead>\n",
              "  <tbody>\n",
              "    <tr>\n",
              "      <th>0</th>\n",
              "      <td>0.4646</td>\n",
              "    </tr>\n",
              "    <tr>\n",
              "      <th>1</th>\n",
              "      <td>0.5032</td>\n",
              "    </tr>\n",
              "    <tr>\n",
              "      <th>2</th>\n",
              "      <td>0.0322</td>\n",
              "    </tr>\n",
              "  </tbody>\n",
              "</table>\n",
              "</div>\n",
              "      <button class=\"colab-df-convert\" onclick=\"convertToInteractive('df-978211d6-393d-48b8-aef6-101a1b49d09b')\"\n",
              "              title=\"Convert this dataframe to an interactive table.\"\n",
              "              style=\"display:none;\">\n",
              "        \n",
              "  <svg xmlns=\"http://www.w3.org/2000/svg\" height=\"24px\"viewBox=\"0 0 24 24\"\n",
              "       width=\"24px\">\n",
              "    <path d=\"M0 0h24v24H0V0z\" fill=\"none\"/>\n",
              "    <path d=\"M18.56 5.44l.94 2.06.94-2.06 2.06-.94-2.06-.94-.94-2.06-.94 2.06-2.06.94zm-11 1L8.5 8.5l.94-2.06 2.06-.94-2.06-.94L8.5 2.5l-.94 2.06-2.06.94zm10 10l.94 2.06.94-2.06 2.06-.94-2.06-.94-.94-2.06-.94 2.06-2.06.94z\"/><path d=\"M17.41 7.96l-1.37-1.37c-.4-.4-.92-.59-1.43-.59-.52 0-1.04.2-1.43.59L10.3 9.45l-7.72 7.72c-.78.78-.78 2.05 0 2.83L4 21.41c.39.39.9.59 1.41.59.51 0 1.02-.2 1.41-.59l7.78-7.78 2.81-2.81c.8-.78.8-2.07 0-2.86zM5.41 20L4 18.59l7.72-7.72 1.47 1.35L5.41 20z\"/>\n",
              "  </svg>\n",
              "      </button>\n",
              "      \n",
              "  <style>\n",
              "    .colab-df-container {\n",
              "      display:flex;\n",
              "      flex-wrap:wrap;\n",
              "      gap: 12px;\n",
              "    }\n",
              "\n",
              "    .colab-df-convert {\n",
              "      background-color: #E8F0FE;\n",
              "      border: none;\n",
              "      border-radius: 50%;\n",
              "      cursor: pointer;\n",
              "      display: none;\n",
              "      fill: #1967D2;\n",
              "      height: 32px;\n",
              "      padding: 0 0 0 0;\n",
              "      width: 32px;\n",
              "    }\n",
              "\n",
              "    .colab-df-convert:hover {\n",
              "      background-color: #E2EBFA;\n",
              "      box-shadow: 0px 1px 2px rgba(60, 64, 67, 0.3), 0px 1px 3px 1px rgba(60, 64, 67, 0.15);\n",
              "      fill: #174EA6;\n",
              "    }\n",
              "\n",
              "    [theme=dark] .colab-df-convert {\n",
              "      background-color: #3B4455;\n",
              "      fill: #D2E3FC;\n",
              "    }\n",
              "\n",
              "    [theme=dark] .colab-df-convert:hover {\n",
              "      background-color: #434B5C;\n",
              "      box-shadow: 0px 1px 3px 1px rgba(0, 0, 0, 0.15);\n",
              "      filter: drop-shadow(0px 1px 2px rgba(0, 0, 0, 0.3));\n",
              "      fill: #FFFFFF;\n",
              "    }\n",
              "  </style>\n",
              "\n",
              "      <script>\n",
              "        const buttonEl =\n",
              "          document.querySelector('#df-978211d6-393d-48b8-aef6-101a1b49d09b button.colab-df-convert');\n",
              "        buttonEl.style.display =\n",
              "          google.colab.kernel.accessAllowed ? 'block' : 'none';\n",
              "\n",
              "        async function convertToInteractive(key) {\n",
              "          const element = document.querySelector('#df-978211d6-393d-48b8-aef6-101a1b49d09b');\n",
              "          const dataTable =\n",
              "            await google.colab.kernel.invokeFunction('convertToInteractive',\n",
              "                                                     [key], {});\n",
              "          if (!dataTable) return;\n",
              "\n",
              "          const docLinkHtml = 'Like what you see? Visit the ' +\n",
              "            '<a target=\"_blank\" href=https://colab.research.google.com/notebooks/data_table.ipynb>data table notebook</a>'\n",
              "            + ' to learn more about interactive tables.';\n",
              "          element.innerHTML = '';\n",
              "          dataTable['output_type'] = 'display_data';\n",
              "          await google.colab.output.renderOutput(dataTable, element);\n",
              "          const docLink = document.createElement('div');\n",
              "          docLink.innerHTML = docLinkHtml;\n",
              "          element.appendChild(docLink);\n",
              "        }\n",
              "      </script>\n",
              "    </div>\n",
              "  </div>\n",
              "  "
            ]
          },
          "metadata": {},
          "execution_count": 110
        }
      ]
    },
    {
      "cell_type": "code",
      "source": [
        "# Optimización Markowitz\n",
        "n = 3\n",
        "w = cp.Variable(n)\n",
        "Bw = B @ w\n",
        "sist_risk = cp.quad_form(Bw, omega)\n",
        "objective = cp.Minimize(sist_risk)\n",
        "constraints = [cp.sum(w) == 1, w >= 0]\n",
        "prob = cp.Problem(objective, constraints)\n",
        "#solvers = ['SCS']\n",
        "prob.solve()\n",
        "wps = pd.DataFrame(w.value)\n",
        "round(wps,4)"
      ],
      "metadata": {
        "colab": {
          "base_uri": "https://localhost:8080/",
          "height": 143
        },
        "id": "tVCcESQawc2U",
        "outputId": "6ef30c7a-1a52-4623-b297-59ad4dbc9ad9"
      },
      "execution_count": null,
      "outputs": [
        {
          "output_type": "execute_result",
          "data": {
            "text/plain": [
              "        0\n",
              "0  0.3782\n",
              "1  0.6218\n",
              "2 -0.0000"
            ],
            "text/html": [
              "\n",
              "  <div id=\"df-cf4262b8-74f6-46ac-ba97-5c0c3a36a8c2\">\n",
              "    <div class=\"colab-df-container\">\n",
              "      <div>\n",
              "<style scoped>\n",
              "    .dataframe tbody tr th:only-of-type {\n",
              "        vertical-align: middle;\n",
              "    }\n",
              "\n",
              "    .dataframe tbody tr th {\n",
              "        vertical-align: top;\n",
              "    }\n",
              "\n",
              "    .dataframe thead th {\n",
              "        text-align: right;\n",
              "    }\n",
              "</style>\n",
              "<table border=\"1\" class=\"dataframe\">\n",
              "  <thead>\n",
              "    <tr style=\"text-align: right;\">\n",
              "      <th></th>\n",
              "      <th>0</th>\n",
              "    </tr>\n",
              "  </thead>\n",
              "  <tbody>\n",
              "    <tr>\n",
              "      <th>0</th>\n",
              "      <td>0.3782</td>\n",
              "    </tr>\n",
              "    <tr>\n",
              "      <th>1</th>\n",
              "      <td>0.6218</td>\n",
              "    </tr>\n",
              "    <tr>\n",
              "      <th>2</th>\n",
              "      <td>-0.0000</td>\n",
              "    </tr>\n",
              "  </tbody>\n",
              "</table>\n",
              "</div>\n",
              "      <button class=\"colab-df-convert\" onclick=\"convertToInteractive('df-cf4262b8-74f6-46ac-ba97-5c0c3a36a8c2')\"\n",
              "              title=\"Convert this dataframe to an interactive table.\"\n",
              "              style=\"display:none;\">\n",
              "        \n",
              "  <svg xmlns=\"http://www.w3.org/2000/svg\" height=\"24px\"viewBox=\"0 0 24 24\"\n",
              "       width=\"24px\">\n",
              "    <path d=\"M0 0h24v24H0V0z\" fill=\"none\"/>\n",
              "    <path d=\"M18.56 5.44l.94 2.06.94-2.06 2.06-.94-2.06-.94-.94-2.06-.94 2.06-2.06.94zm-11 1L8.5 8.5l.94-2.06 2.06-.94-2.06-.94L8.5 2.5l-.94 2.06-2.06.94zm10 10l.94 2.06.94-2.06 2.06-.94-2.06-.94-.94-2.06-.94 2.06-2.06.94z\"/><path d=\"M17.41 7.96l-1.37-1.37c-.4-.4-.92-.59-1.43-.59-.52 0-1.04.2-1.43.59L10.3 9.45l-7.72 7.72c-.78.78-.78 2.05 0 2.83L4 21.41c.39.39.9.59 1.41.59.51 0 1.02-.2 1.41-.59l7.78-7.78 2.81-2.81c.8-.78.8-2.07 0-2.86zM5.41 20L4 18.59l7.72-7.72 1.47 1.35L5.41 20z\"/>\n",
              "  </svg>\n",
              "      </button>\n",
              "      \n",
              "  <style>\n",
              "    .colab-df-container {\n",
              "      display:flex;\n",
              "      flex-wrap:wrap;\n",
              "      gap: 12px;\n",
              "    }\n",
              "\n",
              "    .colab-df-convert {\n",
              "      background-color: #E8F0FE;\n",
              "      border: none;\n",
              "      border-radius: 50%;\n",
              "      cursor: pointer;\n",
              "      display: none;\n",
              "      fill: #1967D2;\n",
              "      height: 32px;\n",
              "      padding: 0 0 0 0;\n",
              "      width: 32px;\n",
              "    }\n",
              "\n",
              "    .colab-df-convert:hover {\n",
              "      background-color: #E2EBFA;\n",
              "      box-shadow: 0px 1px 2px rgba(60, 64, 67, 0.3), 0px 1px 3px 1px rgba(60, 64, 67, 0.15);\n",
              "      fill: #174EA6;\n",
              "    }\n",
              "\n",
              "    [theme=dark] .colab-df-convert {\n",
              "      background-color: #3B4455;\n",
              "      fill: #D2E3FC;\n",
              "    }\n",
              "\n",
              "    [theme=dark] .colab-df-convert:hover {\n",
              "      background-color: #434B5C;\n",
              "      box-shadow: 0px 1px 3px 1px rgba(0, 0, 0, 0.15);\n",
              "      filter: drop-shadow(0px 1px 2px rgba(0, 0, 0, 0.3));\n",
              "      fill: #FFFFFF;\n",
              "    }\n",
              "  </style>\n",
              "\n",
              "      <script>\n",
              "        const buttonEl =\n",
              "          document.querySelector('#df-cf4262b8-74f6-46ac-ba97-5c0c3a36a8c2 button.colab-df-convert');\n",
              "        buttonEl.style.display =\n",
              "          google.colab.kernel.accessAllowed ? 'block' : 'none';\n",
              "\n",
              "        async function convertToInteractive(key) {\n",
              "          const element = document.querySelector('#df-cf4262b8-74f6-46ac-ba97-5c0c3a36a8c2');\n",
              "          const dataTable =\n",
              "            await google.colab.kernel.invokeFunction('convertToInteractive',\n",
              "                                                     [key], {});\n",
              "          if (!dataTable) return;\n",
              "\n",
              "          const docLinkHtml = 'Like what you see? Visit the ' +\n",
              "            '<a target=\"_blank\" href=https://colab.research.google.com/notebooks/data_table.ipynb>data table notebook</a>'\n",
              "            + ' to learn more about interactive tables.';\n",
              "          element.innerHTML = '';\n",
              "          dataTable['output_type'] = 'display_data';\n",
              "          await google.colab.output.renderOutput(dataTable, element);\n",
              "          const docLink = document.createElement('div');\n",
              "          docLink.innerHTML = docLinkHtml;\n",
              "          element.appendChild(docLink);\n",
              "        }\n",
              "      </script>\n",
              "    </div>\n",
              "  </div>\n",
              "  "
            ]
          },
          "metadata": {},
          "execution_count": 111
        }
      ]
    }
  ]
}