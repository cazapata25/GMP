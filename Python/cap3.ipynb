{
  "nbformat": 4,
  "nbformat_minor": 0,
  "metadata": {
    "colab": {
      "provenance": [],
      "collapsed_sections": []
    },
    "kernelspec": {
      "name": "python3",
      "display_name": "Python 3"
    },
    "language_info": {
      "name": "python"
    }
  },
  "cells": [
    {
      "cell_type": "markdown",
      "source": [
        "# Gestión Moderna de portafolio\n",
        "### Autores Bernardo León y Carlos Zapata\n",
        "### Copyright 2022"
      ],
      "metadata": {
        "id": "9GZDkQogymJJ"
      }
    },
    {
      "cell_type": "markdown",
      "source": [
        "## Capitulo 3: Modelo CAPM\n",
        "\n",
        "### Ejemplos 3.1 y 3.2. Estimación de parámetros: $\\alpha_i$ y $\\beta_i$"
      ],
      "metadata": {
        "id": "YciahAtmynce"
      }
    },
    {
      "cell_type": "code",
      "execution_count": 1,
      "metadata": {
        "id": "8nvHp-woykth",
        "colab": {
          "base_uri": "https://localhost:8080/"
        },
        "outputId": "304a5d77-5488-4f68-eae3-f0de63d209bb"
      },
      "outputs": [
        {
          "output_type": "stream",
          "name": "stdout",
          "text": [
            "Looking in indexes: https://pypi.org/simple, https://us-python.pkg.dev/colab-wheels/public/simple/\n",
            "Collecting yfinance\n",
            "  Downloading yfinance-0.1.74-py2.py3-none-any.whl (27 kB)\n",
            "Requirement already satisfied: multitasking>=0.0.7 in /usr/local/lib/python3.7/dist-packages (from yfinance) (0.0.11)\n",
            "Collecting requests>=2.26\n",
            "  Downloading requests-2.28.1-py3-none-any.whl (62 kB)\n",
            "\u001b[K     |████████████████████████████████| 62 kB 1.2 MB/s \n",
            "\u001b[?25hRequirement already satisfied: numpy>=1.15 in /usr/local/lib/python3.7/dist-packages (from yfinance) (1.21.6)\n",
            "Requirement already satisfied: pandas>=0.24.0 in /usr/local/lib/python3.7/dist-packages (from yfinance) (1.3.5)\n",
            "Requirement already satisfied: lxml>=4.5.1 in /usr/local/lib/python3.7/dist-packages (from yfinance) (4.9.1)\n",
            "Requirement already satisfied: pytz>=2017.3 in /usr/local/lib/python3.7/dist-packages (from pandas>=0.24.0->yfinance) (2022.2.1)\n",
            "Requirement already satisfied: python-dateutil>=2.7.3 in /usr/local/lib/python3.7/dist-packages (from pandas>=0.24.0->yfinance) (2.8.2)\n",
            "Requirement already satisfied: six>=1.5 in /usr/local/lib/python3.7/dist-packages (from python-dateutil>=2.7.3->pandas>=0.24.0->yfinance) (1.15.0)\n",
            "Requirement already satisfied: idna<4,>=2.5 in /usr/local/lib/python3.7/dist-packages (from requests>=2.26->yfinance) (2.10)\n",
            "Requirement already satisfied: urllib3<1.27,>=1.21.1 in /usr/local/lib/python3.7/dist-packages (from requests>=2.26->yfinance) (1.24.3)\n",
            "Requirement already satisfied: certifi>=2017.4.17 in /usr/local/lib/python3.7/dist-packages (from requests>=2.26->yfinance) (2022.6.15)\n",
            "Requirement already satisfied: charset-normalizer<3,>=2 in /usr/local/lib/python3.7/dist-packages (from requests>=2.26->yfinance) (2.1.1)\n",
            "Installing collected packages: requests, yfinance\n",
            "  Attempting uninstall: requests\n",
            "    Found existing installation: requests 2.23.0\n",
            "    Uninstalling requests-2.23.0:\n",
            "      Successfully uninstalled requests-2.23.0\n",
            "Successfully installed requests-2.28.1 yfinance-0.1.74\n"
          ]
        }
      ],
      "source": [
        "#Librerías \n",
        "import pandas as pd\n",
        "import numpy as np\n",
        "import matplotlib.pyplot as plt\n",
        "from scipy import stats\n",
        "%pip install yfinance\n",
        "import yfinance as yf"
      ]
    },
    {
      "cell_type": "code",
      "source": [
        "## Estimaciones para AAPL\n",
        "# Información histórica para AAPL \n",
        "fechai = \"2015-12-01\"\n",
        "fechaf = \"2020-12-31\"\n",
        "periodicidad = \"1Mo\"\n",
        "aapl = [\"AAPL\"]\n",
        "p_aapl = yf.download(aapl,start=fechai,end=fechaf,interval=periodicidad)['Adj Close'].dropna()\n",
        "r_aapl = np.log(p_aapl/p_aapl.shift(1)).dropna()\n",
        "aapl = [\"AAPL\"]\n",
        "indice = yf.download(\"^GSPC\",start=fechai,end=fechaf,interval=periodicidad)['Adj Close'].dropna()\n",
        "r_indice = np.log(indice/indice.shift(1)).dropna()\n",
        "rm = r_indice.mean()\n",
        "sigmam = r_indice.std()\n",
        "round(rm,4), round(sigmam,4)"
      ],
      "metadata": {
        "colab": {
          "base_uri": "https://localhost:8080/"
        },
        "id": "OyF8hfJwywQm",
        "outputId": "827daabe-8dd0-47af-b51b-a74477c65006"
      },
      "execution_count": 105,
      "outputs": [
        {
          "output_type": "stream",
          "name": "stdout",
          "text": [
            "[*********************100%***********************]  1 of 1 completed\n",
            "[*********************100%***********************]  1 of 1 completed\n"
          ]
        },
        {
          "output_type": "execute_result",
          "data": {
            "text/plain": [
              "(0.0101, 0.0441)"
            ]
          },
          "metadata": {},
          "execution_count": 105
        }
      ]
    },
    {
      "cell_type": "code",
      "source": [
        "# Estimación lineal\n",
        "slope, intercept, r, p, std_err = stats.linregress(r_indice, r_aapl)\n",
        "def linestim(x):\n",
        "  return intercept + slope * x\n",
        "\n",
        "model = list(map(linestim, r_indice))"
      ],
      "metadata": {
        "id": "Y8znYyx13Ief"
      },
      "execution_count": 3,
      "outputs": []
    },
    {
      "cell_type": "code",
      "source": [
        "# Gráfico de dispersión\n",
        "fig = plt.figure(figsize = (6, 5))\n",
        "ax = fig.add_subplot(111)\n",
        "plt.plot(r_indice, r_aapl, \".\", color = 'gray')\n",
        "plt.plot(r_indice, model)\n",
        "plt.xlabel(\"Retornos del S&P 500\")\n",
        "plt.ylabel(\"Retornos de AAPL\")\n",
        "plt.show()"
      ],
      "metadata": {
        "colab": {
          "base_uri": "https://localhost:8080/",
          "height": 334
        },
        "id": "gFalX5RUzlsO",
        "outputId": "4491b4bc-4f76-444f-81d0-5400fae0e87f"
      },
      "execution_count": 4,
      "outputs": [
        {
          "output_type": "display_data",
          "data": {
            "text/plain": [
              "<Figure size 432x360 with 1 Axes>"
            ],
            "image/png": "[encoded data removed]"
          },
          "metadata": {
            "needs_background": "light"
          }
        }
      ]
    },
    {
      "cell_type": "code",
      "source": [
        "# Estimacion betas\n",
        "beta = round(slope,4)\n",
        "alpha = round(intercept,4)\n",
        "print('Beta AAPL: ', beta )\n",
        "print('Alpha AAPL: ', alpha)"
      ],
      "metadata": {
        "colab": {
          "base_uri": "https://localhost:8080/"
        },
        "id": "UmP2YxZI4Tov",
        "outputId": "63d3a4b9-5742-4e09-c3c3-b9211103a714"
      },
      "execution_count": 5,
      "outputs": [
        {
          "output_type": "stream",
          "name": "stdout",
          "text": [
            "Beta AAPL:  1.2533\n",
            "Alpha AAPL:  0.0155\n"
          ]
        }
      ]
    },
    {
      "cell_type": "code",
      "source": [
        "## Estimaciones para AAPL, AMZN, GOOG y MSFT\n",
        "# Información histórica \n",
        "fechai = \"2015-12-01\"\n",
        "fechaf = \"2020-12-31\"\n",
        "periodicidad = \"1Mo\"\n",
        "activos = [\"AAPL\",\"AMZN\",\"GOOG\",\"MSFT\"]\n",
        "precios = yf.download(activos,start=fechai,end=fechaf,interval=periodicidad)['Adj Close'].dropna()\n",
        "retornos = np.log(precios/precios.shift(1)).dropna()\n",
        "indice = yf.download(\"^GSPC\",start=fechai,end=fechaf,interval=periodicidad)['Adj Close'].dropna()\n",
        "r_indice = np.log(indice/indice.shift(1)).dropna()"
      ],
      "metadata": {
        "colab": {
          "base_uri": "https://localhost:8080/"
        },
        "id": "EMNpRaUUz6Jm",
        "outputId": "34ac6045-0d3a-4e78-f1c6-01a1bb048558"
      },
      "execution_count": 55,
      "outputs": [
        {
          "output_type": "stream",
          "name": "stdout",
          "text": [
            "[*********************100%***********************]  4 of 4 completed\n",
            "[*********************100%***********************]  1 of 1 completed\n"
          ]
        }
      ]
    },
    {
      "cell_type": "code",
      "source": [
        "# Estimaciones AAPL\n",
        "slope, intercept, r, p, se = stats.linregress(r_indice, retornos['AAPL'])\n",
        "def linestim(x):\n",
        "  return intercept + slope * x\n",
        "\n",
        "beta_aapl = slope\n",
        "alpha_aapl = intercept\n",
        "print(\"Beta: \", round(beta_aapl,4))\n",
        "print(\"Alpha: \", round(alpha_aapl,4))\n",
        "print(f\"R-squared: {r**2:.6f}\")"
      ],
      "metadata": {
        "colab": {
          "base_uri": "https://localhost:8080/"
        },
        "id": "0DuqJrcx5fsH",
        "outputId": "d49a40e6-032f-4b72-ef50-0d4a1672d1aa"
      },
      "execution_count": 56,
      "outputs": [
        {
          "output_type": "stream",
          "name": "stdout",
          "text": [
            "Beta:  1.2533\n",
            "Alpha:  0.0155\n",
            "R-squared: 0.415940\n"
          ]
        }
      ]
    },
    {
      "cell_type": "code",
      "source": [
        "# Estimación varianza del error\n",
        "t=60\n",
        "model = list(map(linestim, r_indice))\n",
        "error_aapl = (((retornos['AAPL']-model)**2).sum())/(t-1)\n",
        "round(error_aapl,4)"
      ],
      "metadata": {
        "colab": {
          "base_uri": "https://localhost:8080/"
        },
        "id": "kNh5NWz2IrTK",
        "outputId": "2b25a22c-7641-425f-bd26-a3919aa359a1"
      },
      "execution_count": 57,
      "outputs": [
        {
          "output_type": "execute_result",
          "data": {
            "text/plain": [
              "0.0043"
            ]
          },
          "metadata": {},
          "execution_count": 57
        }
      ]
    },
    {
      "cell_type": "code",
      "source": [
        "# Estimaciones AMZN\n",
        "slope, intercept, r, p, se = stats.linregress(r_indice, retornos['AMZN'])\n",
        "def linestim(x):\n",
        "  return intercept + slope * x\n",
        "\n",
        "beta_amzn = slope\n",
        "alpha_amzn = intercept\n",
        "print(\"Beta: \", round(beta_amzn,4))\n",
        "print(\"Alpha: \", round(alpha_amzn,4))\n",
        "print(f\"R-squared: {r**2:.6f}\")"
      ],
      "metadata": {
        "colab": {
          "base_uri": "https://localhost:8080/"
        },
        "id": "zM_-SOHB6KUn",
        "outputId": "88ec0ac4-f767-479e-9a3c-b067c412d488"
      },
      "execution_count": 58,
      "outputs": [
        {
          "output_type": "stream",
          "name": "stdout",
          "text": [
            "Beta:  1.162\n",
            "Alpha:  0.0144\n",
            "R-squared: 0.403685\n"
          ]
        }
      ]
    },
    {
      "cell_type": "code",
      "source": [
        "# Estimación varianza del error\n",
        "t=60\n",
        "model = list(map(linestim, r_indice))\n",
        "error_amzn = (((retornos['AMZN']-model)**2).sum())/(t-1)\n",
        "round(error_amzn,4)"
      ],
      "metadata": {
        "colab": {
          "base_uri": "https://localhost:8080/"
        },
        "id": "qxQLs0c1I57q",
        "outputId": "5d5b8ea6-3ba4-4c45-8cdb-ff23c0263bae"
      },
      "execution_count": 59,
      "outputs": [
        {
          "output_type": "execute_result",
          "data": {
            "text/plain": [
              "0.0039"
            ]
          },
          "metadata": {},
          "execution_count": 59
        }
      ]
    },
    {
      "cell_type": "code",
      "source": [
        "# Estimaciones GOOG\n",
        "slope, intercept, r, p, se = stats.linregress(r_indice, retornos['GOOG'])\n",
        "def linestim(x):\n",
        "  return intercept + slope * x\n",
        "\n",
        "beta_goog = slope\n",
        "alpha_goog = intercept\n",
        "\n",
        "print(\"Beta: \", round(beta_goog,4))\n",
        "print(\"Alpha: \", round(alpha_goog,4))\n",
        "print(f\"R-squared: {r**2:.6f}\")"
      ],
      "metadata": {
        "colab": {
          "base_uri": "https://localhost:8080/"
        },
        "id": "6FaqaJMb8zHd",
        "outputId": "4a401305-3fc7-418d-9175-e40bf7456112"
      },
      "execution_count": 61,
      "outputs": [
        {
          "output_type": "stream",
          "name": "stdout",
          "text": [
            "Beta:  0.9834\n",
            "Alpha:  0.004\n",
            "R-squared: 0.507986\n"
          ]
        }
      ]
    },
    {
      "cell_type": "code",
      "source": [
        "# Estimación varianza del error\n",
        "t=60\n",
        "model = list(map(linestim, r_indice))\n",
        "error_goog = (((retornos['GOOG']-model)**2).sum())/(t-1)\n",
        "round(error_goog,4)"
      ],
      "metadata": {
        "colab": {
          "base_uri": "https://localhost:8080/"
        },
        "id": "Y8J567gjI_VI",
        "outputId": "3c023dfa-3550-4867-9753-f1ca291acab1"
      },
      "execution_count": 62,
      "outputs": [
        {
          "output_type": "execute_result",
          "data": {
            "text/plain": [
              "0.0018"
            ]
          },
          "metadata": {},
          "execution_count": 62
        }
      ]
    },
    {
      "cell_type": "code",
      "source": [
        "# Estimaciones MSFT\n",
        "slope, intercept, r, p, se = stats.linregress(r_indice, retornos['MSFT'])\n",
        "def linestim(x):\n",
        "  return intercept + slope * x\n",
        "\n",
        "beta_msft = slope\n",
        "alpha_msft = intercept\n",
        "print(\"Beta: \", round(beta_msft,4))\n",
        "print(\"Alpha: \", round(alpha_msft,4))\n",
        "print(f\"R-squared: {r**2:.6f}\")"
      ],
      "metadata": {
        "colab": {
          "base_uri": "https://localhost:8080/"
        },
        "id": "OZT9mybb9KMg",
        "outputId": "b19f6551-eeab-42da-bb8a-d42382502b33"
      },
      "execution_count": 63,
      "outputs": [
        {
          "output_type": "stream",
          "name": "stdout",
          "text": [
            "Beta:  0.8035\n",
            "Alpha:  0.0165\n",
            "R-squared: 0.469904\n"
          ]
        }
      ]
    },
    {
      "cell_type": "code",
      "source": [
        "# Estimación varianza del error\n",
        "t=60\n",
        "model = list(map(linestim, r_indice))\n",
        "error_msft = (((retornos['MSFT']-model)**2).sum())/(t-1)\n",
        "round(error_msft,4)"
      ],
      "metadata": {
        "colab": {
          "base_uri": "https://localhost:8080/"
        },
        "id": "W6l_1CjXJDQI",
        "outputId": "f662499e-be9f-4bb2-f23f-a29268c33c4d"
      },
      "execution_count": 64,
      "outputs": [
        {
          "output_type": "execute_result",
          "data": {
            "text/plain": [
              "0.0014"
            ]
          },
          "metadata": {},
          "execution_count": 64
        }
      ]
    },
    {
      "cell_type": "code",
      "source": [
        "# Estimación de retornos esperados \n",
        "rf = 0.02/12\n",
        "re_aapl = rf + beta_aapl*(rm-rf)\n",
        "re_amzn = rf + beta_amzn*(rm-rf)\n",
        "re_goog = rf + beta_goog*(rm-rf)\n",
        "re_msft = rf + beta_msft*(rm-rf)\n",
        "\n",
        "print(\"E(R)_aapl: \", round(re_aapl,4))\n",
        "print(\"E(R)_amzn: \", round(re_amzn,4))\n",
        "print(\"E(R)_goog: \", round(re_goog,4))\n",
        "print(\"E(R)_msft: \", round(re_msft,4))"
      ],
      "metadata": {
        "colab": {
          "base_uri": "https://localhost:8080/"
        },
        "id": "8sShrw0f9VPH",
        "outputId": "3022a322-4394-4ddf-f65b-3350cc6bbf91"
      },
      "execution_count": 65,
      "outputs": [
        {
          "output_type": "stream",
          "name": "stdout",
          "text": [
            "E(R)_aapl:  0.0123\n",
            "E(R)_amzn:  0.0115\n",
            "E(R)_goog:  0.01\n",
            "E(R)_msft:  0.0085\n"
          ]
        }
      ]
    },
    {
      "cell_type": "markdown",
      "source": [
        "## Ejemplo 3.3\n",
        "## Modelo de Sharpe para portafolio óptimo"
      ],
      "metadata": {
        "id": "q88W2qbxB4FR"
      }
    },
    {
      "cell_type": "code",
      "source": [
        "round(rm,4), round(sigmam,4)"
      ],
      "metadata": {
        "id": "ftyhwZvJB8HO",
        "colab": {
          "base_uri": "https://localhost:8080/"
        },
        "outputId": "d6b40650-c4f4-4952-8d2b-12671137d2e5"
      },
      "execution_count": 106,
      "outputs": [
        {
          "output_type": "execute_result",
          "data": {
            "text/plain": [
              "(0.0101, 0.0441)"
            ]
          },
          "metadata": {},
          "execution_count": 106
        }
      ]
    },
    {
      "cell_type": "code",
      "source": [
        "mu = np.array(retornos.mean())\n",
        "n = len(mu)\n",
        "unos = np.repeat(1,n)\n",
        "sigma_error = np.array([error_aapl, error_amzn, error_goog, error_msft, sigmam**2])\n",
        "betas = np.array([beta_aapl, beta_amzn, beta_goog, beta_msft, -1])\n",
        "alphas = np.array([alpha_aapl, alpha_amzn, alpha_goog, alpha_msft, rm])\n",
        "uno = np.array([1,1,1,1,0])\n",
        "sigmaei = np.diagflat(sigma_error)\n",
        "alb = np.concatenate(([alphas],[uno],[betas])).T\n",
        "G = alb.T @ np.linalg.inv(sigmaei) @ alb"
      ],
      "metadata": {
        "id": "IrcpA3iG7q9o"
      },
      "execution_count": 108,
      "outputs": []
    },
    {
      "cell_type": "code",
      "source": [
        "# Vector resultados\n",
        "res = np.array([0.02, 1, 0])\n",
        "\n",
        "# Calculo pesos optimos\n",
        "wpo =  np.linalg.inv(sigmaei) @ alb @ np.linalg.inv(G) @ res\n",
        "wpo[0:4]"
      ],
      "metadata": {
        "colab": {
          "base_uri": "https://localhost:8080/"
        },
        "id": "ZZ7bKcJC_rnb",
        "outputId": "2e92b6b5-0be2-440a-949b-5ecdbf655c96"
      },
      "execution_count": 112,
      "outputs": [
        {
          "output_type": "execute_result",
          "data": {
            "text/plain": [
              "array([-0.02091087,  0.03251799,  0.43296791,  0.55542497])"
            ]
          },
          "metadata": {},
          "execution_count": 112
        }
      ]
    },
    {
      "cell_type": "code",
      "source": [
        "# Pesos del PMVG\n",
        "fig = plt.figure(figsize = (6, 5))\n",
        "plt.bar(activos, wpo[0:4], width = 0.4)\n",
        "plt.ylabel(\"Part. (%)\")\n",
        "plt.show()"
      ],
      "metadata": {
        "colab": {
          "base_uri": "https://localhost:8080/",
          "height": 320
        },
        "id": "_e3QFzJ8B4XN",
        "outputId": "e9bfea80-0da6-402c-b888-e01ac158e8e7"
      },
      "execution_count": 113,
      "outputs": [
        {
          "output_type": "display_data",
          "data": {
            "text/plain": [
              "<Figure size 432x360 with 1 Axes>"
            ],
            "image/png": "[encoded data removed]"
          },
          "metadata": {
            "needs_background": "light"
          }
        }
      ]
    },
    {
      "cell_type": "code",
      "source": [
        "# Construcción de la FE\n",
        "cov = retornos.cov()\n",
        "sigma = retornos.std()\n",
        "rpmin = mu.min()\n",
        "rpmax = mu.max()\n",
        "nport = 100\n",
        "\n",
        "j = np.linspace(rpmin,rpmax, nport) \n",
        "wpo = np.zeros((nport, n+1))\n",
        "rpo = np.zeros((nport,1))\n",
        "sigmapo = np.zeros((nport,1))\n",
        "\n",
        "for i in range(nport):\n",
        "  res = np.array([j[i], 1, 0])\n",
        "  wj =  np.linalg.inv(sigmaei) @ alb @ np.linalg.inv(G) @ res\n",
        "  wpo[i,:] = wj\n",
        "  rpo[i] = wj[0:n] @ mu\n",
        "  sigmapo[i] = np.sqrt( wj[0:n].T @ cov @ wj[0:n])"
      ],
      "metadata": {
        "id": "jvakkCvx-QUF"
      },
      "execution_count": 130,
      "outputs": []
    },
    {
      "cell_type": "code",
      "source": [
        "# Plano Riesgo-Retorno\n",
        "fig = plt.figure(figsize = (6, 5))\n",
        "ax = fig.add_subplot(111)\n",
        "plt.plot(sigmapo, rpo)\n",
        "plt.xlabel(\"Riesgo\")\n",
        "plt.ylabel(\"Retorno esperado\")\n",
        "plt.show()"
      ],
      "metadata": {
        "colab": {
          "base_uri": "https://localhost:8080/",
          "height": 334
        },
        "id": "qaoGHkDbCo8j",
        "outputId": "cc606acc-2ee3-4ee5-f1e6-a8f311e4d388"
      },
      "execution_count": 137,
      "outputs": [
        {
          "output_type": "display_data",
          "data": {
            "text/plain": [
              "<Figure size 432x360 with 1 Axes>"
            ],
            "image/png": "[encoded data removed]"
          },
          "metadata": {
            "needs_background": "light"
          }
        }
      ]
    },
    {
      "cell_type": "markdown",
      "source": [
        "## Ejemplos 3.4 y 3.5\n",
        "## Clasificación y optimización ussando el modelo de Treynor"
      ],
      "metadata": {
        "id": "Kubk814zB-tq"
      }
    },
    {
      "cell_type": "code",
      "source": [
        "## Información histórica \n",
        "fechai = \"2015-12-01\"\n",
        "fechaf = \"2020-12-31\"\n",
        "periodicidad = \"1Mo\"\n",
        "activos = [\"AAPL\",\"ABT\",\"AMZN\",\"CAT\",\"CSX\",\"FB\",\"GOOG\",\"HD\",\"JNJ\",\"MSFT\",\"MCD\",\"V\"]\n",
        "precios = yf.download(activos,start=fechai,end=fechaf,interval=periodicidad)['Adj Close'].dropna()\n",
        "retornos = np.log(precios/precios.shift(1)).dropna()\n",
        "indice = yf.download(\"^GSPC\",start=fechai,end=fechaf,interval=periodicidad)['Adj Close'].dropna()\n",
        "r_indice = np.log(indice/indice.shift(1)).dropna()\n",
        "rm = r_indice.mean()*12\n",
        "sigmam = (r_indice.std())*np.sqrt(12)\n",
        "round(rm,4), round(sigmam,4)"
      ],
      "metadata": {
        "colab": {
          "base_uri": "https://localhost:8080/"
        },
        "id": "0pCWtn6lCFK_",
        "outputId": "37eb0c96-7b7e-4d74-cbe2-56b50b8272b4"
      },
      "execution_count": null,
      "outputs": [
        {
          "output_type": "stream",
          "name": "stdout",
          "text": [
            "[*********************100%***********************]  12 of 12 completed\n",
            "[*********************100%***********************]  1 of 1 completed\n"
          ]
        },
        {
          "output_type": "execute_result",
          "data": {
            "text/plain": [
              "(0.1217, 0.1529)"
            ]
          },
          "metadata": {},
          "execution_count": 4
        }
      ]
    },
    {
      "cell_type": "code",
      "source": [
        "# Retornos esperados y volatilidades de los activos\n",
        "mu = retornos.mean()*12\n",
        "cov = retornos.cov()*12\n",
        "var = np.diag(cov)\n",
        "sigma = (retornos.std())*np.sqrt(12)\n",
        "estimaciones = pd.concat([mu, sigma],1).T\n",
        "estimaciones.index=[\"Retorno\",\"Riesgo\"]\n",
        "estimaciones "
      ],
      "metadata": {
        "colab": {
          "base_uri": "https://localhost:8080/",
          "height": 212
        },
        "id": "on7fBhl2CuHv",
        "outputId": "ea40477c-ddd9-48cc-f792-6a4041feba74"
      },
      "execution_count": null,
      "outputs": [
        {
          "output_type": "stream",
          "name": "stderr",
          "text": [
            "/usr/local/lib/python3.7/dist-packages/ipykernel_launcher.py:6: FutureWarning: In a future version of pandas all arguments of concat except for the argument 'objs' will be keyword-only\n",
            "  \n"
          ]
        },
        {
          "output_type": "execute_result",
          "data": {
            "text/plain": [
              "             AAPL       ABT      AMZN       CAT       CSX        FB      GOOG  \\\n",
              "Retorno  0.338850  0.197844  0.314502  0.227029  0.266688  0.191868  0.167320   \n",
              "Riesgo   0.297155  0.200081  0.279652  0.256861  0.266807  0.269973  0.210995   \n",
              "\n",
              "               HD       JNJ       MCD      MSFT         V  \n",
              "Retorno  0.162546  0.112312  0.145223  0.296015  0.214144  \n",
              "Riesgo   0.207042  0.167893  0.169892  0.179247  0.185021  "
            ],
            "text/html": [
              "\n",
              "  <div id=\"df-40a5d3ca-abe1-4430-bf3e-73b4e1019390\">\n",
              "    <div class=\"colab-df-container\">\n",
              "      <div>\n",
              "<style scoped>\n",
              "    .dataframe tbody tr th:only-of-type {\n",
              "        vertical-align: middle;\n",
              "    }\n",
              "\n",
              "    .dataframe tbody tr th {\n",
              "        vertical-align: top;\n",
              "    }\n",
              "\n",
              "    .dataframe thead th {\n",
              "        text-align: right;\n",
              "    }\n",
              "</style>\n",
              "<table border=\"1\" class=\"dataframe\">\n",
              "  <thead>\n",
              "    <tr style=\"text-align: right;\">\n",
              "      <th></th>\n",
              "      <th>AAPL</th>\n",
              "      <th>ABT</th>\n",
              "      <th>AMZN</th>\n",
              "      <th>CAT</th>\n",
              "      <th>CSX</th>\n",
              "      <th>FB</th>\n",
              "      <th>GOOG</th>\n",
              "      <th>HD</th>\n",
              "      <th>JNJ</th>\n",
              "      <th>MCD</th>\n",
              "      <th>MSFT</th>\n",
              "      <th>V</th>\n",
              "    </tr>\n",
              "  </thead>\n",
              "  <tbody>\n",
              "    <tr>\n",
              "      <th>Retorno</th>\n",
              "      <td>0.338850</td>\n",
              "      <td>0.197844</td>\n",
              "      <td>0.314502</td>\n",
              "      <td>0.227029</td>\n",
              "      <td>0.266688</td>\n",
              "      <td>0.191868</td>\n",
              "      <td>0.167320</td>\n",
              "      <td>0.162546</td>\n",
              "      <td>0.112312</td>\n",
              "      <td>0.145223</td>\n",
              "      <td>0.296015</td>\n",
              "      <td>0.214144</td>\n",
              "    </tr>\n",
              "    <tr>\n",
              "      <th>Riesgo</th>\n",
              "      <td>0.297155</td>\n",
              "      <td>0.200081</td>\n",
              "      <td>0.279652</td>\n",
              "      <td>0.256861</td>\n",
              "      <td>0.266807</td>\n",
              "      <td>0.269973</td>\n",
              "      <td>0.210995</td>\n",
              "      <td>0.207042</td>\n",
              "      <td>0.167893</td>\n",
              "      <td>0.169892</td>\n",
              "      <td>0.179247</td>\n",
              "      <td>0.185021</td>\n",
              "    </tr>\n",
              "  </tbody>\n",
              "</table>\n",
              "</div>\n",
              "      <button class=\"colab-df-convert\" onclick=\"convertToInteractive('df-40a5d3ca-abe1-4430-bf3e-73b4e1019390')\"\n",
              "              title=\"Convert this dataframe to an interactive table.\"\n",
              "              style=\"display:none;\">\n",
              "        \n",
              "  <svg xmlns=\"http://www.w3.org/2000/svg\" height=\"24px\"viewBox=\"0 0 24 24\"\n",
              "       width=\"24px\">\n",
              "    <path d=\"M0 0h24v24H0V0z\" fill=\"none\"/>\n",
              "    <path d=\"M18.56 5.44l.94 2.06.94-2.06 2.06-.94-2.06-.94-.94-2.06-.94 2.06-2.06.94zm-11 1L8.5 8.5l.94-2.06 2.06-.94-2.06-.94L8.5 2.5l-.94 2.06-2.06.94zm10 10l.94 2.06.94-2.06 2.06-.94-2.06-.94-.94-2.06-.94 2.06-2.06.94z\"/><path d=\"M17.41 7.96l-1.37-1.37c-.4-.4-.92-.59-1.43-.59-.52 0-1.04.2-1.43.59L10.3 9.45l-7.72 7.72c-.78.78-.78 2.05 0 2.83L4 21.41c.39.39.9.59 1.41.59.51 0 1.02-.2 1.41-.59l7.78-7.78 2.81-2.81c.8-.78.8-2.07 0-2.86zM5.41 20L4 18.59l7.72-7.72 1.47 1.35L5.41 20z\"/>\n",
              "  </svg>\n",
              "      </button>\n",
              "      \n",
              "  <style>\n",
              "    .colab-df-container {\n",
              "      display:flex;\n",
              "      flex-wrap:wrap;\n",
              "      gap: 12px;\n",
              "    }\n",
              "\n",
              "    .colab-df-convert {\n",
              "      background-color: #E8F0FE;\n",
              "      border: none;\n",
              "      border-radius: 50%;\n",
              "      cursor: pointer;\n",
              "      display: none;\n",
              "      fill: #1967D2;\n",
              "      height: 32px;\n",
              "      padding: 0 0 0 0;\n",
              "      width: 32px;\n",
              "    }\n",
              "\n",
              "    .colab-df-convert:hover {\n",
              "      background-color: #E2EBFA;\n",
              "      box-shadow: 0px 1px 2px rgba(60, 64, 67, 0.3), 0px 1px 3px 1px rgba(60, 64, 67, 0.15);\n",
              "      fill: #174EA6;\n",
              "    }\n",
              "\n",
              "    [theme=dark] .colab-df-convert {\n",
              "      background-color: #3B4455;\n",
              "      fill: #D2E3FC;\n",
              "    }\n",
              "\n",
              "    [theme=dark] .colab-df-convert:hover {\n",
              "      background-color: #434B5C;\n",
              "      box-shadow: 0px 1px 3px 1px rgba(0, 0, 0, 0.15);\n",
              "      filter: drop-shadow(0px 1px 2px rgba(0, 0, 0, 0.3));\n",
              "      fill: #FFFFFF;\n",
              "    }\n",
              "  </style>\n",
              "\n",
              "      <script>\n",
              "        const buttonEl =\n",
              "          document.querySelector('#df-40a5d3ca-abe1-4430-bf3e-73b4e1019390 button.colab-df-convert');\n",
              "        buttonEl.style.display =\n",
              "          google.colab.kernel.accessAllowed ? 'block' : 'none';\n",
              "\n",
              "        async function convertToInteractive(key) {\n",
              "          const element = document.querySelector('#df-40a5d3ca-abe1-4430-bf3e-73b4e1019390');\n",
              "          const dataTable =\n",
              "            await google.colab.kernel.invokeFunction('convertToInteractive',\n",
              "                                                     [key], {});\n",
              "          if (!dataTable) return;\n",
              "\n",
              "          const docLinkHtml = 'Like what you see? Visit the ' +\n",
              "            '<a target=\"_blank\" href=https://colab.research.google.com/notebooks/data_table.ipynb>data table notebook</a>'\n",
              "            + ' to learn more about interactive tables.';\n",
              "          element.innerHTML = '';\n",
              "          dataTable['output_type'] = 'display_data';\n",
              "          await google.colab.output.renderOutput(dataTable, element);\n",
              "          const docLink = document.createElement('div');\n",
              "          docLink.innerHTML = docLinkHtml;\n",
              "          element.appendChild(docLink);\n",
              "        }\n",
              "      </script>\n",
              "    </div>\n",
              "  </div>\n",
              "  "
            ]
          },
          "metadata": {},
          "execution_count": 5
        }
      ]
    },
    {
      "cell_type": "code",
      "source": [
        "# Estimaciones: betas y varerror\n",
        "n = len(mu)\n",
        "t = 60\n",
        "def linestim(x):\n",
        "  return intercept + slope * x\n",
        "\n",
        "betas = np.zeros((n,1))\n",
        "varerror = np.zeros((n,1))\n",
        "\n",
        "for i in range(n):\n",
        "  slope, intercept, r, p, se = stats.linregress(r_indice, retornos.iloc[:,i])\n",
        "  model = list(map(linestim, r_indice))\n",
        "  betas[i] = slope\n",
        "  varerror[i] = ((((retornos.iloc[:,i]-model)**2).sum())/(t-1))*12\n"
      ],
      "metadata": {
        "id": "q8OhPI7yFweq"
      },
      "execution_count": null,
      "outputs": []
    },
    {
      "cell_type": "code",
      "source": [
        "# Resultados estimaciones: betas y var error\n",
        "betas.T, varerror.T"
      ],
      "metadata": {
        "colab": {
          "base_uri": "https://localhost:8080/"
        },
        "id": "SRhe0sAlLJLY",
        "outputId": "ec715914-22b7-41e7-ea67-1cfc73304616"
      },
      "execution_count": null,
      "outputs": [
        {
          "output_type": "execute_result",
          "data": {
            "text/plain": [
              "(array([[1.25328243, 0.80660781, 1.16195437, 0.98736772, 1.18668188,\n",
              "         1.13400304, 0.98344121, 1.02720579, 0.67969719, 0.58816305,\n",
              "         0.80353982, 0.94550202]]),\n",
              " array([[0.0515733 , 0.02481899, 0.0466349 , 0.04318142, 0.03825752,\n",
              "         0.04281597, 0.02190394, 0.01819369, 0.01738544, 0.02077431,\n",
              "         0.01703169, 0.01332904]]))"
            ]
          },
          "metadata": {},
          "execution_count": 7
        }
      ]
    },
    {
      "cell_type": "code",
      "source": [
        "# Cálculo coeficiente de Treynor\n",
        "rf = 0\n",
        "mu = np.array(mu).reshape((n,1))\n",
        "betas = np.array(betas).reshape((n,1))\n",
        "treynor = (mu-rf)/betas\n",
        "treynor.T"
      ],
      "metadata": {
        "colab": {
          "base_uri": "https://localhost:8080/"
        },
        "id": "VGmWwBDCU3g4",
        "outputId": "6b780c33-05e2-4a21-f7f1-15d1c0a40029"
      },
      "execution_count": null,
      "outputs": [
        {
          "output_type": "execute_result",
          "data": {
            "text/plain": [
              "array([[0.27036979, 0.245279  , 0.27066639, 0.22993312, 0.22473391,\n",
              "        0.16919543, 0.1701375 , 0.15824047, 0.16523902, 0.24690861,\n",
              "        0.36838926, 0.22648684]])"
            ]
          },
          "metadata": {},
          "execution_count": 8
        }
      ]
    },
    {
      "cell_type": "code",
      "source": [
        "estimaciones = np.matrix(np.concatenate([np.array(treynor).reshape((n,1)),np.array(mu).reshape((n,1)), \n",
        "                                      np.array(sigma).reshape((n,1)), np.array(betas).reshape((n,1)),\n",
        "                                      np.array(varerror).reshape((n,1))],1))\n",
        "\n",
        "tabla = pd.DataFrame(estimaciones)\n",
        "tabla.columns=['Treynor','Retorno','Riesgo','Beta','VarError']\n",
        "tabla.index=activos \n",
        "tabla"
      ],
      "metadata": {
        "colab": {
          "base_uri": "https://localhost:8080/",
          "height": 426
        },
        "id": "PGT2caPGCeaR",
        "outputId": "3cf9ad6f-538a-4fe3-d3fe-7b8bcb25e5e4"
      },
      "execution_count": null,
      "outputs": [
        {
          "output_type": "execute_result",
          "data": {
            "text/plain": [
              "       Treynor   Retorno    Riesgo      Beta  VarError\n",
              "AAPL  0.270370  0.338850  0.297155  1.253282  0.051573\n",
              "ABT   0.245279  0.197844  0.200081  0.806608  0.024819\n",
              "AMZN  0.270666  0.314502  0.279652  1.161954  0.046635\n",
              "CAT   0.229933  0.227029  0.256861  0.987368  0.043181\n",
              "CSX   0.224734  0.266688  0.266807  1.186682  0.038258\n",
              "FB    0.169195  0.191868  0.269973  1.134003  0.042816\n",
              "GOOG  0.170137  0.167320  0.210995  0.983441  0.021904\n",
              "HD    0.158240  0.162546  0.207042  1.027206  0.018194\n",
              "JNJ   0.165239  0.112312  0.167893  0.679697  0.017385\n",
              "MSFT  0.246909  0.145223  0.169892  0.588163  0.020774\n",
              "MCD   0.368389  0.296015  0.179247  0.803540  0.017032\n",
              "V     0.226487  0.214144  0.185021  0.945502  0.013329"
            ],
            "text/html": [
              "\n",
              "  <div id=\"df-7bc1404b-5dda-41c7-a306-a2f767bab326\">\n",
              "    <div class=\"colab-df-container\">\n",
              "      <div>\n",
              "<style scoped>\n",
              "    .dataframe tbody tr th:only-of-type {\n",
              "        vertical-align: middle;\n",
              "    }\n",
              "\n",
              "    .dataframe tbody tr th {\n",
              "        vertical-align: top;\n",
              "    }\n",
              "\n",
              "    .dataframe thead th {\n",
              "        text-align: right;\n",
              "    }\n",
              "</style>\n",
              "<table border=\"1\" class=\"dataframe\">\n",
              "  <thead>\n",
              "    <tr style=\"text-align: right;\">\n",
              "      <th></th>\n",
              "      <th>Treynor</th>\n",
              "      <th>Retorno</th>\n",
              "      <th>Riesgo</th>\n",
              "      <th>Beta</th>\n",
              "      <th>VarError</th>\n",
              "    </tr>\n",
              "  </thead>\n",
              "  <tbody>\n",
              "    <tr>\n",
              "      <th>AAPL</th>\n",
              "      <td>0.270370</td>\n",
              "      <td>0.338850</td>\n",
              "      <td>0.297155</td>\n",
              "      <td>1.253282</td>\n",
              "      <td>0.051573</td>\n",
              "    </tr>\n",
              "    <tr>\n",
              "      <th>ABT</th>\n",
              "      <td>0.245279</td>\n",
              "      <td>0.197844</td>\n",
              "      <td>0.200081</td>\n",
              "      <td>0.806608</td>\n",
              "      <td>0.024819</td>\n",
              "    </tr>\n",
              "    <tr>\n",
              "      <th>AMZN</th>\n",
              "      <td>0.270666</td>\n",
              "      <td>0.314502</td>\n",
              "      <td>0.279652</td>\n",
              "      <td>1.161954</td>\n",
              "      <td>0.046635</td>\n",
              "    </tr>\n",
              "    <tr>\n",
              "      <th>CAT</th>\n",
              "      <td>0.229933</td>\n",
              "      <td>0.227029</td>\n",
              "      <td>0.256861</td>\n",
              "      <td>0.987368</td>\n",
              "      <td>0.043181</td>\n",
              "    </tr>\n",
              "    <tr>\n",
              "      <th>CSX</th>\n",
              "      <td>0.224734</td>\n",
              "      <td>0.266688</td>\n",
              "      <td>0.266807</td>\n",
              "      <td>1.186682</td>\n",
              "      <td>0.038258</td>\n",
              "    </tr>\n",
              "    <tr>\n",
              "      <th>FB</th>\n",
              "      <td>0.169195</td>\n",
              "      <td>0.191868</td>\n",
              "      <td>0.269973</td>\n",
              "      <td>1.134003</td>\n",
              "      <td>0.042816</td>\n",
              "    </tr>\n",
              "    <tr>\n",
              "      <th>GOOG</th>\n",
              "      <td>0.170137</td>\n",
              "      <td>0.167320</td>\n",
              "      <td>0.210995</td>\n",
              "      <td>0.983441</td>\n",
              "      <td>0.021904</td>\n",
              "    </tr>\n",
              "    <tr>\n",
              "      <th>HD</th>\n",
              "      <td>0.158240</td>\n",
              "      <td>0.162546</td>\n",
              "      <td>0.207042</td>\n",
              "      <td>1.027206</td>\n",
              "      <td>0.018194</td>\n",
              "    </tr>\n",
              "    <tr>\n",
              "      <th>JNJ</th>\n",
              "      <td>0.165239</td>\n",
              "      <td>0.112312</td>\n",
              "      <td>0.167893</td>\n",
              "      <td>0.679697</td>\n",
              "      <td>0.017385</td>\n",
              "    </tr>\n",
              "    <tr>\n",
              "      <th>MSFT</th>\n",
              "      <td>0.246909</td>\n",
              "      <td>0.145223</td>\n",
              "      <td>0.169892</td>\n",
              "      <td>0.588163</td>\n",
              "      <td>0.020774</td>\n",
              "    </tr>\n",
              "    <tr>\n",
              "      <th>MCD</th>\n",
              "      <td>0.368389</td>\n",
              "      <td>0.296015</td>\n",
              "      <td>0.179247</td>\n",
              "      <td>0.803540</td>\n",
              "      <td>0.017032</td>\n",
              "    </tr>\n",
              "    <tr>\n",
              "      <th>V</th>\n",
              "      <td>0.226487</td>\n",
              "      <td>0.214144</td>\n",
              "      <td>0.185021</td>\n",
              "      <td>0.945502</td>\n",
              "      <td>0.013329</td>\n",
              "    </tr>\n",
              "  </tbody>\n",
              "</table>\n",
              "</div>\n",
              "      <button class=\"colab-df-convert\" onclick=\"convertToInteractive('df-7bc1404b-5dda-41c7-a306-a2f767bab326')\"\n",
              "              title=\"Convert this dataframe to an interactive table.\"\n",
              "              style=\"display:none;\">\n",
              "        \n",
              "  <svg xmlns=\"http://www.w3.org/2000/svg\" height=\"24px\"viewBox=\"0 0 24 24\"\n",
              "       width=\"24px\">\n",
              "    <path d=\"M0 0h24v24H0V0z\" fill=\"none\"/>\n",
              "    <path d=\"M18.56 5.44l.94 2.06.94-2.06 2.06-.94-2.06-.94-.94-2.06-.94 2.06-2.06.94zm-11 1L8.5 8.5l.94-2.06 2.06-.94-2.06-.94L8.5 2.5l-.94 2.06-2.06.94zm10 10l.94 2.06.94-2.06 2.06-.94-2.06-.94-.94-2.06-.94 2.06-2.06.94z\"/><path d=\"M17.41 7.96l-1.37-1.37c-.4-.4-.92-.59-1.43-.59-.52 0-1.04.2-1.43.59L10.3 9.45l-7.72 7.72c-.78.78-.78 2.05 0 2.83L4 21.41c.39.39.9.59 1.41.59.51 0 1.02-.2 1.41-.59l7.78-7.78 2.81-2.81c.8-.78.8-2.07 0-2.86zM5.41 20L4 18.59l7.72-7.72 1.47 1.35L5.41 20z\"/>\n",
              "  </svg>\n",
              "      </button>\n",
              "      \n",
              "  <style>\n",
              "    .colab-df-container {\n",
              "      display:flex;\n",
              "      flex-wrap:wrap;\n",
              "      gap: 12px;\n",
              "    }\n",
              "\n",
              "    .colab-df-convert {\n",
              "      background-color: #E8F0FE;\n",
              "      border: none;\n",
              "      border-radius: 50%;\n",
              "      cursor: pointer;\n",
              "      display: none;\n",
              "      fill: #1967D2;\n",
              "      height: 32px;\n",
              "      padding: 0 0 0 0;\n",
              "      width: 32px;\n",
              "    }\n",
              "\n",
              "    .colab-df-convert:hover {\n",
              "      background-color: #E2EBFA;\n",
              "      box-shadow: 0px 1px 2px rgba(60, 64, 67, 0.3), 0px 1px 3px 1px rgba(60, 64, 67, 0.15);\n",
              "      fill: #174EA6;\n",
              "    }\n",
              "\n",
              "    [theme=dark] .colab-df-convert {\n",
              "      background-color: #3B4455;\n",
              "      fill: #D2E3FC;\n",
              "    }\n",
              "\n",
              "    [theme=dark] .colab-df-convert:hover {\n",
              "      background-color: #434B5C;\n",
              "      box-shadow: 0px 1px 3px 1px rgba(0, 0, 0, 0.15);\n",
              "      filter: drop-shadow(0px 1px 2px rgba(0, 0, 0, 0.3));\n",
              "      fill: #FFFFFF;\n",
              "    }\n",
              "  </style>\n",
              "\n",
              "      <script>\n",
              "        const buttonEl =\n",
              "          document.querySelector('#df-7bc1404b-5dda-41c7-a306-a2f767bab326 button.colab-df-convert');\n",
              "        buttonEl.style.display =\n",
              "          google.colab.kernel.accessAllowed ? 'block' : 'none';\n",
              "\n",
              "        async function convertToInteractive(key) {\n",
              "          const element = document.querySelector('#df-7bc1404b-5dda-41c7-a306-a2f767bab326');\n",
              "          const dataTable =\n",
              "            await google.colab.kernel.invokeFunction('convertToInteractive',\n",
              "                                                     [key], {});\n",
              "          if (!dataTable) return;\n",
              "\n",
              "          const docLinkHtml = 'Like what you see? Visit the ' +\n",
              "            '<a target=\"_blank\" href=https://colab.research.google.com/notebooks/data_table.ipynb>data table notebook</a>'\n",
              "            + ' to learn more about interactive tables.';\n",
              "          element.innerHTML = '';\n",
              "          dataTable['output_type'] = 'display_data';\n",
              "          await google.colab.output.renderOutput(dataTable, element);\n",
              "          const docLink = document.createElement('div');\n",
              "          docLink.innerHTML = docLinkHtml;\n",
              "          element.appendChild(docLink);\n",
              "        }\n",
              "      </script>\n",
              "    </div>\n",
              "  </div>\n",
              "  "
            ]
          },
          "metadata": {},
          "execution_count": 9
        }
      ]
    },
    {
      "cell_type": "code",
      "source": [
        "# Se ordenan los activos usando el coef. de Treynor\n",
        "tabla_sort = tabla.sort_values(by=['Treynor'],ascending=False)\n",
        "tabla_sort"
      ],
      "metadata": {
        "colab": {
          "base_uri": "https://localhost:8080/",
          "height": 426
        },
        "id": "b3icxqqESSs9",
        "outputId": "136873d8-a0f2-4f4b-e11f-eaf5374392b4"
      },
      "execution_count": null,
      "outputs": [
        {
          "output_type": "execute_result",
          "data": {
            "text/plain": [
              "       Treynor   Retorno    Riesgo      Beta  VarError\n",
              "MCD   0.368389  0.296015  0.179247  0.803540  0.017032\n",
              "AMZN  0.270666  0.314502  0.279652  1.161954  0.046635\n",
              "AAPL  0.270370  0.338850  0.297155  1.253282  0.051573\n",
              "MSFT  0.246909  0.145223  0.169892  0.588163  0.020774\n",
              "ABT   0.245279  0.197844  0.200081  0.806608  0.024819\n",
              "CAT   0.229933  0.227029  0.256861  0.987368  0.043181\n",
              "V     0.226487  0.214144  0.185021  0.945502  0.013329\n",
              "CSX   0.224734  0.266688  0.266807  1.186682  0.038258\n",
              "GOOG  0.170137  0.167320  0.210995  0.983441  0.021904\n",
              "FB    0.169195  0.191868  0.269973  1.134003  0.042816\n",
              "JNJ   0.165239  0.112312  0.167893  0.679697  0.017385\n",
              "HD    0.158240  0.162546  0.207042  1.027206  0.018194"
            ],
            "text/html": [
              "\n",
              "  <div id=\"df-059b8ddf-3d06-4bca-9d34-d94b707c8571\">\n",
              "    <div class=\"colab-df-container\">\n",
              "      <div>\n",
              "<style scoped>\n",
              "    .dataframe tbody tr th:only-of-type {\n",
              "        vertical-align: middle;\n",
              "    }\n",
              "\n",
              "    .dataframe tbody tr th {\n",
              "        vertical-align: top;\n",
              "    }\n",
              "\n",
              "    .dataframe thead th {\n",
              "        text-align: right;\n",
              "    }\n",
              "</style>\n",
              "<table border=\"1\" class=\"dataframe\">\n",
              "  <thead>\n",
              "    <tr style=\"text-align: right;\">\n",
              "      <th></th>\n",
              "      <th>Treynor</th>\n",
              "      <th>Retorno</th>\n",
              "      <th>Riesgo</th>\n",
              "      <th>Beta</th>\n",
              "      <th>VarError</th>\n",
              "    </tr>\n",
              "  </thead>\n",
              "  <tbody>\n",
              "    <tr>\n",
              "      <th>MCD</th>\n",
              "      <td>0.368389</td>\n",
              "      <td>0.296015</td>\n",
              "      <td>0.179247</td>\n",
              "      <td>0.803540</td>\n",
              "      <td>0.017032</td>\n",
              "    </tr>\n",
              "    <tr>\n",
              "      <th>AMZN</th>\n",
              "      <td>0.270666</td>\n",
              "      <td>0.314502</td>\n",
              "      <td>0.279652</td>\n",
              "      <td>1.161954</td>\n",
              "      <td>0.046635</td>\n",
              "    </tr>\n",
              "    <tr>\n",
              "      <th>AAPL</th>\n",
              "      <td>0.270370</td>\n",
              "      <td>0.338850</td>\n",
              "      <td>0.297155</td>\n",
              "      <td>1.253282</td>\n",
              "      <td>0.051573</td>\n",
              "    </tr>\n",
              "    <tr>\n",
              "      <th>MSFT</th>\n",
              "      <td>0.246909</td>\n",
              "      <td>0.145223</td>\n",
              "      <td>0.169892</td>\n",
              "      <td>0.588163</td>\n",
              "      <td>0.020774</td>\n",
              "    </tr>\n",
              "    <tr>\n",
              "      <th>ABT</th>\n",
              "      <td>0.245279</td>\n",
              "      <td>0.197844</td>\n",
              "      <td>0.200081</td>\n",
              "      <td>0.806608</td>\n",
              "      <td>0.024819</td>\n",
              "    </tr>\n",
              "    <tr>\n",
              "      <th>CAT</th>\n",
              "      <td>0.229933</td>\n",
              "      <td>0.227029</td>\n",
              "      <td>0.256861</td>\n",
              "      <td>0.987368</td>\n",
              "      <td>0.043181</td>\n",
              "    </tr>\n",
              "    <tr>\n",
              "      <th>V</th>\n",
              "      <td>0.226487</td>\n",
              "      <td>0.214144</td>\n",
              "      <td>0.185021</td>\n",
              "      <td>0.945502</td>\n",
              "      <td>0.013329</td>\n",
              "    </tr>\n",
              "    <tr>\n",
              "      <th>CSX</th>\n",
              "      <td>0.224734</td>\n",
              "      <td>0.266688</td>\n",
              "      <td>0.266807</td>\n",
              "      <td>1.186682</td>\n",
              "      <td>0.038258</td>\n",
              "    </tr>\n",
              "    <tr>\n",
              "      <th>GOOG</th>\n",
              "      <td>0.170137</td>\n",
              "      <td>0.167320</td>\n",
              "      <td>0.210995</td>\n",
              "      <td>0.983441</td>\n",
              "      <td>0.021904</td>\n",
              "    </tr>\n",
              "    <tr>\n",
              "      <th>FB</th>\n",
              "      <td>0.169195</td>\n",
              "      <td>0.191868</td>\n",
              "      <td>0.269973</td>\n",
              "      <td>1.134003</td>\n",
              "      <td>0.042816</td>\n",
              "    </tr>\n",
              "    <tr>\n",
              "      <th>JNJ</th>\n",
              "      <td>0.165239</td>\n",
              "      <td>0.112312</td>\n",
              "      <td>0.167893</td>\n",
              "      <td>0.679697</td>\n",
              "      <td>0.017385</td>\n",
              "    </tr>\n",
              "    <tr>\n",
              "      <th>HD</th>\n",
              "      <td>0.158240</td>\n",
              "      <td>0.162546</td>\n",
              "      <td>0.207042</td>\n",
              "      <td>1.027206</td>\n",
              "      <td>0.018194</td>\n",
              "    </tr>\n",
              "  </tbody>\n",
              "</table>\n",
              "</div>\n",
              "      <button class=\"colab-df-convert\" onclick=\"convertToInteractive('df-059b8ddf-3d06-4bca-9d34-d94b707c8571')\"\n",
              "              title=\"Convert this dataframe to an interactive table.\"\n",
              "              style=\"display:none;\">\n",
              "        \n",
              "  <svg xmlns=\"http://www.w3.org/2000/svg\" height=\"24px\"viewBox=\"0 0 24 24\"\n",
              "       width=\"24px\">\n",
              "    <path d=\"M0 0h24v24H0V0z\" fill=\"none\"/>\n",
              "    <path d=\"M18.56 5.44l.94 2.06.94-2.06 2.06-.94-2.06-.94-.94-2.06-.94 2.06-2.06.94zm-11 1L8.5 8.5l.94-2.06 2.06-.94-2.06-.94L8.5 2.5l-.94 2.06-2.06.94zm10 10l.94 2.06.94-2.06 2.06-.94-2.06-.94-.94-2.06-.94 2.06-2.06.94z\"/><path d=\"M17.41 7.96l-1.37-1.37c-.4-.4-.92-.59-1.43-.59-.52 0-1.04.2-1.43.59L10.3 9.45l-7.72 7.72c-.78.78-.78 2.05 0 2.83L4 21.41c.39.39.9.59 1.41.59.51 0 1.02-.2 1.41-.59l7.78-7.78 2.81-2.81c.8-.78.8-2.07 0-2.86zM5.41 20L4 18.59l7.72-7.72 1.47 1.35L5.41 20z\"/>\n",
              "  </svg>\n",
              "      </button>\n",
              "      \n",
              "  <style>\n",
              "    .colab-df-container {\n",
              "      display:flex;\n",
              "      flex-wrap:wrap;\n",
              "      gap: 12px;\n",
              "    }\n",
              "\n",
              "    .colab-df-convert {\n",
              "      background-color: #E8F0FE;\n",
              "      border: none;\n",
              "      border-radius: 50%;\n",
              "      cursor: pointer;\n",
              "      display: none;\n",
              "      fill: #1967D2;\n",
              "      height: 32px;\n",
              "      padding: 0 0 0 0;\n",
              "      width: 32px;\n",
              "    }\n",
              "\n",
              "    .colab-df-convert:hover {\n",
              "      background-color: #E2EBFA;\n",
              "      box-shadow: 0px 1px 2px rgba(60, 64, 67, 0.3), 0px 1px 3px 1px rgba(60, 64, 67, 0.15);\n",
              "      fill: #174EA6;\n",
              "    }\n",
              "\n",
              "    [theme=dark] .colab-df-convert {\n",
              "      background-color: #3B4455;\n",
              "      fill: #D2E3FC;\n",
              "    }\n",
              "\n",
              "    [theme=dark] .colab-df-convert:hover {\n",
              "      background-color: #434B5C;\n",
              "      box-shadow: 0px 1px 3px 1px rgba(0, 0, 0, 0.15);\n",
              "      filter: drop-shadow(0px 1px 2px rgba(0, 0, 0, 0.3));\n",
              "      fill: #FFFFFF;\n",
              "    }\n",
              "  </style>\n",
              "\n",
              "      <script>\n",
              "        const buttonEl =\n",
              "          document.querySelector('#df-059b8ddf-3d06-4bca-9d34-d94b707c8571 button.colab-df-convert');\n",
              "        buttonEl.style.display =\n",
              "          google.colab.kernel.accessAllowed ? 'block' : 'none';\n",
              "\n",
              "        async function convertToInteractive(key) {\n",
              "          const element = document.querySelector('#df-059b8ddf-3d06-4bca-9d34-d94b707c8571');\n",
              "          const dataTable =\n",
              "            await google.colab.kernel.invokeFunction('convertToInteractive',\n",
              "                                                     [key], {});\n",
              "          if (!dataTable) return;\n",
              "\n",
              "          const docLinkHtml = 'Like what you see? Visit the ' +\n",
              "            '<a target=\"_blank\" href=https://colab.research.google.com/notebooks/data_table.ipynb>data table notebook</a>'\n",
              "            + ' to learn more about interactive tables.';\n",
              "          element.innerHTML = '';\n",
              "          dataTable['output_type'] = 'display_data';\n",
              "          await google.colab.output.renderOutput(dataTable, element);\n",
              "          const docLink = document.createElement('div');\n",
              "          docLink.innerHTML = docLinkHtml;\n",
              "          element.appendChild(docLink);\n",
              "        }\n",
              "      </script>\n",
              "    </div>\n",
              "  </div>\n",
              "  "
            ]
          },
          "metadata": {},
          "execution_count": 10
        }
      ]
    },
    {
      "cell_type": "code",
      "source": [
        "# Se calcula la tasa de corte y se estiman los pesos óptimos\n",
        "ratio1 = ((tabla_sort['Retorno']-rf)*tabla_sort['Beta'])/tabla_sort['VarError']\n",
        "ratio2 = tabla_sort['Beta']**2/tabla_sort['VarError']\n",
        "\n",
        "sumacu1 = ratio1.cumsum()\n",
        "sumacu2 = ratio2.cumsum()\n",
        "tasac = (sigmam**2 * sumacu1)/(1+ sigmam**2 * sumacu2)\n",
        "cuttoff = tasac.max()"
      ],
      "metadata": {
        "id": "jng8hmTBbR7w"
      },
      "execution_count": null,
      "outputs": []
    },
    {
      "cell_type": "code",
      "source": [],
      "metadata": {
        "colab": {
          "base_uri": "https://localhost:8080/",
          "height": 294
        },
        "id": "ZWuaflkRu49U",
        "outputId": "4b064f64-d85b-4d2f-b851-9fc0cd8825b7"
      },
      "execution_count": null,
      "outputs": [
        {
          "output_type": "error",
          "ename": "AttributeError",
          "evalue": "ignored",
          "traceback": [
            "\u001b[0;31m---------------------------------------------------------------------------\u001b[0m",
            "\u001b[0;31mAttributeError\u001b[0m                            Traceback (most recent call last)",
            "\u001b[0;32m<ipython-input-29-3d7026abc2c6>\u001b[0m in \u001b[0;36m<module>\u001b[0;34m()\u001b[0m\n\u001b[0;32m----> 1\u001b[0;31m \u001b[0mpd\u001b[0m\u001b[0;34m.\u001b[0m\u001b[0mDataFrame\u001b[0m\u001b[0;34m(\u001b[0m\u001b[0mwi\u001b[0m\u001b[0;34m)\u001b[0m\u001b[0;34m.\u001b[0m\u001b[0msort\u001b[0m\u001b[0;34m(\u001b[0m\u001b[0maxis\u001b[0m\u001b[0;34m=\u001b[0m\u001b[0;36m0\u001b[0m\u001b[0;34m)\u001b[0m\u001b[0;34m\u001b[0m\u001b[0;34m\u001b[0m\u001b[0m\n\u001b[0m",
            "\u001b[0;32m/usr/local/lib/python3.7/dist-packages/pandas/core/generic.py\u001b[0m in \u001b[0;36m__getattr__\u001b[0;34m(self, name)\u001b[0m\n\u001b[1;32m   5485\u001b[0m         ):\n\u001b[1;32m   5486\u001b[0m             \u001b[0;32mreturn\u001b[0m \u001b[0mself\u001b[0m\u001b[0;34m[\u001b[0m\u001b[0mname\u001b[0m\u001b[0;34m]\u001b[0m\u001b[0;34m\u001b[0m\u001b[0;34m\u001b[0m\u001b[0m\n\u001b[0;32m-> 5487\u001b[0;31m         \u001b[0;32mreturn\u001b[0m \u001b[0mobject\u001b[0m\u001b[0;34m.\u001b[0m\u001b[0m__getattribute__\u001b[0m\u001b[0;34m(\u001b[0m\u001b[0mself\u001b[0m\u001b[0;34m,\u001b[0m \u001b[0mname\u001b[0m\u001b[0;34m)\u001b[0m\u001b[0;34m\u001b[0m\u001b[0;34m\u001b[0m\u001b[0m\n\u001b[0m\u001b[1;32m   5488\u001b[0m \u001b[0;34m\u001b[0m\u001b[0m\n\u001b[1;32m   5489\u001b[0m     \u001b[0;32mdef\u001b[0m \u001b[0m__setattr__\u001b[0m\u001b[0;34m(\u001b[0m\u001b[0mself\u001b[0m\u001b[0;34m,\u001b[0m \u001b[0mname\u001b[0m\u001b[0;34m:\u001b[0m \u001b[0mstr\u001b[0m\u001b[0;34m,\u001b[0m \u001b[0mvalue\u001b[0m\u001b[0;34m)\u001b[0m \u001b[0;34m->\u001b[0m \u001b[0;32mNone\u001b[0m\u001b[0;34m:\u001b[0m\u001b[0;34m\u001b[0m\u001b[0;34m\u001b[0m\u001b[0m\n",
            "\u001b[0;31mAttributeError\u001b[0m: 'DataFrame' object has no attribute 'sort'"
          ]
        }
      ]
    },
    {
      "cell_type": "code",
      "source": [
        "Zi = (tabla_sort['Beta']/tabla_sort['VarError'])*(tabla_sort['Treynor']-cuttoff)\n",
        "Zi = Zi.mask(Zi<0, 0)\n",
        "wi = round(Zi/sum(Zi),4)\n",
        "wpot = round(wi,4)\n",
        "wpot\n",
        "#rpot = wpot @ mu\n",
        "#sigmapot = np.sqrt(wpot.T @ cov @ wpot)\n",
        "#rpot,  sigmapot"
      ],
      "metadata": {
        "colab": {
          "base_uri": "https://localhost:8080/"
        },
        "id": "ThNARqmCbqbp",
        "outputId": "adf12e8b-3db8-49fe-d951-38fbe9bdabe5"
      },
      "execution_count": null,
      "outputs": [
        {
          "output_type": "execute_result",
          "data": {
            "text/plain": [
              "MCD     0.6292\n",
              "AMZN    0.1078\n",
              "AAPL    0.1044\n",
              "MSFT    0.0604\n",
              "ABT     0.0645\n",
              "CAT     0.0130\n",
              "V       0.0179\n",
              "CSX     0.0028\n",
              "GOOG    0.0000\n",
              "FB      0.0000\n",
              "JNJ     0.0000\n",
              "HD      0.0000\n",
              "dtype: float64"
            ]
          },
          "metadata": {},
          "execution_count": 31
        }
      ]
    },
    {
      "cell_type": "code",
      "source": [
        "# Pesos del Portafolio de Treynor\n",
        "fig = plt.figure(figsize = (6, 5))\n",
        "plt.bar(activos, wpot, width = 0.4)\n",
        "plt.ylabel(\"Part. (%)\")\n",
        "plt.show()"
      ],
      "metadata": {
        "colab": {
          "base_uri": "https://localhost:8080/",
          "height": 320
        },
        "id": "xdXJ9xLAeGL2",
        "outputId": "3d43f292-8963-4fb2-e0b7-0ade21ed5419"
      },
      "execution_count": null,
      "outputs": [
        {
          "output_type": "display_data",
          "data": {
            "text/plain": [
              "<Figure size 432x360 with 1 Axes>"
            ],
            "image/png": "[encoded data removed]"
          },
          "metadata": {
            "needs_background": "light"
          }
        }
      ]
    }
  ]
}