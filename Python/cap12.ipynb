{
  "nbformat": 4,
  "nbformat_minor": 0,
  "metadata": {
    "colab": {
      "provenance": []
    },
    "kernelspec": {
      "name": "python3",
      "display_name": "Python 3"
    },
    "language_info": {
      "name": "python"
    }
  },
  "cells": [
    {
      "cell_type": "markdown",
      "source": [
        "# Gestión Moderna de Portafolio\n",
        "### Autores Bernardo León y Carlos Zapata\n",
        "### (C) Copyright 2023"
      ],
      "metadata": {
        "id": "Y03WXpyCDS80"
      }
    },
    {
      "cell_type": "markdown",
      "source": [
        "## Capitulo 12: Modelo Black-Litterman"
      ],
      "metadata": {
        "id": "Rzc2FXbuwxJJ"
      }
    },
    {
      "cell_type": "code",
      "execution_count": 1,
      "metadata": {
        "colab": {
          "base_uri": "https://localhost:8080/"
        },
        "id": "dEETNBoLDSdL",
        "outputId": "5ed6a4d1-7d34-4c1d-af2a-a83bf2e88620"
      },
      "outputs": [
        {
          "output_type": "stream",
          "name": "stdout",
          "text": [
            "\u001b[2K     \u001b[90m━━━━━━━━━━━━━━━━━━━━━━━━━━━━━━━━━━━━━━━━\u001b[0m \u001b[32m55.9/55.9 KB\u001b[0m \u001b[31m1.8 MB/s\u001b[0m eta \u001b[36m0:00:00\u001b[0m\n",
            "\u001b[2K     \u001b[90m━━━━━━━━━━━━━━━━━━━━━━━━━━━━━━━━━━━━━━━\u001b[0m \u001b[32m111.0/111.0 KB\u001b[0m \u001b[31m4.9 MB/s\u001b[0m eta \u001b[36m0:00:00\u001b[0m\n",
            "\u001b[2K     \u001b[90m━━━━━━━━━━━━━━━━━━━━━━━━━━━━━━━━━━━━━━━━\u001b[0m \u001b[32m4.2/4.2 MB\u001b[0m \u001b[31m16.0 MB/s\u001b[0m eta \u001b[36m0:00:00\u001b[0m\n",
            "\u001b[2K     \u001b[90m━━━━━━━━━━━━━━━━━━━━━━━━━━━━━━━━━━━━━━━\u001b[0m \u001b[32m112.2/112.2 KB\u001b[0m \u001b[31m5.3 MB/s\u001b[0m eta \u001b[36m0:00:00\u001b[0m\n",
            "\u001b[2K     \u001b[90m━━━━━━━━━━━━━━━━━━━━━━━━━━━━━━━━━━━━━━━━\u001b[0m \u001b[32m62.8/62.8 KB\u001b[0m \u001b[31m1.1 MB/s\u001b[0m eta \u001b[36m0:00:00\u001b[0m\n",
            "\u001b[2K     \u001b[90m━━━━━━━━━━━━━━━━━━━━━━━━━━━━━━━━━━━━━━━\u001b[0m \u001b[32m129.4/129.4 KB\u001b[0m \u001b[31m6.4 MB/s\u001b[0m eta \u001b[36m0:00:00\u001b[0m\n",
            "\u001b[?25h"
          ]
        }
      ],
      "source": [
        "#Librerías usadas\n",
        "import pandas as pd\n",
        "import numpy as np\n",
        "import matplotlib.pyplot as plt\n",
        "%pip install --quiet yfinance\n",
        "import yfinance as yf\n",
        "import warnings\n",
        "warnings.filterwarnings(\"ignore\")"
      ]
    },
    {
      "cell_type": "code",
      "source": [
        "# Información histórica dentro de muetsra (In-sample) para las acciones\n",
        "fechai = \"2015-12-01\"\n",
        "fechaf = \"2020-12-31\"\n",
        "periodicidad = \"1Mo\"\n",
        "activos = [\"ADBE\",\"MCD\",\"MSCI\",\"MSFT\",\"NEE\",\"PG\",\"RSG\",\"WMT\"]\n",
        "precios = yf.download(activos,start=fechai,end=fechaf,interval=periodicidad)['Adj Close'].dropna()\n",
        "retornos = np.log(precios/precios.shift(1)).dropna()\n",
        "mu = retornos.mean()*12\n",
        "cov = retornos.cov()*12\n",
        "sigma= retornos.std()*np.sqrt(12)\n",
        "n = len(mu)"
      ],
      "metadata": {
        "colab": {
          "base_uri": "https://localhost:8080/"
        },
        "id": "rbPNV-yxDhtU",
        "outputId": "7d4e6a54-2275-4ddd-f547-3ed8e9267f5e"
      },
      "execution_count": null,
      "outputs": [
        {
          "output_type": "stream",
          "name": "stdout",
          "text": [
            "[*********************100%***********************]  8 of 8 completed\n"
          ]
        }
      ]
    },
    {
      "cell_type": "code",
      "source": [
        "indice = [\"^GSPC\"]\n",
        "p_indice = yf.download(indice,start=fechai,end=fechaf,interval=periodicidad)['Adj Close'].dropna()\n",
        "r_indice = np.log(p_indice/p_indice.shift(1)).dropna()\n",
        "rpm = r_indice.mean()*12\n",
        "sigmapm = r_indice.std()*np.sqrt(12)"
      ],
      "metadata": {
        "colab": {
          "base_uri": "https://localhost:8080/"
        },
        "id": "tMM0Dw0YD-mV",
        "outputId": "4e66b6c8-9523-49f8-e9cb-aceb7e63e69e"
      },
      "execution_count": null,
      "outputs": [
        {
          "output_type": "stream",
          "name": "stdout",
          "text": [
            "\r[*********************100%***********************]  1 of 1 completed\n"
          ]
        }
      ]
    },
    {
      "cell_type": "code",
      "source": [
        "# Estimación de betas \n",
        "from scipy import stats\n",
        "t =len(retornos)\n",
        "def linestim(x):\n",
        "  return intercept + slope * x\n",
        "betas = np.zeros((n,1))\n",
        "\n",
        "for i in range(n):\n",
        "  slope, intercept, r, p, se = stats.linregress(r_indice, retornos.iloc[:,i])\n",
        "  model = list(map(linestim, r_indice))\n",
        "  betas[i] = slope\n",
        "\n",
        "betas= pd.DataFrame(betas.T,columns=activos)"
      ],
      "metadata": {
        "id": "qGKiqXJAEoU4"
      },
      "execution_count": null,
      "outputs": []
    },
    {
      "cell_type": "code",
      "source": [
        "# Retornos de equilibrio\n",
        "rf = 0\n",
        "pi = betas * (rpm-rf)"
      ],
      "metadata": {
        "id": "hSENLgM-GXWb"
      },
      "execution_count": null,
      "outputs": []
    },
    {
      "cell_type": "code",
      "source": [
        "datos = pd.concat({'Retornos':pd.DataFrame(mu),'Volatilidades':pd.DataFrame(sigma),'Betas':betas.T, 'Pi' : pi.T},axis=1).T\n",
        "datos"
      ],
      "metadata": {
        "colab": {
          "base_uri": "https://localhost:8080/",
          "height": 175
        },
        "id": "jKkM_pOcEBlt",
        "outputId": "ea66b622-56af-4953-8b63-55d4c83ee4a7"
      },
      "execution_count": null,
      "outputs": [
        {
          "output_type": "execute_result",
          "data": {
            "text/plain": [
              "                     ADBE       MCD      MSCI      MSFT       NEE        PG  \\\n",
              "Retornos      0  0.334438  0.145223  0.376101  0.296015  0.243359  0.142153   \n",
              "Volatilidades 0  0.217030  0.169892  0.214384  0.179247  0.158507  0.141348   \n",
              "Betas         0  0.956521  0.588163  0.863442  0.803540  0.163976  0.377036   \n",
              "Pi            0  0.116407  0.071579  0.105080  0.097790  0.019956  0.045885   \n",
              "\n",
              "                      RSG       WMT  \n",
              "Retornos      0  0.177710  0.194796  \n",
              "Volatilidades 0  0.148402  0.174636  \n",
              "Betas         0  0.672420  0.414432  \n",
              "Pi            0  0.081833  0.050436  "
            ],
            "text/html": [
              "\n",
              "  <div id=\"df-c7870c12-20b7-424a-ab04-79e07cffc177\">\n",
              "    <div class=\"colab-df-container\">\n",
              "      <div>\n",
              "<style scoped>\n",
              "    .dataframe tbody tr th:only-of-type {\n",
              "        vertical-align: middle;\n",
              "    }\n",
              "\n",
              "    .dataframe tbody tr th {\n",
              "        vertical-align: top;\n",
              "    }\n",
              "\n",
              "    .dataframe thead th {\n",
              "        text-align: right;\n",
              "    }\n",
              "</style>\n",
              "<table border=\"1\" class=\"dataframe\">\n",
              "  <thead>\n",
              "    <tr style=\"text-align: right;\">\n",
              "      <th></th>\n",
              "      <th></th>\n",
              "      <th>ADBE</th>\n",
              "      <th>MCD</th>\n",
              "      <th>MSCI</th>\n",
              "      <th>MSFT</th>\n",
              "      <th>NEE</th>\n",
              "      <th>PG</th>\n",
              "      <th>RSG</th>\n",
              "      <th>WMT</th>\n",
              "    </tr>\n",
              "  </thead>\n",
              "  <tbody>\n",
              "    <tr>\n",
              "      <th>Retornos</th>\n",
              "      <th>0</th>\n",
              "      <td>0.334438</td>\n",
              "      <td>0.145223</td>\n",
              "      <td>0.376101</td>\n",
              "      <td>0.296015</td>\n",
              "      <td>0.243359</td>\n",
              "      <td>0.142153</td>\n",
              "      <td>0.177710</td>\n",
              "      <td>0.194796</td>\n",
              "    </tr>\n",
              "    <tr>\n",
              "      <th>Volatilidades</th>\n",
              "      <th>0</th>\n",
              "      <td>0.217030</td>\n",
              "      <td>0.169892</td>\n",
              "      <td>0.214384</td>\n",
              "      <td>0.179247</td>\n",
              "      <td>0.158507</td>\n",
              "      <td>0.141348</td>\n",
              "      <td>0.148402</td>\n",
              "      <td>0.174636</td>\n",
              "    </tr>\n",
              "    <tr>\n",
              "      <th>Betas</th>\n",
              "      <th>0</th>\n",
              "      <td>0.956521</td>\n",
              "      <td>0.588163</td>\n",
              "      <td>0.863442</td>\n",
              "      <td>0.803540</td>\n",
              "      <td>0.163976</td>\n",
              "      <td>0.377036</td>\n",
              "      <td>0.672420</td>\n",
              "      <td>0.414432</td>\n",
              "    </tr>\n",
              "    <tr>\n",
              "      <th>Pi</th>\n",
              "      <th>0</th>\n",
              "      <td>0.116407</td>\n",
              "      <td>0.071579</td>\n",
              "      <td>0.105080</td>\n",
              "      <td>0.097790</td>\n",
              "      <td>0.019956</td>\n",
              "      <td>0.045885</td>\n",
              "      <td>0.081833</td>\n",
              "      <td>0.050436</td>\n",
              "    </tr>\n",
              "  </tbody>\n",
              "</table>\n",
              "</div>\n",
              "      <button class=\"colab-df-convert\" onclick=\"convertToInteractive('df-c7870c12-20b7-424a-ab04-79e07cffc177')\"\n",
              "              title=\"Convert this dataframe to an interactive table.\"\n",
              "              style=\"display:none;\">\n",
              "        \n",
              "  <svg xmlns=\"http://www.w3.org/2000/svg\" height=\"24px\"viewBox=\"0 0 24 24\"\n",
              "       width=\"24px\">\n",
              "    <path d=\"M0 0h24v24H0V0z\" fill=\"none\"/>\n",
              "    <path d=\"M18.56 5.44l.94 2.06.94-2.06 2.06-.94-2.06-.94-.94-2.06-.94 2.06-2.06.94zm-11 1L8.5 8.5l.94-2.06 2.06-.94-2.06-.94L8.5 2.5l-.94 2.06-2.06.94zm10 10l.94 2.06.94-2.06 2.06-.94-2.06-.94-.94-2.06-.94 2.06-2.06.94z\"/><path d=\"M17.41 7.96l-1.37-1.37c-.4-.4-.92-.59-1.43-.59-.52 0-1.04.2-1.43.59L10.3 9.45l-7.72 7.72c-.78.78-.78 2.05 0 2.83L4 21.41c.39.39.9.59 1.41.59.51 0 1.02-.2 1.41-.59l7.78-7.78 2.81-2.81c.8-.78.8-2.07 0-2.86zM5.41 20L4 18.59l7.72-7.72 1.47 1.35L5.41 20z\"/>\n",
              "  </svg>\n",
              "      </button>\n",
              "      \n",
              "  <style>\n",
              "    .colab-df-container {\n",
              "      display:flex;\n",
              "      flex-wrap:wrap;\n",
              "      gap: 12px;\n",
              "    }\n",
              "\n",
              "    .colab-df-convert {\n",
              "      background-color: #E8F0FE;\n",
              "      border: none;\n",
              "      border-radius: 50%;\n",
              "      cursor: pointer;\n",
              "      display: none;\n",
              "      fill: #1967D2;\n",
              "      height: 32px;\n",
              "      padding: 0 0 0 0;\n",
              "      width: 32px;\n",
              "    }\n",
              "\n",
              "    .colab-df-convert:hover {\n",
              "      background-color: #E2EBFA;\n",
              "      box-shadow: 0px 1px 2px rgba(60, 64, 67, 0.3), 0px 1px 3px 1px rgba(60, 64, 67, 0.15);\n",
              "      fill: #174EA6;\n",
              "    }\n",
              "\n",
              "    [theme=dark] .colab-df-convert {\n",
              "      background-color: #3B4455;\n",
              "      fill: #D2E3FC;\n",
              "    }\n",
              "\n",
              "    [theme=dark] .colab-df-convert:hover {\n",
              "      background-color: #434B5C;\n",
              "      box-shadow: 0px 1px 3px 1px rgba(0, 0, 0, 0.15);\n",
              "      filter: drop-shadow(0px 1px 2px rgba(0, 0, 0, 0.3));\n",
              "      fill: #FFFFFF;\n",
              "    }\n",
              "  </style>\n",
              "\n",
              "      <script>\n",
              "        const buttonEl =\n",
              "          document.querySelector('#df-c7870c12-20b7-424a-ab04-79e07cffc177 button.colab-df-convert');\n",
              "        buttonEl.style.display =\n",
              "          google.colab.kernel.accessAllowed ? 'block' : 'none';\n",
              "\n",
              "        async function convertToInteractive(key) {\n",
              "          const element = document.querySelector('#df-c7870c12-20b7-424a-ab04-79e07cffc177');\n",
              "          const dataTable =\n",
              "            await google.colab.kernel.invokeFunction('convertToInteractive',\n",
              "                                                     [key], {});\n",
              "          if (!dataTable) return;\n",
              "\n",
              "          const docLinkHtml = 'Like what you see? Visit the ' +\n",
              "            '<a target=\"_blank\" href=https://colab.research.google.com/notebooks/data_table.ipynb>data table notebook</a>'\n",
              "            + ' to learn more about interactive tables.';\n",
              "          element.innerHTML = '';\n",
              "          dataTable['output_type'] = 'display_data';\n",
              "          await google.colab.output.renderOutput(dataTable, element);\n",
              "          const docLink = document.createElement('div');\n",
              "          docLink.innerHTML = docLinkHtml;\n",
              "          element.appendChild(docLink);\n",
              "        }\n",
              "      </script>\n",
              "    </div>\n",
              "  </div>\n",
              "  "
            ]
          },
          "metadata": {},
          "execution_count": 62
        }
      ]
    },
    {
      "cell_type": "code",
      "source": [
        "# Pesos portafolio de equilibrio\n",
        "delta = (rpm - rf)/sigmapm**2\n",
        "wpequi = ((np.linalg.inv(delta*cov) @ pi.T)/ np.sum(np.linalg.inv(delta*cov) @ pi.T))\n",
        "wpequi = pd.DataFrame(wpequi.values.T,columns=activos)\n",
        "wpequi"
      ],
      "metadata": {
        "colab": {
          "base_uri": "https://localhost:8080/",
          "height": 81
        },
        "id": "2Yq0PD_yLP3u",
        "outputId": "8496deee-2ba3-4d20-fefe-70f02a5f0c8e"
      },
      "execution_count": null,
      "outputs": [
        {
          "output_type": "execute_result",
          "data": {
            "text/plain": [
              "       ADBE       MCD      MSCI      MSFT       NEE        PG       RSG  \\\n",
              "0  0.128907  0.065366  0.147317  0.169343 -0.117659  0.115135  0.401462   \n",
              "\n",
              "       WMT  \n",
              "0  0.09013  "
            ],
            "text/html": [
              "\n",
              "  <div id=\"df-dc5b019f-5bcd-4520-bb62-1f73ad19ea9e\">\n",
              "    <div class=\"colab-df-container\">\n",
              "      <div>\n",
              "<style scoped>\n",
              "    .dataframe tbody tr th:only-of-type {\n",
              "        vertical-align: middle;\n",
              "    }\n",
              "\n",
              "    .dataframe tbody tr th {\n",
              "        vertical-align: top;\n",
              "    }\n",
              "\n",
              "    .dataframe thead th {\n",
              "        text-align: right;\n",
              "    }\n",
              "</style>\n",
              "<table border=\"1\" class=\"dataframe\">\n",
              "  <thead>\n",
              "    <tr style=\"text-align: right;\">\n",
              "      <th></th>\n",
              "      <th>ADBE</th>\n",
              "      <th>MCD</th>\n",
              "      <th>MSCI</th>\n",
              "      <th>MSFT</th>\n",
              "      <th>NEE</th>\n",
              "      <th>PG</th>\n",
              "      <th>RSG</th>\n",
              "      <th>WMT</th>\n",
              "    </tr>\n",
              "  </thead>\n",
              "  <tbody>\n",
              "    <tr>\n",
              "      <th>0</th>\n",
              "      <td>0.128907</td>\n",
              "      <td>0.065366</td>\n",
              "      <td>0.147317</td>\n",
              "      <td>0.169343</td>\n",
              "      <td>-0.117659</td>\n",
              "      <td>0.115135</td>\n",
              "      <td>0.401462</td>\n",
              "      <td>0.09013</td>\n",
              "    </tr>\n",
              "  </tbody>\n",
              "</table>\n",
              "</div>\n",
              "      <button class=\"colab-df-convert\" onclick=\"convertToInteractive('df-dc5b019f-5bcd-4520-bb62-1f73ad19ea9e')\"\n",
              "              title=\"Convert this dataframe to an interactive table.\"\n",
              "              style=\"display:none;\">\n",
              "        \n",
              "  <svg xmlns=\"http://www.w3.org/2000/svg\" height=\"24px\"viewBox=\"0 0 24 24\"\n",
              "       width=\"24px\">\n",
              "    <path d=\"M0 0h24v24H0V0z\" fill=\"none\"/>\n",
              "    <path d=\"M18.56 5.44l.94 2.06.94-2.06 2.06-.94-2.06-.94-.94-2.06-.94 2.06-2.06.94zm-11 1L8.5 8.5l.94-2.06 2.06-.94-2.06-.94L8.5 2.5l-.94 2.06-2.06.94zm10 10l.94 2.06.94-2.06 2.06-.94-2.06-.94-.94-2.06-.94 2.06-2.06.94z\"/><path d=\"M17.41 7.96l-1.37-1.37c-.4-.4-.92-.59-1.43-.59-.52 0-1.04.2-1.43.59L10.3 9.45l-7.72 7.72c-.78.78-.78 2.05 0 2.83L4 21.41c.39.39.9.59 1.41.59.51 0 1.02-.2 1.41-.59l7.78-7.78 2.81-2.81c.8-.78.8-2.07 0-2.86zM5.41 20L4 18.59l7.72-7.72 1.47 1.35L5.41 20z\"/>\n",
              "  </svg>\n",
              "      </button>\n",
              "      \n",
              "  <style>\n",
              "    .colab-df-container {\n",
              "      display:flex;\n",
              "      flex-wrap:wrap;\n",
              "      gap: 12px;\n",
              "    }\n",
              "\n",
              "    .colab-df-convert {\n",
              "      background-color: #E8F0FE;\n",
              "      border: none;\n",
              "      border-radius: 50%;\n",
              "      cursor: pointer;\n",
              "      display: none;\n",
              "      fill: #1967D2;\n",
              "      height: 32px;\n",
              "      padding: 0 0 0 0;\n",
              "      width: 32px;\n",
              "    }\n",
              "\n",
              "    .colab-df-convert:hover {\n",
              "      background-color: #E2EBFA;\n",
              "      box-shadow: 0px 1px 2px rgba(60, 64, 67, 0.3), 0px 1px 3px 1px rgba(60, 64, 67, 0.15);\n",
              "      fill: #174EA6;\n",
              "    }\n",
              "\n",
              "    [theme=dark] .colab-df-convert {\n",
              "      background-color: #3B4455;\n",
              "      fill: #D2E3FC;\n",
              "    }\n",
              "\n",
              "    [theme=dark] .colab-df-convert:hover {\n",
              "      background-color: #434B5C;\n",
              "      box-shadow: 0px 1px 3px 1px rgba(0, 0, 0, 0.15);\n",
              "      filter: drop-shadow(0px 1px 2px rgba(0, 0, 0, 0.3));\n",
              "      fill: #FFFFFF;\n",
              "    }\n",
              "  </style>\n",
              "\n",
              "      <script>\n",
              "        const buttonEl =\n",
              "          document.querySelector('#df-dc5b019f-5bcd-4520-bb62-1f73ad19ea9e button.colab-df-convert');\n",
              "        buttonEl.style.display =\n",
              "          google.colab.kernel.accessAllowed ? 'block' : 'none';\n",
              "\n",
              "        async function convertToInteractive(key) {\n",
              "          const element = document.querySelector('#df-dc5b019f-5bcd-4520-bb62-1f73ad19ea9e');\n",
              "          const dataTable =\n",
              "            await google.colab.kernel.invokeFunction('convertToInteractive',\n",
              "                                                     [key], {});\n",
              "          if (!dataTable) return;\n",
              "\n",
              "          const docLinkHtml = 'Like what you see? Visit the ' +\n",
              "            '<a target=\"_blank\" href=https://colab.research.google.com/notebooks/data_table.ipynb>data table notebook</a>'\n",
              "            + ' to learn more about interactive tables.';\n",
              "          element.innerHTML = '';\n",
              "          dataTable['output_type'] = 'display_data';\n",
              "          await google.colab.output.renderOutput(dataTable, element);\n",
              "          const docLink = document.createElement('div');\n",
              "          docLink.innerHTML = docLinkHtml;\n",
              "          element.appendChild(docLink);\n",
              "        }\n",
              "      </script>\n",
              "    </div>\n",
              "  </div>\n",
              "  "
            ]
          },
          "metadata": {},
          "execution_count": 422
        }
      ]
    },
    {
      "cell_type": "code",
      "source": [
        "# Modelo Black Litterman\n",
        "tau = 0.025 # Nivel de confiabilidad\n",
        "\n",
        "# Expectativas: views\n",
        "q = np.array([[0.035],[0.148],[0.11] ])\n",
        "\n",
        "P = np.array([[-1, 1, 0, 0, 0, 0, 0, 0],\n",
        "              [0, 0, 0, 0, 1, 0, 0, 0],\n",
        "              [0, 0, 1, 0, 0, 0, -1, 0]])\n",
        "\n",
        "omega = np.array([[P[0,:].T@cov@P[0,:],0,0], [0,P[1,:].T@cov@P[1,:],0], [0,0,P[2,:].T@cov@P[2,:]]  ]) #np.matrix(np.diag(np.diag(P.T @ (tau * cov)  P)))\n",
        "\n",
        "print('Views: ', q)\n",
        "print('Matriz Link: ', P)\n",
        "print('Matriz Omega: ', omega)"
      ],
      "metadata": {
        "colab": {
          "base_uri": "https://localhost:8080/"
        },
        "id": "mYklgk1jMasK",
        "outputId": "5725d0da-67e9-4bda-92cd-e7a37e584938"
      },
      "execution_count": null,
      "outputs": [
        {
          "output_type": "stream",
          "name": "stdout",
          "text": [
            "Views:  [[0.035]\n",
            " [0.148]\n",
            " [0.11 ]]\n",
            "Matriz Link:  [[-1  1  0  0  0  0  0  0]\n",
            " [ 0  0  0  0  1  0  0  0]\n",
            " [ 0  0  1  0  0  0 -1  0]]\n",
            "Matriz Omega:  [[0.05069737 0.         0.        ]\n",
            " [0.         0.02512447 0.        ]\n",
            " [0.         0.         0.04542249]]\n"
          ]
        }
      ]
    },
    {
      "cell_type": "code",
      "source": [
        "def black_litterman(mu, cov, P, q, tau, delta, riskfree):\n",
        "    P = np.matrix(P)\n",
        "    PI = np.matrix(pi)\n",
        "    Q = np.matrix(q)\n",
        "    S = np.matrix(cov)\n",
        "    Omega = np.matrix(np.diag(np.diag(P * (tau * S) * P.T))) \n",
        "    PI_bl = ((tau * S).I + P.T * Omega.I * P).I * ((tau * S).I * PI.T + P.T * Omega.I * q)\n",
        "    mu_bl = PI_bl + rf\n",
        "    return mu_bl.T"
      ],
      "metadata": {
        "id": "YGb08TjLUWdg"
      },
      "execution_count": null,
      "outputs": []
    },
    {
      "cell_type": "code",
      "source": [
        "mubl = black_litterman(mu, cov, P, q, tau, delta, rf)\n",
        "print('Retornos: ', mubl)"
      ],
      "metadata": {
        "colab": {
          "base_uri": "https://localhost:8080/"
        },
        "id": "hy0wgr6kWcCf",
        "outputId": "ec8855cd-6d99-4ff8-bbd5-8ba1d5c4317c"
      },
      "execution_count": null,
      "outputs": [
        {
          "output_type": "stream",
          "name": "stdout",
          "text": [
            "Retornos:  [[0.10902828 0.09527464 0.13973944 0.09956609 0.08307738 0.06761536\n",
            "  0.09116608 0.07601983]]\n"
          ]
        }
      ]
    },
    {
      "cell_type": "code",
      "source": [
        "wbl = (np.linalg.inv(delta*cov) @ mubl.T)/ np.sum(np.linalg.inv(delta*cov) @ mubl.T)\n",
        "print('Pesos: ', wbl.T)"
      ],
      "metadata": {
        "colab": {
          "base_uri": "https://localhost:8080/"
        },
        "id": "OK4lvAfJaKQU",
        "outputId": "ed9e9ff1-a548-4964-ac8a-b457ac4d2cf3"
      },
      "execution_count": null,
      "outputs": [
        {
          "output_type": "stream",
          "name": "stdout",
          "text": [
            "Pesos:  [[-0.02942701  0.1623099   0.26614044  0.11583138  0.23551777  0.07875241\n",
            "   0.10922624  0.06164885]]\n"
          ]
        }
      ]
    }
  ]
}