{
  "nbformat": 4,
  "nbformat_minor": 0,
  "metadata": {
    "colab": {
      "provenance": []
    },
    "kernelspec": {
      "name": "python3",
      "display_name": "Python 3"
    },
    "language_info": {
      "name": "python"
    }
  },
  "cells": [
    {
      "cell_type": "markdown",
      "source": [
        "# Gestión Moderna de Portafolio\n",
        "### Autores Bernardo León y Carlos Zapata\n",
        "### (C) Copyright 2023\n",
        "\n"
      ],
      "metadata": {
        "id": "7zwpIGGrrMRt"
      }
    },
    {
      "cell_type": "markdown",
      "source": [
        "## Capitulo 4: Utilidad esperada y aversión al riesgo\n",
        "\n",
        "### Ejemplo 4.2"
      ],
      "metadata": {
        "id": "loGY4Ho7b8XV"
      }
    },
    {
      "cell_type": "code",
      "source": [
        "#Librerías usadas\n",
        "import pandas as pd\n",
        "import numpy as np\n",
        "import matplotlib.pyplot as plt\n",
        "%pip install --quiet yfinance\n",
        "import yfinance as yf\n",
        "import warnings\n",
        "warnings.filterwarnings(\"ignore\")"
      ],
      "metadata": {
        "id": "lclYhogurlVL"
      },
      "execution_count": 2,
      "outputs": []
    },
    {
      "cell_type": "code",
      "execution_count": null,
      "metadata": {
        "colab": {
          "base_uri": "https://localhost:8080/"
        },
        "id": "XW605_ZArJbu",
        "outputId": "abe6a43c-9c71-413d-9f2d-9ec30786a5a2"
      },
      "outputs": [
        {
          "output_type": "stream",
          "name": "stdout",
          "text": [
            "[*********************100%***********************]  4 of 4 completed\n"
          ]
        },
        {
          "output_type": "execute_result",
          "data": {
            "text/plain": [
              "AAPL     0.2762\n",
              "AMZN     0.2675\n",
              "GOOGL    0.1862\n",
              "MSFT     0.2216\n",
              "dtype: float64"
            ]
          },
          "metadata": {},
          "execution_count": 3
        }
      ],
      "source": [
        "# Información histórica para las acciones: AAPL, AMZN, GOOG y MSFT\n",
        "fechai = \"2009-12-01\"\n",
        "fechaf = \"2021-12-31\"\n",
        "periodicidad = \"1Mo\"\n",
        "activos = [\"AAPL\",\"AMZN\",\"GOOGL\",\"MSFT\"]\n",
        "precios = yf.download(activos,start=fechai,end=fechaf,interval=periodicidad)['Adj Close'].dropna()\n",
        "retornos = np.log(precios/precios.shift(1)).dropna()\n",
        "mu = retornos.mean()*12\n",
        "cov = retornos.cov()*12\n",
        "var = np.diag(cov)\n",
        "sigma = np.sqrt(var)\n",
        "n = len(mu)\n",
        "round(mu,4)"
      ]
    },
    {
      "cell_type": "code",
      "source": [
        "round(cov,4)"
      ],
      "metadata": {
        "colab": {
          "base_uri": "https://localhost:8080/",
          "height": 175
        },
        "id": "f0GGgIbxr1sa",
        "outputId": "4b1b055d-108e-4e38-a5c4-da415f97b069"
      },
      "execution_count": null,
      "outputs": [
        {
          "output_type": "execute_result",
          "data": {
            "text/plain": [
              "         AAPL    AMZN   GOOGL    MSFT\n",
              "AAPL   0.0700  0.0307  0.0250  0.0262\n",
              "AMZN   0.0307  0.0749  0.0305  0.0262\n",
              "GOOGL  0.0250  0.0305  0.0555  0.0264\n",
              "MSFT   0.0262  0.0262  0.0264  0.0438"
            ],
            "text/html": [
              "\n",
              "  <div id=\"df-23776492-0517-4f16-b5e8-8eddbd4b03b1\">\n",
              "    <div class=\"colab-df-container\">\n",
              "      <div>\n",
              "<style scoped>\n",
              "    .dataframe tbody tr th:only-of-type {\n",
              "        vertical-align: middle;\n",
              "    }\n",
              "\n",
              "    .dataframe tbody tr th {\n",
              "        vertical-align: top;\n",
              "    }\n",
              "\n",
              "    .dataframe thead th {\n",
              "        text-align: right;\n",
              "    }\n",
              "</style>\n",
              "<table border=\"1\" class=\"dataframe\">\n",
              "  <thead>\n",
              "    <tr style=\"text-align: right;\">\n",
              "      <th></th>\n",
              "      <th>AAPL</th>\n",
              "      <th>AMZN</th>\n",
              "      <th>GOOGL</th>\n",
              "      <th>MSFT</th>\n",
              "    </tr>\n",
              "  </thead>\n",
              "  <tbody>\n",
              "    <tr>\n",
              "      <th>AAPL</th>\n",
              "      <td>0.0700</td>\n",
              "      <td>0.0307</td>\n",
              "      <td>0.0250</td>\n",
              "      <td>0.0262</td>\n",
              "    </tr>\n",
              "    <tr>\n",
              "      <th>AMZN</th>\n",
              "      <td>0.0307</td>\n",
              "      <td>0.0749</td>\n",
              "      <td>0.0305</td>\n",
              "      <td>0.0262</td>\n",
              "    </tr>\n",
              "    <tr>\n",
              "      <th>GOOGL</th>\n",
              "      <td>0.0250</td>\n",
              "      <td>0.0305</td>\n",
              "      <td>0.0555</td>\n",
              "      <td>0.0264</td>\n",
              "    </tr>\n",
              "    <tr>\n",
              "      <th>MSFT</th>\n",
              "      <td>0.0262</td>\n",
              "      <td>0.0262</td>\n",
              "      <td>0.0264</td>\n",
              "      <td>0.0438</td>\n",
              "    </tr>\n",
              "  </tbody>\n",
              "</table>\n",
              "</div>\n",
              "      <button class=\"colab-df-convert\" onclick=\"convertToInteractive('df-23776492-0517-4f16-b5e8-8eddbd4b03b1')\"\n",
              "              title=\"Convert this dataframe to an interactive table.\"\n",
              "              style=\"display:none;\">\n",
              "        \n",
              "  <svg xmlns=\"http://www.w3.org/2000/svg\" height=\"24px\"viewBox=\"0 0 24 24\"\n",
              "       width=\"24px\">\n",
              "    <path d=\"M0 0h24v24H0V0z\" fill=\"none\"/>\n",
              "    <path d=\"M18.56 5.44l.94 2.06.94-2.06 2.06-.94-2.06-.94-.94-2.06-.94 2.06-2.06.94zm-11 1L8.5 8.5l.94-2.06 2.06-.94-2.06-.94L8.5 2.5l-.94 2.06-2.06.94zm10 10l.94 2.06.94-2.06 2.06-.94-2.06-.94-.94-2.06-.94 2.06-2.06.94z\"/><path d=\"M17.41 7.96l-1.37-1.37c-.4-.4-.92-.59-1.43-.59-.52 0-1.04.2-1.43.59L10.3 9.45l-7.72 7.72c-.78.78-.78 2.05 0 2.83L4 21.41c.39.39.9.59 1.41.59.51 0 1.02-.2 1.41-.59l7.78-7.78 2.81-2.81c.8-.78.8-2.07 0-2.86zM5.41 20L4 18.59l7.72-7.72 1.47 1.35L5.41 20z\"/>\n",
              "  </svg>\n",
              "      </button>\n",
              "      \n",
              "  <style>\n",
              "    .colab-df-container {\n",
              "      display:flex;\n",
              "      flex-wrap:wrap;\n",
              "      gap: 12px;\n",
              "    }\n",
              "\n",
              "    .colab-df-convert {\n",
              "      background-color: #E8F0FE;\n",
              "      border: none;\n",
              "      border-radius: 50%;\n",
              "      cursor: pointer;\n",
              "      display: none;\n",
              "      fill: #1967D2;\n",
              "      height: 32px;\n",
              "      padding: 0 0 0 0;\n",
              "      width: 32px;\n",
              "    }\n",
              "\n",
              "    .colab-df-convert:hover {\n",
              "      background-color: #E2EBFA;\n",
              "      box-shadow: 0px 1px 2px rgba(60, 64, 67, 0.3), 0px 1px 3px 1px rgba(60, 64, 67, 0.15);\n",
              "      fill: #174EA6;\n",
              "    }\n",
              "\n",
              "    [theme=dark] .colab-df-convert {\n",
              "      background-color: #3B4455;\n",
              "      fill: #D2E3FC;\n",
              "    }\n",
              "\n",
              "    [theme=dark] .colab-df-convert:hover {\n",
              "      background-color: #434B5C;\n",
              "      box-shadow: 0px 1px 3px 1px rgba(0, 0, 0, 0.15);\n",
              "      filter: drop-shadow(0px 1px 2px rgba(0, 0, 0, 0.3));\n",
              "      fill: #FFFFFF;\n",
              "    }\n",
              "  </style>\n",
              "\n",
              "      <script>\n",
              "        const buttonEl =\n",
              "          document.querySelector('#df-23776492-0517-4f16-b5e8-8eddbd4b03b1 button.colab-df-convert');\n",
              "        buttonEl.style.display =\n",
              "          google.colab.kernel.accessAllowed ? 'block' : 'none';\n",
              "\n",
              "        async function convertToInteractive(key) {\n",
              "          const element = document.querySelector('#df-23776492-0517-4f16-b5e8-8eddbd4b03b1');\n",
              "          const dataTable =\n",
              "            await google.colab.kernel.invokeFunction('convertToInteractive',\n",
              "                                                     [key], {});\n",
              "          if (!dataTable) return;\n",
              "\n",
              "          const docLinkHtml = 'Like what you see? Visit the ' +\n",
              "            '<a target=\"_blank\" href=https://colab.research.google.com/notebooks/data_table.ipynb>data table notebook</a>'\n",
              "            + ' to learn more about interactive tables.';\n",
              "          element.innerHTML = '';\n",
              "          dataTable['output_type'] = 'display_data';\n",
              "          await google.colab.output.renderOutput(dataTable, element);\n",
              "          const docLink = document.createElement('div');\n",
              "          docLink.innerHTML = docLinkHtml;\n",
              "          element.appendChild(docLink);\n",
              "        }\n",
              "      </script>\n",
              "    </div>\n",
              "  </div>\n",
              "  "
            ]
          },
          "metadata": {},
          "execution_count": 4
        }
      ]
    },
    {
      "cell_type": "code",
      "source": [
        "# Portafolio Tangente\n",
        "rf = 0.0\n",
        "r = mu -rf \n",
        "Z = np.linalg.solve(cov,r) \n",
        "sumaZ = Z.sum()\n",
        "wpt = Z/sumaZ\n",
        "rpt = wpt @ mu\n",
        "sigmapt = np.sqrt(wpt.T @ cov @ wpt)\n",
        "\n",
        "print('Resultados PT: ')\n",
        "print('E(Rp): ', round(rpt,4))\n",
        "print('SigmaP: ', round(sigmapt,4))"
      ],
      "metadata": {
        "colab": {
          "base_uri": "https://localhost:8080/"
        },
        "id": "RSQgtFSisOEj",
        "outputId": "41cd2572-e3a5-4882-ec15-fffe9249a49a"
      },
      "execution_count": null,
      "outputs": [
        {
          "output_type": "stream",
          "name": "stdout",
          "text": [
            "Resultados PT: \n",
            "E(Rp):  0.2497\n",
            "SigmaP:  0.1934\n"
          ]
        }
      ]
    },
    {
      "cell_type": "code",
      "source": [
        "## Coeficiente de aversión al riesgo:\n",
        "delta = (rpt-rf)/sigmapt"
      ],
      "metadata": {
        "id": "w7t684lAry2q"
      },
      "execution_count": null,
      "outputs": []
    },
    {
      "cell_type": "code",
      "source": [
        "w = (np.linalg.inv(delta*cov) @ mu ) / (np.linalg.inv(delta*cov) @ mu).sum()\n",
        "w"
      ],
      "metadata": {
        "colab": {
          "base_uri": "https://localhost:8080/"
        },
        "id": "GwyKVgHgsF4z",
        "outputId": "58c5dd86-0420-4947-b614-d3217f2eff3e"
      },
      "execution_count": null,
      "outputs": [
        {
          "output_type": "execute_result",
          "data": {
            "text/plain": [
              "array([0.32142952, 0.25232166, 0.03041344, 0.39583538])"
            ]
          },
          "metadata": {},
          "execution_count": 16
        }
      ]
    }
  ]
}