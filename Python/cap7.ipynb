{
  "nbformat": 4,
  "nbformat_minor": 0,
  "metadata": {
    "colab": {
      "provenance": [],
      "collapsed_sections": []
    },
    "kernelspec": {
      "name": "python3",
      "display_name": "Python 3"
    },
    "language_info": {
      "name": "python"
    }
  },
  "cells": [
    {
      "cell_type": "markdown",
      "source": [
        "# Gestión Moderna de Portafolio\n",
        "### Autores: Bernardo León y Carlos Zapata\n",
        "### Copyright 2022\n",
        "\n",
        "## Capitulo 7: Evaluación de desempeño\n"
      ],
      "metadata": {
        "id": "IiOv2GwKpX25"
      }
    },
    {
      "cell_type": "code",
      "execution_count": 2,
      "metadata": {
        "id": "dl1yR-R5pXSh",
        "colab": {
          "base_uri": "https://localhost:8080/"
        },
        "outputId": "f14ad75c-7533-4b31-8a96-3f3cd2f8bcbe"
      },
      "outputs": [
        {
          "output_type": "stream",
          "name": "stdout",
          "text": [
            "Looking in indexes: https://pypi.org/simple, https://us-python.pkg.dev/colab-wheels/public/simple/\n",
            "Collecting yfinance\n",
            "  Downloading yfinance-0.1.74-py2.py3-none-any.whl (27 kB)\n",
            "Requirement already satisfied: pandas>=0.24.0 in /usr/local/lib/python3.7/dist-packages (from yfinance) (1.3.5)\n",
            "Requirement already satisfied: multitasking>=0.0.7 in /usr/local/lib/python3.7/dist-packages (from yfinance) (0.0.11)\n",
            "Requirement already satisfied: lxml>=4.5.1 in /usr/local/lib/python3.7/dist-packages (from yfinance) (4.9.1)\n",
            "Requirement already satisfied: numpy>=1.15 in /usr/local/lib/python3.7/dist-packages (from yfinance) (1.21.6)\n",
            "Collecting requests>=2.26\n",
            "  Downloading requests-2.28.1-py3-none-any.whl (62 kB)\n",
            "\u001b[K     |████████████████████████████████| 62 kB 971 kB/s \n",
            "\u001b[?25hRequirement already satisfied: python-dateutil>=2.7.3 in /usr/local/lib/python3.7/dist-packages (from pandas>=0.24.0->yfinance) (2.8.2)\n",
            "Requirement already satisfied: pytz>=2017.3 in /usr/local/lib/python3.7/dist-packages (from pandas>=0.24.0->yfinance) (2022.2.1)\n",
            "Requirement already satisfied: six>=1.5 in /usr/local/lib/python3.7/dist-packages (from python-dateutil>=2.7.3->pandas>=0.24.0->yfinance) (1.15.0)\n",
            "Requirement already satisfied: urllib3<1.27,>=1.21.1 in /usr/local/lib/python3.7/dist-packages (from requests>=2.26->yfinance) (1.24.3)\n",
            "Requirement already satisfied: idna<4,>=2.5 in /usr/local/lib/python3.7/dist-packages (from requests>=2.26->yfinance) (2.10)\n",
            "Requirement already satisfied: charset-normalizer<3,>=2 in /usr/local/lib/python3.7/dist-packages (from requests>=2.26->yfinance) (2.1.1)\n",
            "Requirement already satisfied: certifi>=2017.4.17 in /usr/local/lib/python3.7/dist-packages (from requests>=2.26->yfinance) (2022.6.15)\n",
            "Installing collected packages: requests, yfinance\n",
            "  Attempting uninstall: requests\n",
            "    Found existing installation: requests 2.23.0\n",
            "    Uninstalling requests-2.23.0:\n",
            "      Successfully uninstalled requests-2.23.0\n",
            "Successfully installed requests-2.28.1 yfinance-0.1.74\n"
          ]
        }
      ],
      "source": [
        "#Librerías usadas\n",
        "import pandas as pd\n",
        "import numpy as np\n",
        "import matplotlib.pyplot as plt\n",
        "import cvxpy as cp\n",
        "from scipy import stats\n",
        "%pip install yfinance\n",
        "import yfinance as yf\n",
        "import warnings\n",
        "warnings.filterwarnings(\"ignore\")"
      ]
    },
    {
      "cell_type": "code",
      "source": [
        "# Información histórica dentro de muetsra (In-sample) para las acciones\n",
        "fechai = \"2015-12-01\"\n",
        "fechaf = \"2020-12-31\"\n",
        "periodicidad = \"1Mo\"\n",
        "activos = [\"ADBE\",\"MCD\",\"MSCI\",\"MSFT\",\"NEE\",\"PG\",\"RSG\",\"WMT\"]\n",
        "precios = yf.download(activos,start=fechai,end=fechaf,interval=periodicidad)['Adj Close'].dropna()\n",
        "retornos = np.log(precios/precios.shift(1)).dropna()\n",
        "mu = retornos.mean()\n",
        "cov = retornos.cov()\n",
        "var = np.diag(cov)\n",
        "sigma = retornos.std()"
      ],
      "metadata": {
        "id": "xotX6t7bpexe",
        "colab": {
          "base_uri": "https://localhost:8080/"
        },
        "outputId": "432f769b-f2c7-4fc0-8867-5d15409a6444"
      },
      "execution_count": 3,
      "outputs": [
        {
          "output_type": "stream",
          "name": "stdout",
          "text": [
            "[*********************100%***********************]  8 of 8 completed\n"
          ]
        }
      ]
    },
    {
      "cell_type": "code",
      "source": [
        "indice = [\"^GSPC\"]\n",
        "p_indice = yf.download(indice,start=fechai,end=fechaf,interval=periodicidad)['Adj Close'].dropna()\n",
        "r_indice = np.log(p_indice/p_indice.shift(1)).dropna()\n",
        "rpm = r_indice.mean()\n",
        "sigmapm = r_indice.std()"
      ],
      "metadata": {
        "colab": {
          "base_uri": "https://localhost:8080/"
        },
        "id": "Tve1IQi24aSJ",
        "outputId": "c0bca235-21ab-4585-b07c-b0f331b088ec"
      },
      "execution_count": 4,
      "outputs": [
        {
          "output_type": "stream",
          "name": "stdout",
          "text": [
            "\r[*********************100%***********************]  1 of 1 completed\n"
          ]
        }
      ]
    },
    {
      "cell_type": "code",
      "source": [
        "# Información histórica fuera de muetsra (Out-sample) para las acciones\n",
        "fechai_fm = \"2020-12-01\"\n",
        "fechaf_fm = \"2021-12-31\"\n",
        "periodicidad = \"1Mo\"\n",
        "activos = [\"ADBE\",\"MCD\",\"MSCI\",\"MSFT\",\"NEE\",\"PG\",\"RSG\",\"WMT\"]\n",
        "precios_fm = yf.download(activos,start=fechai_fm,end=fechaf_fm,interval=periodicidad)['Adj Close'].dropna()\n",
        "retornos_fm = np.log(precios_fm/precios_fm.shift(1)).dropna()\n",
        "mu_fm = retornos_fm.mean()\n",
        "cov_fm = retornos_fm.cov()\n",
        "sigma_fm = retornos_fm.std()\n",
        "n = len(mu)"
      ],
      "metadata": {
        "id": "KucSM62op0Ma",
        "colab": {
          "base_uri": "https://localhost:8080/"
        },
        "outputId": "9af8147d-78c4-4a05-dbc6-cec1f71e84a0"
      },
      "execution_count": 5,
      "outputs": [
        {
          "output_type": "stream",
          "name": "stdout",
          "text": [
            "[*********************100%***********************]  8 of 8 completed\n"
          ]
        }
      ]
    },
    {
      "cell_type": "code",
      "source": [
        "indice = [\"^GSPC\"]\n",
        "p_indice_fm = yf.download(indice,start=fechai_fm,end=fechaf_fm,interval=periodicidad)['Adj Close'].dropna()\n",
        "r_indice_fm = np.log(p_indice_fm/p_indice_fm.shift(1)).dropna()\n",
        "rpm_fm = r_indice_fm.mean()*12\n",
        "sigmapm_fm = r_indice_fm.std()*np.sqrt(12)"
      ],
      "metadata": {
        "colab": {
          "base_uri": "https://localhost:8080/"
        },
        "id": "Lj-ZHn714o8K",
        "outputId": "fb53f4c2-9120-4a36-b86d-96f938c2b562"
      },
      "execution_count": 6,
      "outputs": [
        {
          "output_type": "stream",
          "name": "stdout",
          "text": [
            "\r[*********************100%***********************]  1 of 1 completed\n"
          ]
        }
      ]
    },
    {
      "cell_type": "markdown",
      "source": [
        "# Ejemplo 7.1"
      ],
      "metadata": {
        "id": "YJIlTObM19C-"
      }
    },
    {
      "cell_type": "code",
      "source": [
        "# Tabla 7.1\n",
        "datos = pd.concat([pd.DataFrame(mu*12,columns=['Retornos']),pd.DataFrame(sigma*np.sqrt(12),columns=['Volatilidades'])],axis=1).T\n",
        "datos"
      ],
      "metadata": {
        "colab": {
          "base_uri": "https://localhost:8080/",
          "height": 112
        },
        "id": "xrcYKn2o3rqd",
        "outputId": "0b9c62c2-a11f-4355-c7bf-335f07cf81be"
      },
      "execution_count": 73,
      "outputs": [
        {
          "output_type": "execute_result",
          "data": {
            "text/plain": [
              "                   ADBE       MCD      MSCI      MSFT       NEE        PG  \\\n",
              "Retornos       0.334438  0.145223  0.376101  0.296015  0.243359  0.142153   \n",
              "Volatilidades  0.217030  0.169892  0.214384  0.179247  0.158507  0.141348   \n",
              "\n",
              "                    RSG       WMT  \n",
              "Retornos       0.177710  0.194796  \n",
              "Volatilidades  0.148402  0.174636  "
            ],
            "text/html": [
              "\n",
              "  <div id=\"df-3f74514c-0593-4162-b7d0-e77db98ee52a\">\n",
              "    <div class=\"colab-df-container\">\n",
              "      <div>\n",
              "<style scoped>\n",
              "    .dataframe tbody tr th:only-of-type {\n",
              "        vertical-align: middle;\n",
              "    }\n",
              "\n",
              "    .dataframe tbody tr th {\n",
              "        vertical-align: top;\n",
              "    }\n",
              "\n",
              "    .dataframe thead th {\n",
              "        text-align: right;\n",
              "    }\n",
              "</style>\n",
              "<table border=\"1\" class=\"dataframe\">\n",
              "  <thead>\n",
              "    <tr style=\"text-align: right;\">\n",
              "      <th></th>\n",
              "      <th>ADBE</th>\n",
              "      <th>MCD</th>\n",
              "      <th>MSCI</th>\n",
              "      <th>MSFT</th>\n",
              "      <th>NEE</th>\n",
              "      <th>PG</th>\n",
              "      <th>RSG</th>\n",
              "      <th>WMT</th>\n",
              "    </tr>\n",
              "  </thead>\n",
              "  <tbody>\n",
              "    <tr>\n",
              "      <th>Retornos</th>\n",
              "      <td>0.334438</td>\n",
              "      <td>0.145223</td>\n",
              "      <td>0.376101</td>\n",
              "      <td>0.296015</td>\n",
              "      <td>0.243359</td>\n",
              "      <td>0.142153</td>\n",
              "      <td>0.177710</td>\n",
              "      <td>0.194796</td>\n",
              "    </tr>\n",
              "    <tr>\n",
              "      <th>Volatilidades</th>\n",
              "      <td>0.217030</td>\n",
              "      <td>0.169892</td>\n",
              "      <td>0.214384</td>\n",
              "      <td>0.179247</td>\n",
              "      <td>0.158507</td>\n",
              "      <td>0.141348</td>\n",
              "      <td>0.148402</td>\n",
              "      <td>0.174636</td>\n",
              "    </tr>\n",
              "  </tbody>\n",
              "</table>\n",
              "</div>\n",
              "      <button class=\"colab-df-convert\" onclick=\"convertToInteractive('df-3f74514c-0593-4162-b7d0-e77db98ee52a')\"\n",
              "              title=\"Convert this dataframe to an interactive table.\"\n",
              "              style=\"display:none;\">\n",
              "        \n",
              "  <svg xmlns=\"http://www.w3.org/2000/svg\" height=\"24px\"viewBox=\"0 0 24 24\"\n",
              "       width=\"24px\">\n",
              "    <path d=\"M0 0h24v24H0V0z\" fill=\"none\"/>\n",
              "    <path d=\"M18.56 5.44l.94 2.06.94-2.06 2.06-.94-2.06-.94-.94-2.06-.94 2.06-2.06.94zm-11 1L8.5 8.5l.94-2.06 2.06-.94-2.06-.94L8.5 2.5l-.94 2.06-2.06.94zm10 10l.94 2.06.94-2.06 2.06-.94-2.06-.94-.94-2.06-.94 2.06-2.06.94z\"/><path d=\"M17.41 7.96l-1.37-1.37c-.4-.4-.92-.59-1.43-.59-.52 0-1.04.2-1.43.59L10.3 9.45l-7.72 7.72c-.78.78-.78 2.05 0 2.83L4 21.41c.39.39.9.59 1.41.59.51 0 1.02-.2 1.41-.59l7.78-7.78 2.81-2.81c.8-.78.8-2.07 0-2.86zM5.41 20L4 18.59l7.72-7.72 1.47 1.35L5.41 20z\"/>\n",
              "  </svg>\n",
              "      </button>\n",
              "      \n",
              "  <style>\n",
              "    .colab-df-container {\n",
              "      display:flex;\n",
              "      flex-wrap:wrap;\n",
              "      gap: 12px;\n",
              "    }\n",
              "\n",
              "    .colab-df-convert {\n",
              "      background-color: #E8F0FE;\n",
              "      border: none;\n",
              "      border-radius: 50%;\n",
              "      cursor: pointer;\n",
              "      display: none;\n",
              "      fill: #1967D2;\n",
              "      height: 32px;\n",
              "      padding: 0 0 0 0;\n",
              "      width: 32px;\n",
              "    }\n",
              "\n",
              "    .colab-df-convert:hover {\n",
              "      background-color: #E2EBFA;\n",
              "      box-shadow: 0px 1px 2px rgba(60, 64, 67, 0.3), 0px 1px 3px 1px rgba(60, 64, 67, 0.15);\n",
              "      fill: #174EA6;\n",
              "    }\n",
              "\n",
              "    [theme=dark] .colab-df-convert {\n",
              "      background-color: #3B4455;\n",
              "      fill: #D2E3FC;\n",
              "    }\n",
              "\n",
              "    [theme=dark] .colab-df-convert:hover {\n",
              "      background-color: #434B5C;\n",
              "      box-shadow: 0px 1px 3px 1px rgba(0, 0, 0, 0.15);\n",
              "      filter: drop-shadow(0px 1px 2px rgba(0, 0, 0, 0.3));\n",
              "      fill: #FFFFFF;\n",
              "    }\n",
              "  </style>\n",
              "\n",
              "      <script>\n",
              "        const buttonEl =\n",
              "          document.querySelector('#df-3f74514c-0593-4162-b7d0-e77db98ee52a button.colab-df-convert');\n",
              "        buttonEl.style.display =\n",
              "          google.colab.kernel.accessAllowed ? 'block' : 'none';\n",
              "\n",
              "        async function convertToInteractive(key) {\n",
              "          const element = document.querySelector('#df-3f74514c-0593-4162-b7d0-e77db98ee52a');\n",
              "          const dataTable =\n",
              "            await google.colab.kernel.invokeFunction('convertToInteractive',\n",
              "                                                     [key], {});\n",
              "          if (!dataTable) return;\n",
              "\n",
              "          const docLinkHtml = 'Like what you see? Visit the ' +\n",
              "            '<a target=\"_blank\" href=https://colab.research.google.com/notebooks/data_table.ipynb>data table notebook</a>'\n",
              "            + ' to learn more about interactive tables.';\n",
              "          element.innerHTML = '';\n",
              "          dataTable['output_type'] = 'display_data';\n",
              "          await google.colab.output.renderOutput(dataTable, element);\n",
              "          const docLink = document.createElement('div');\n",
              "          docLink.innerHTML = docLinkHtml;\n",
              "          element.appendChild(docLink);\n",
              "        }\n",
              "      </script>\n",
              "    </div>\n",
              "  </div>\n",
              "  "
            ]
          },
          "metadata": {},
          "execution_count": 73
        }
      ]
    },
    {
      "cell_type": "code",
      "source": [
        "# Función para el PMVG\n",
        "def pmvg(cov, ones):  \n",
        "    covis = np.linalg.inv(cov)  \n",
        "    w = np.dot(covis, ones)  \n",
        "    return w / np.sum(np.abs(w)) "
      ],
      "metadata": {
        "id": "E4hYvobn6hyL"
      },
      "execution_count": 61,
      "outputs": []
    },
    {
      "cell_type": "code",
      "source": [
        "unos = np.repeat(1,n)\n",
        "wpmvg = pmvg(cov, unos)\n",
        "\n",
        "fig = plt.figure(figsize = (6, 5))\n",
        "plt.bar(activos, wpmvg, width = 0.4)\n",
        "plt.ylabel(\"Part. (%)\")\n",
        "plt.show()"
      ],
      "metadata": {
        "colab": {
          "base_uri": "https://localhost:8080/",
          "height": 320
        },
        "id": "KW6CGC3a6jD5",
        "outputId": "973b21c1-08fe-4610-a577-6ebd103d5084"
      },
      "execution_count": 74,
      "outputs": [
        {
          "output_type": "display_data",
          "data": {
            "text/plain": [
              "<Figure size 432x360 with 1 Axes>"
            ],
            "image/png": "[encoded data removed]"
          },
          "metadata": {
            "needs_background": "light"
          }
        }
      ]
    },
    {
      "cell_type": "code",
      "source": [
        "# Evaluacion de desempeño in-sample\n",
        "# Retorno activo: \n",
        "rpmvg = wpmvg @ mu\n",
        "Ramv = rpmvg - rpm\n",
        "print('Ra: ', Ramv)"
      ],
      "metadata": {
        "colab": {
          "base_uri": "https://localhost:8080/"
        },
        "id": "OPeju5Q61xli",
        "outputId": "60a513d9-b1ec-4efe-960b-5b9daa078fae"
      },
      "execution_count": 77,
      "outputs": [
        {
          "output_type": "stream",
          "name": "stdout",
          "text": [
            "Ra:  0.007938277595646304\n"
          ]
        }
      ]
    },
    {
      "cell_type": "code",
      "source": [
        "# Desempeño historico In-sample\n",
        "valor = 100 \n",
        "t = len(retornos)\n",
        "n =len(mu)\n",
        "\n",
        "# Retornos historicos\n",
        "# PMVG\n",
        "rhpmvg = retornos @ wpmvg\n",
        "\n",
        "# Valor del portafolio\n",
        "# PMV\n",
        "port_mv = np.zeros((t))\n",
        "port_mv[0] = valor\n",
        "for i in range(1,t):\n",
        "  port_mv[i] = port_mv[i-1]*np.exp(rhpmvg[i-1])\n",
        "# Benchmark\n",
        "port_benchmark = np.zeros((t))\n",
        "port_benchmark[0] = valor\n",
        "for i in range(1,t):\n",
        "  port_benchmark[i] = port_benchmark[i-1]*np.exp(r_indice[i-1])\n",
        "\n",
        "Performance = pd.concat([pd.DataFrame(port_mv,columns=['PMVG']), pd.DataFrame(port_benchmark,columns=['Indice'])], axis=1)\n",
        "Performance.plot()"
      ],
      "metadata": {
        "colab": {
          "base_uri": "https://localhost:8080/",
          "height": 286
        },
        "id": "rbKEVqBN67yQ",
        "outputId": "14b4afd4-c221-4b8c-a5a2-ad1521122f78"
      },
      "execution_count": 120,
      "outputs": [
        {
          "output_type": "execute_result",
          "data": {
            "text/plain": [
              "<matplotlib.axes._subplots.AxesSubplot at 0x7f4bc7bc4a10>"
            ]
          },
          "metadata": {},
          "execution_count": 120
        },
        {
          "output_type": "display_data",
          "data": {
            "text/plain": [
              "<Figure size 432x288 with 1 Axes>"
            ],
            "image/png": "[encoded data removed]"
          },
          "metadata": {
            "needs_background": "light"
          }
        }
      ]
    },
    {
      "cell_type": "code",
      "source": [
        "# Desempeño historico Out-sample\n",
        "valor = 100 \n",
        "t = len(retornos_fm)+1\n",
        "n =len(mu)\n",
        "\n",
        "# PMVG\n",
        "rhpmvg_fm = retornos_fm @ wpmvg\n",
        "\n",
        "# Valor del portafolio\n",
        "# PMV\n",
        "port_mv = np.zeros((t))\n",
        "port_mv[0] = valor\n",
        "for i in range(1,t):\n",
        "  port_mv[i] = port_mv[i-1]*np.exp(rhpmvg_fm[i-1])\n",
        "# Benchmark\n",
        "port_benchmark = np.zeros((t))\n",
        "port_benchmark[0] = valor\n",
        "for i in range(1,t):\n",
        "  port_benchmark[i] = port_benchmark[i-1]*np.exp(r_indice_fm[i-1])\n",
        "\n",
        "Performance = pd.concat([pd.DataFrame(port_mv,columns=['PMVG']), pd.DataFrame(port_benchmark,columns=['Indice'])], axis=1)\n",
        "Performance.plot()"
      ],
      "metadata": {
        "colab": {
          "base_uri": "https://localhost:8080/",
          "height": 282
        },
        "id": "yIGpkFGz_oIn",
        "outputId": "0bb423be-784c-441d-80cf-06a7fd9d62fa"
      },
      "execution_count": 122,
      "outputs": [
        {
          "output_type": "execute_result",
          "data": {
            "text/plain": [
              "<matplotlib.axes._subplots.AxesSubplot at 0x7f4bc7ad1550>"
            ]
          },
          "metadata": {},
          "execution_count": 122
        },
        {
          "output_type": "display_data",
          "data": {
            "text/plain": [
              "<Figure size 432x288 with 1 Axes>"
            ],
            "image/png": "[encoded data removed]"
          },
          "metadata": {
            "needs_background": "light"
          }
        }
      ]
    },
    {
      "cell_type": "markdown",
      "source": [
        "## Ejemplo 7.2"
      ],
      "metadata": {
        "id": "MW2sGudMBNoQ"
      }
    },
    {
      "cell_type": "code",
      "source": [
        "# Función para el PT\n",
        "rf = 0.0\n",
        "r = mu -rf \n",
        "n = len(mu)\n",
        "# PT de Sharpe\n",
        "w = cp.Variable(n)\n",
        "risk = cp.quad_form(w, cov)\n",
        "objective = cp.Minimize(risk)\n",
        "constraints = [w @ r == 1, w >= 0] \n",
        "prob = cp.Problem(objective, constraints)\n",
        "prob.solve()\n",
        "wpt = w.value/np.sum(w.value)\n",
        "\n",
        "fig = plt.figure(figsize = (6, 5))\n",
        "plt.bar(activos, wpt, width = 0.4)\n",
        "plt.ylabel(\"Part. (%)\")\n",
        "plt.show()"
      ],
      "metadata": {
        "colab": {
          "base_uri": "https://localhost:8080/",
          "height": 320
        },
        "id": "5FoqrZA41xpN",
        "outputId": "13da111f-9da5-4512-d56e-0e7f32d54893"
      },
      "execution_count": 7,
      "outputs": [
        {
          "output_type": "display_data",
          "data": {
            "text/plain": [
              "<Figure size 432x360 with 1 Axes>"
            ],
            "image/png": "[encoded data removed]"
          },
          "metadata": {
            "needs_background": "light"
          }
        }
      ]
    },
    {
      "cell_type": "code",
      "source": [
        "# Evaluacion de desempeño in-sample\n",
        "# Retorno activo: \n",
        "rpt = wpt @ mu\n",
        "Ramv = rpt - rpm\n",
        "print('Ra: ', Ramv)"
      ],
      "metadata": {
        "colab": {
          "base_uri": "https://localhost:8080/"
        },
        "id": "kohnvoksKA-c",
        "outputId": "a36840b4-918f-4800-f182-00def5a5db40"
      },
      "execution_count": 175,
      "outputs": [
        {
          "output_type": "stream",
          "name": "stdout",
          "text": [
            "Ra:  0.01356997366231278\n"
          ]
        }
      ]
    },
    {
      "cell_type": "code",
      "source": [
        "# Desempeño historico In-sample\n",
        "valor = 100 \n",
        "t = len(retornos)\n",
        "n =len(mu)\n",
        "\n",
        "# Retornos historicos\n",
        "# PT\n",
        "rhpt = retornos @ wpt\n",
        "\n",
        "# Valor del portafolio\n",
        "# PMV\n",
        "port_t = np.zeros((t))\n",
        "port_t[0] = valor\n",
        "for i in range(1,t):\n",
        "  port_t[i] = port_t[i-1]*np.exp(rhpt[i-1])\n",
        "# Benchmark\n",
        "port_benchmark = np.zeros((t))\n",
        "port_benchmark[0] = valor\n",
        "for i in range(1,t):\n",
        "  port_benchmark[i] = port_benchmark[i-1]*np.exp(r_indice[i-1])\n",
        "\n",
        "Performance = pd.concat([pd.DataFrame(port_t,columns=['PT']), pd.DataFrame(port_benchmark,columns=['Indice'])], axis=1)\n",
        "Performance.plot()"
      ],
      "metadata": {
        "colab": {
          "base_uri": "https://localhost:8080/",
          "height": 282
        },
        "id": "eVv7ODhqJxc0",
        "outputId": "f341ab33-cc57-4046-8516-13fc838c5585"
      },
      "execution_count": 176,
      "outputs": [
        {
          "output_type": "execute_result",
          "data": {
            "text/plain": [
              "<matplotlib.axes._subplots.AxesSubplot at 0x7f4bd0de2f50>"
            ]
          },
          "metadata": {},
          "execution_count": 176
        },
        {
          "output_type": "display_data",
          "data": {
            "text/plain": [
              "<Figure size 432x288 with 1 Axes>"
            ],
            "image/png": "[encoded data removed]"
          },
          "metadata": {
            "needs_background": "light"
          }
        }
      ]
    },
    {
      "cell_type": "code",
      "source": [
        "# Desempeño historico Out-sample\n",
        "valor = 100 \n",
        "t = len(retornos_fm)+1\n",
        "n =len(mu)\n",
        "\n",
        "# PT\n",
        "rhpt_fm = retornos_fm @ wpt\n",
        "\n",
        "# Valor del portafolio\n",
        "# PT\n",
        "port_t = np.zeros((t))\n",
        "port_t[0] = valor\n",
        "for i in range(1,t):\n",
        "  port_t[i] = port_t[i-1]*np.exp(rhpt_fm[i-1])\n",
        "# Benchmark\n",
        "port_benchmark = np.zeros((t))\n",
        "port_benchmark[0] = valor\n",
        "for i in range(1,t):\n",
        "  port_benchmark[i] = port_benchmark[i-1]*np.exp(r_indice_fm[i-1])\n",
        "\n",
        "Performance = pd.concat([pd.DataFrame(port_t,columns=['PT']), pd.DataFrame(port_benchmark,columns=['Indice'])], axis=1)\n",
        "Performance.plot()"
      ],
      "metadata": {
        "colab": {
          "base_uri": "https://localhost:8080/",
          "height": 282
        },
        "id": "RwrpGRc5IZaT",
        "outputId": "938fe300-0afb-4563-9dbf-f2c6701b5995"
      },
      "execution_count": 177,
      "outputs": [
        {
          "output_type": "execute_result",
          "data": {
            "text/plain": [
              "<matplotlib.axes._subplots.AxesSubplot at 0x7f4bc78ad8d0>"
            ]
          },
          "metadata": {},
          "execution_count": 177
        },
        {
          "output_type": "display_data",
          "data": {
            "text/plain": [
              "<Figure size 432x288 with 1 Axes>"
            ],
            "image/png": "[encoded data removed]"
          },
          "metadata": {
            "needs_background": "light"
          }
        }
      ]
    },
    {
      "cell_type": "markdown",
      "source": [
        "### Ejemplo 7.3"
      ],
      "metadata": {
        "id": "u3Kg2sxNHVQB"
      }
    },
    {
      "cell_type": "code",
      "source": [
        "# Formulación de Treynor\n",
        "\n",
        "# Estimaciones: betas y varerror\n",
        "t =len(retornos)\n",
        "def linestim(x):\n",
        "  return intercept + slope * x\n",
        "\n",
        "betas = np.zeros((n,1))\n",
        "varerror = np.zeros((n,1))\n",
        "\n",
        "for i in range(n):\n",
        "  slope, intercept, r, p, se = stats.linregress(r_indice, retornos.iloc[:,i])\n",
        "  model = list(map(linestim, r_indice))\n",
        "  betas[i] = slope\n",
        "  varerror[i] = ((((retornos.iloc[:,i]-model)**2).sum())/(t-1))*12\n",
        "\n",
        "# Cálculo coeficiente de Treynor\n",
        "mu = np.array(mu).reshape((n,1))\n",
        "betas = np.array(betas).reshape((n,1))\n",
        "treynor = (mu-rf)/betas\n",
        "estimaciones = np.matrix(np.concatenate([np.array(treynor).reshape((n,1)),np.array(mu).reshape((n,1)), \n",
        "                                      np.array(sigma).reshape((n,1)), np.array(betas).reshape((n,1)),\n",
        "                                      np.array(varerror).reshape((n,1))],1))\n",
        "\n",
        "tabla = pd.DataFrame(estimaciones)\n",
        "tabla.columns=['Treynor','Retorno','Riesgo','Beta','VarError']\n",
        "tabla.index=activos \n",
        "tabla_sort = tabla.sort_values(by=['Treynor'],ascending=False)\n",
        "ratio1 = ((tabla_sort['Retorno']-rf)*tabla_sort['Beta'])/tabla_sort['VarError']\n",
        "ratio2 = tabla_sort['Beta']**2/tabla_sort['VarError']\n",
        "\n",
        "sumacu1 = ratio1.cumsum()\n",
        "sumacu2 = ratio2.cumsum()\n",
        "tasac = (sigmapm**2 * sumacu1)/(1+ sigmapm**2 * sumacu2)\n",
        "cuttoff = tasac.max()\n",
        "Zi = (tabla_sort['Beta']/tabla_sort['VarError'])*(tabla_sort['Treynor']-cuttoff)\n",
        "Zi = Zi.mask(Zi<0, 0)\n",
        "wpot = Zi/sum(Zi)"
      ],
      "metadata": {
        "id": "p-AX1vR6HY4R"
      },
      "execution_count": 14,
      "outputs": []
    },
    {
      "cell_type": "code",
      "source": [
        "fig = plt.figure(figsize = (6, 5))\n",
        "plt.bar(activos, wpot, width = 0.4)\n",
        "plt.ylabel(\"Part. (%)\")\n",
        "plt.show()"
      ],
      "metadata": {
        "colab": {
          "base_uri": "https://localhost:8080/",
          "height": 320
        },
        "id": "vo3KH7vIIaRe",
        "outputId": "42bd4cda-8b1e-4aea-fc14-13be781e7449"
      },
      "execution_count": 15,
      "outputs": [
        {
          "output_type": "display_data",
          "data": {
            "text/plain": [
              "<Figure size 432x360 with 1 Axes>"
            ],
            "image/png": "[encoded data removed]"
          },
          "metadata": {
            "needs_background": "light"
          }
        }
      ]
    },
    {
      "cell_type": "code",
      "source": [
        "# Evaluacion de desempeño in-sample\n",
        "# Retorno activo: \n",
        "rpot = wpot @ mu\n",
        "Rapot = rpot - rpm\n",
        "print('Ra: ', Rapot)"
      ],
      "metadata": {
        "colab": {
          "base_uri": "https://localhost:8080/"
        },
        "id": "0e0v0HYsJFcz",
        "outputId": "cff9ff0a-47f7-45a4-ff0a-39790421db09"
      },
      "execution_count": 16,
      "outputs": [
        {
          "output_type": "stream",
          "name": "stdout",
          "text": [
            "Ra:  [0.01028286]\n"
          ]
        }
      ]
    },
    {
      "cell_type": "code",
      "source": [
        "# Desempeño historico In-sample\n",
        "valor = 100 \n",
        "t = len(retornos)\n",
        "n =len(mu)\n",
        "\n",
        "# Retornos historicos\n",
        "# PT\n",
        "rhpot = retornos @ wpot\n",
        "\n",
        "# Valor del portafolio\n",
        "# PMV\n",
        "port_ot = np.zeros((t))\n",
        "port_ot[0] = valor\n",
        "for i in range(1,t):\n",
        "  port_ot[i] = port_ot[i-1]*np.exp(rhpot[i-1])\n",
        "# Benchmark\n",
        "port_benchmark = np.zeros((t))\n",
        "port_benchmark[0] = valor\n",
        "for i in range(1,t):\n",
        "  port_benchmark[i] = port_benchmark[i-1]*np.exp(r_indice[i-1])\n",
        "\n",
        "Performance = pd.concat([pd.DataFrame(port_ot,columns=['PTr']), pd.DataFrame(port_benchmark,columns=['Indice'])], axis=1)\n",
        "Performance.plot()"
      ],
      "metadata": {
        "colab": {
          "base_uri": "https://localhost:8080/",
          "height": 282
        },
        "id": "BK6K5H5RJNVS",
        "outputId": "79bcd16a-afc3-4dd7-cbfb-aa225ddc9c28"
      },
      "execution_count": 17,
      "outputs": [
        {
          "output_type": "execute_result",
          "data": {
            "text/plain": [
              "<matplotlib.axes._subplots.AxesSubplot at 0x7fa98a945590>"
            ]
          },
          "metadata": {},
          "execution_count": 17
        },
        {
          "output_type": "display_data",
          "data": {
            "text/plain": [
              "<Figure size 432x288 with 1 Axes>"
            ],
            "image/png": "[encoded data removed]"
          },
          "metadata": {
            "needs_background": "light"
          }
        }
      ]
    },
    {
      "cell_type": "code",
      "source": [
        "# Desempeño historico Out-sample\n",
        "valor = 100 \n",
        "t = len(retornos_fm)+1\n",
        "n =len(mu)\n",
        "\n",
        "# P Treynor\n",
        "rhpot_fm = retornos_fm @ wpot\n",
        "\n",
        "# Valor del portafolio\n",
        "# P Treynor\n",
        "port_ot = np.zeros((t))\n",
        "port_ot[0] = valor\n",
        "for i in range(1,t):\n",
        "  port_ot[i] = port_ot[i-1]*np.exp(rhpot_fm[i-1])\n",
        "# Benchmark\n",
        "port_benchmark = np.zeros((t))\n",
        "port_benchmark[0] = valor\n",
        "for i in range(1,t):\n",
        "  port_benchmark[i] = port_benchmark[i-1]*np.exp(r_indice_fm[i-1])\n",
        "\n",
        "Performance = pd.concat([pd.DataFrame(port_ot,columns=['PTr']), pd.DataFrame(port_benchmark,columns=['Indice'])], axis=1)\n",
        "Performance.plot()"
      ],
      "metadata": {
        "colab": {
          "base_uri": "https://localhost:8080/",
          "height": 282
        },
        "id": "feDnTjbcJYAJ",
        "outputId": "ca550129-7135-4815-d04f-c4941f2b9d58"
      },
      "execution_count": 18,
      "outputs": [
        {
          "output_type": "execute_result",
          "data": {
            "text/plain": [
              "<matplotlib.axes._subplots.AxesSubplot at 0x7fa98a7cb390>"
            ]
          },
          "metadata": {},
          "execution_count": 18
        },
        {
          "output_type": "display_data",
          "data": {
            "text/plain": [
              "<Figure size 432x288 with 1 Axes>"
            ],
            "image/png": "[encoded data removed]"
          },
          "metadata": {
            "needs_background": "light"
          }
        }
      ]
    },
    {
      "cell_type": "markdown",
      "source": [
        "### Ejemplo 7.4"
      ],
      "metadata": {
        "id": "UyUsuUeOJj6H"
      }
    },
    {
      "cell_type": "code",
      "source": [
        "# Función para el PT\n",
        "h = 0\n",
        "rf = 0.0\n",
        "r = mu -rf \n",
        "n = len(mu)\n",
        "\n",
        "semiret = np.minimum(h, retornos)\n",
        "semicov = semiret.cov()*12\n",
        "semivar = np.diag(semicov)\n",
        "semisigma = np.sqrt(semivar)\n",
        "\n",
        "# PT de Sortino\n",
        "w = cp.Variable(n)\n",
        "risk = cp.quad_form(w, semicov)\n",
        "objective = cp.Minimize(risk)\n",
        "constraints = [w @ r == 1, w >= 0] \n",
        "prob = cp.Problem(objective, constraints)\n",
        "prob.solve()\n",
        "wps = w.value/np.sum(w.value)\n",
        "\n",
        "fig = plt.figure(figsize = (6, 5))\n",
        "plt.bar(activos, wps, width = 0.4)\n",
        "plt.ylabel(\"Part. (%)\")\n",
        "plt.show()"
      ],
      "metadata": {
        "colab": {
          "base_uri": "https://localhost:8080/",
          "height": 320
        },
        "id": "BXHn07uqJlwm",
        "outputId": "fd06772f-c53b-4131-bc1e-9c2dc504f944"
      },
      "execution_count": 19,
      "outputs": [
        {
          "output_type": "display_data",
          "data": {
            "text/plain": [
              "<Figure size 432x360 with 1 Axes>"
            ],
            "image/png": "[encoded data removed]"
          },
          "metadata": {
            "needs_background": "light"
          }
        }
      ]
    },
    {
      "cell_type": "code",
      "source": [
        "# Evaluacion de desempeño in-sample\n",
        "# Retorno activo: \n",
        "rps = wps @ mu\n",
        "Raps = rps - rpm\n",
        "print('Ra: ', Raps)"
      ],
      "metadata": {
        "colab": {
          "base_uri": "https://localhost:8080/"
        },
        "id": "lr_z-BYnKD1K",
        "outputId": "b6bb6cd9-5699-4cfd-c3ed-7fe183330bd7"
      },
      "execution_count": 20,
      "outputs": [
        {
          "output_type": "stream",
          "name": "stdout",
          "text": [
            "Ra:  [0.01400422]\n"
          ]
        }
      ]
    },
    {
      "cell_type": "code",
      "source": [
        "# Desempeño historico In-sample\n",
        "valor = 100 \n",
        "t = len(retornos)\n",
        "n =len(mu)\n",
        "\n",
        "# Retornos historicos\n",
        "# P de Sortino\n",
        "rhps = retornos @ wps\n",
        "\n",
        "# Valor del portafolio\n",
        "# P de Sortino\n",
        "port_s = np.zeros((t))\n",
        "port_s[0] = valor\n",
        "for i in range(1,t):\n",
        "  port_s[i] = port_s[i-1]*np.exp(rhps[i-1])\n",
        "# Benchmark\n",
        "port_benchmark = np.zeros((t))\n",
        "port_benchmark[0] = valor\n",
        "for i in range(1,t):\n",
        "  port_benchmark[i] = port_benchmark[i-1]*np.exp(r_indice[i-1])\n",
        "\n",
        "Performance = pd.concat([pd.DataFrame(port_s,columns=['PS']), pd.DataFrame(port_benchmark,columns=['Indice'])], axis=1)\n",
        "Performance.plot()"
      ],
      "metadata": {
        "colab": {
          "base_uri": "https://localhost:8080/",
          "height": 282
        },
        "id": "SMns5_WPKPRI",
        "outputId": "01c7e338-003f-4a50-d579-a06e6f8c1d4a"
      },
      "execution_count": 21,
      "outputs": [
        {
          "output_type": "execute_result",
          "data": {
            "text/plain": [
              "<matplotlib.axes._subplots.AxesSubplot at 0x7fa98a656350>"
            ]
          },
          "metadata": {},
          "execution_count": 21
        },
        {
          "output_type": "display_data",
          "data": {
            "text/plain": [
              "<Figure size 432x288 with 1 Axes>"
            ],
            "image/png": "[encoded data removed]"
          },
          "metadata": {
            "needs_background": "light"
          }
        }
      ]
    },
    {
      "cell_type": "code",
      "source": [
        "# Desempeño historico Out-sample\n",
        "valor = 100 \n",
        "t = len(retornos_fm)+1\n",
        "n =len(mu)\n",
        "\n",
        "# PSortino\n",
        "rhps_fm = retornos_fm @ wps\n",
        "\n",
        "# Valor del portafolio\n",
        "# PSortino\n",
        "port_s = np.zeros((t))\n",
        "port_s[0] = valor\n",
        "for i in range(1,t):\n",
        "  port_s[i] = port_s[i-1]*np.exp(rhps_fm[i-1])\n",
        "# Benchmark\n",
        "port_benchmark = np.zeros((t))\n",
        "port_benchmark[0] = valor\n",
        "for i in range(1,t):\n",
        "  port_benchmark[i] = port_benchmark[i-1]*np.exp(r_indice_fm[i-1])\n",
        "\n",
        "Performance = pd.concat([pd.DataFrame(port_s,columns=['PS']), pd.DataFrame(port_benchmark,columns=['Indice'])], axis=1)\n",
        "Performance.plot()"
      ],
      "metadata": {
        "colab": {
          "base_uri": "https://localhost:8080/",
          "height": 282
        },
        "id": "7U6F8IxSKR_A",
        "outputId": "f206f8b0-0fd0-4c98-b57b-7dfa40a0c278"
      },
      "execution_count": 23,
      "outputs": [
        {
          "output_type": "execute_result",
          "data": {
            "text/plain": [
              "<matplotlib.axes._subplots.AxesSubplot at 0x7fa98a56ac50>"
            ]
          },
          "metadata": {},
          "execution_count": 23
        },
        {
          "output_type": "display_data",
          "data": {
            "text/plain": [
              "<Figure size 432x288 with 1 Axes>"
            ],
            "image/png": "[encoded data removed]"
          },
          "metadata": {
            "needs_background": "light"
          }
        }
      ]
    }
  ]
}