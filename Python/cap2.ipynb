{
  "nbformat": 4,
  "nbformat_minor": 0,
  "metadata": {
    "colab": {
      "name": "cap2.ipynb",
      "provenance": [],
      "collapsed_sections": []
    },
    "kernelspec": {
      "name": "python3",
      "display_name": "Python 3"
    },
    "language_info": {
      "name": "python"
    }
  },
  "cells": [
    {
      "cell_type": "markdown",
      "source": [
        "# Gestión Moderna de portafolio\n",
        "### Autores Bernardo León y Carlos Zapata\n",
        "### Copyright 2022\n"
      ],
      "metadata": {
        "id": "1kYONzj8sx8T"
      }
    },
    {
      "cell_type": "markdown",
      "source": [
        "## Capitulo 2: Modelo MV"
      ],
      "metadata": {
        "id": "TunvSmX5tH-i"
      }
    },
    {
      "cell_type": "markdown",
      "source": [
        "### Ejemplos 2.1 y 2.2"
      ],
      "metadata": {
        "id": "pmExthRatPfL"
      }
    },
    {
      "cell_type": "code",
      "execution_count": 120,
      "metadata": {
        "id": "EHiQVRWYswsG"
      },
      "outputs": [],
      "source": [
        "#Librerías usadas\n",
        "import pandas as pd\n",
        "import numpy as np\n",
        "import matplotlib.pyplot as plt"
      ]
    },
    {
      "cell_type": "code",
      "source": [
        "%pip install yfinance\n",
        "import yfinance as yf"
      ],
      "metadata": {
        "colab": {
          "base_uri": "https://localhost:8080/"
        },
        "id": "holLKdBnsxe8",
        "outputId": "067e9f73-7046-4eb8-b27b-10fe9339b611"
      },
      "execution_count": 2,
      "outputs": [
        {
          "output_type": "stream",
          "name": "stdout",
          "text": [
            "Looking in indexes: https://pypi.org/simple, https://us-python.pkg.dev/colab-wheels/public/simple/\n",
            "Collecting yfinance\n",
            "  Downloading yfinance-0.1.74-py2.py3-none-any.whl (27 kB)\n",
            "Collecting requests>=2.26\n",
            "  Downloading requests-2.28.1-py3-none-any.whl (62 kB)\n",
            "\u001b[K     |████████████████████████████████| 62 kB 578 kB/s \n",
            "\u001b[?25hRequirement already satisfied: pandas>=0.24.0 in /usr/local/lib/python3.7/dist-packages (from yfinance) (1.3.5)\n",
            "Collecting lxml>=4.5.1\n",
            "  Downloading lxml-4.9.1-cp37-cp37m-manylinux_2_17_x86_64.manylinux2014_x86_64.manylinux_2_24_x86_64.whl (6.4 MB)\n",
            "\u001b[K     |████████████████████████████████| 6.4 MB 12.2 MB/s \n",
            "\u001b[?25hRequirement already satisfied: numpy>=1.15 in /usr/local/lib/python3.7/dist-packages (from yfinance) (1.21.6)\n",
            "Requirement already satisfied: multitasking>=0.0.7 in /usr/local/lib/python3.7/dist-packages (from yfinance) (0.0.11)\n",
            "Requirement already satisfied: python-dateutil>=2.7.3 in /usr/local/lib/python3.7/dist-packages (from pandas>=0.24.0->yfinance) (2.8.2)\n",
            "Requirement already satisfied: pytz>=2017.3 in /usr/local/lib/python3.7/dist-packages (from pandas>=0.24.0->yfinance) (2022.1)\n",
            "Requirement already satisfied: six>=1.5 in /usr/local/lib/python3.7/dist-packages (from python-dateutil>=2.7.3->pandas>=0.24.0->yfinance) (1.15.0)\n",
            "Requirement already satisfied: idna<4,>=2.5 in /usr/local/lib/python3.7/dist-packages (from requests>=2.26->yfinance) (2.10)\n",
            "Requirement already satisfied: urllib3<1.27,>=1.21.1 in /usr/local/lib/python3.7/dist-packages (from requests>=2.26->yfinance) (1.24.3)\n",
            "Requirement already satisfied: certifi>=2017.4.17 in /usr/local/lib/python3.7/dist-packages (from requests>=2.26->yfinance) (2022.6.15)\n",
            "Requirement already satisfied: charset-normalizer<3,>=2 in /usr/local/lib/python3.7/dist-packages (from requests>=2.26->yfinance) (2.1.0)\n",
            "Installing collected packages: requests, lxml, yfinance\n",
            "  Attempting uninstall: requests\n",
            "    Found existing installation: requests 2.23.0\n",
            "    Uninstalling requests-2.23.0:\n",
            "      Successfully uninstalled requests-2.23.0\n",
            "  Attempting uninstall: lxml\n",
            "    Found existing installation: lxml 4.2.6\n",
            "    Uninstalling lxml-4.2.6:\n",
            "      Successfully uninstalled lxml-4.2.6\n",
            "\u001b[31mERROR: pip's dependency resolver does not currently take into account all the packages that are installed. This behaviour is the source of the following dependency conflicts.\n",
            "google-colab 1.0.0 requires requests~=2.23.0, but you have requests 2.28.1 which is incompatible.\n",
            "datascience 0.10.6 requires folium==0.2.1, but you have folium 0.8.3 which is incompatible.\u001b[0m\n",
            "Successfully installed lxml-4.9.1 requests-2.28.1 yfinance-0.1.74\n"
          ]
        }
      ]
    },
    {
      "cell_type": "markdown",
      "source": [
        "## Caso de 2 activos: ejemplo 2.1"
      ],
      "metadata": {
        "id": "AQYQrGir5U7d"
      }
    },
    {
      "cell_type": "code",
      "source": [
        "# Información histórica para AAPL y AMZN\n",
        "fechai = \"2009-12-01\"\n",
        "fechaf = \"2021-12-31\"\n",
        "periodicidad = \"1Mo\"\n",
        "activos = [\"AAPL\",\"AMZN\"]\n",
        "precios = yf.download(activos,start=fechai,end=fechaf,interval=periodicidad)['Adj Close'].dropna()\n",
        "retornos = np.log(precios/precios.shift(1)).dropna()\n",
        "mu = retornos.mean()\n",
        "cov = retornos.cov()\n",
        "sigma = retornos.std()\n",
        "rho = retornos['AAPL'].corr(retornos['AMZN'])\n",
        "n = len(mu)"
      ],
      "metadata": {
        "colab": {
          "base_uri": "https://localhost:8080/"
        },
        "id": "V4iXh0qFuKlc",
        "outputId": "b8a5d55c-0752-46d5-cd2b-43a0f9b65eff"
      },
      "execution_count": null,
      "outputs": [
        {
          "output_type": "stream",
          "name": "stdout",
          "text": [
            "[*********************100%***********************]  2 of 2 completed\n"
          ]
        }
      ]
    },
    {
      "cell_type": "code",
      "source": [
        "# Calculo de los pesos optimos\n",
        "sigma1 = sigma['AAPL']\n",
        "sigma2 = sigma['AMZN']\n",
        "w1 = (sigma2**2 - rho*sigma1*sigma2)/(sigma1**2+sigma2**2 - 2*(rho*sigma1*sigma2))\n",
        "w2 = (sigma1**2 - rho*sigma1*sigma2)/(sigma1**2+sigma2**2 - 2*(rho*sigma1*sigma2))\n",
        "\n",
        "print('w AAPL: ', round(w1,4))\n",
        "print('w AMZN: ', round(w2,4))"
      ],
      "metadata": {
        "colab": {
          "base_uri": "https://localhost:8080/"
        },
        "id": "jeTjynZhvri4",
        "outputId": "043b328b-d2de-482d-b087-0a6de5725acf"
      },
      "execution_count": null,
      "outputs": [
        {
          "output_type": "stream",
          "name": "stdout",
          "text": [
            "w AAPL:  0.5294\n",
            "w AMZN:  0.4706\n"
          ]
        }
      ]
    },
    {
      "cell_type": "code",
      "source": [
        "# Portafolio  optimo\n",
        "w = np.array([w1,w2])\n",
        "rp = (w @ mu)*12\n",
        "sigmap = np.sqrt(w.T @ cov @ w)\n",
        "sigmap = sigmap*np.sqrt(12)\n",
        "\n",
        "print('E(Rp): ', round(rp,4))\n",
        "print('SigmaP: ', round(sigmap,4))"
      ],
      "metadata": {
        "colab": {
          "base_uri": "https://localhost:8080/"
        },
        "id": "bhlPSt4kxI5m",
        "outputId": "732045ea-c960-49d5-ccb3-815842aa8c12"
      },
      "execution_count": null,
      "outputs": [
        {
          "output_type": "stream",
          "name": "stdout",
          "text": [
            "E(Rp):  0.2721\n",
            "SigmaP:  0.2269\n"
          ]
        }
      ]
    },
    {
      "cell_type": "code",
      "source": [
        "# Plano Riesgo-Retorno\n",
        "fig = plt.figure()\n",
        "ax = fig.add_subplot(111)\n",
        "plt.plot(sigma*np.sqrt(12), mu*12, \"ro\")\n",
        "plt.plot(sigmap, rp, \"*\",marker = 'o')\n",
        "plt.ylim(0.2,0.3)\n",
        "plt.xlim(0.2,0.3)\n",
        "plt.xlabel(\"Riesgo\")\n",
        "plt.ylabel(\"Retorno esperado\")\n",
        "ax.text(sigmap, rp*1.01, \"P\", fontsize=12)\n",
        "plt.annotate(' ', xy = (sigmap, rp), \n",
        "             fontsize = 16, xytext = (sigmap*1.12, rp), \n",
        "             arrowprops = dict(facecolor = 'red'),\n",
        "             color = 'g')\n",
        "plt.show()"
      ],
      "metadata": {
        "colab": {
          "base_uri": "https://localhost:8080/",
          "height": 283
        },
        "id": "mWaf8o4muO8q",
        "outputId": "6496dd09-7e89-43d5-c53b-067006d9ce5a"
      },
      "execution_count": null,
      "outputs": [
        {
          "output_type": "display_data",
          "data": {
            "text/plain": [
              "<Figure size 432x288 with 1 Axes>"
            ],
            "image/png": "[encoded data removed]"
          },
          "metadata": {
            "needs_background": "light"
          }
        }
      ]
    },
    {
      "cell_type": "markdown",
      "source": [
        "## Cambios en la correlacion de los activos\n",
        "## Ejemplo 2.2\n"
      ],
      "metadata": {
        "id": "tsNtPwcuCAi7"
      }
    },
    {
      "cell_type": "code",
      "source": [
        "# Calculos con diferentes correlaciones (rho)\n",
        "rho1 = 0.7 \n",
        "w11 = (sigma2**2 - rho1*sigma1*sigma2)/(sigma1**2+sigma2**2 - 2*(rho1*sigma1*sigma2))\n",
        "w21 = (sigma1**2 - rho1*sigma1*sigma2)/(sigma1**2+sigma2**2 - 2*(rho1*sigma1*sigma2))\n",
        "sigmap1 = np.sqrt(w11**2 * sigma1**2+ w21**2 * sigma2**2 + 2*w11*w21*sigma1*sigma2*rho1)\n",
        "round(sigmap1*np.sqrt(12),4)"
      ],
      "metadata": {
        "colab": {
          "base_uri": "https://localhost:8080/"
        },
        "id": "D1xHeEEguQi7",
        "outputId": "c91cade5-b572-4833-d92e-f5fbd81a0564"
      },
      "execution_count": null,
      "outputs": [
        {
          "output_type": "execute_result",
          "data": {
            "text/plain": [
              "0.2478"
            ]
          },
          "metadata": {},
          "execution_count": 120
        }
      ]
    },
    {
      "cell_type": "code",
      "source": [
        "rho2 = -0.3\n",
        "w12 = (sigma2**2 - rho2*sigma1*sigma2)/(sigma1**2+sigma2**2 - 2*(rho2*sigma1*sigma2))\n",
        "w22 = (sigma1**2 - rho2*sigma1*sigma2)/(sigma1**2+sigma2**2 - 2*(rho2*sigma1*sigma2))\n",
        "sigmap1 = np.sqrt(w12**2 * sigma1**2+ w22**2 * sigma2**2 + 2*w12*w22*sigma1*sigma2*rho2)\n",
        "round(sigmap1*np.sqrt(12),4)"
      ],
      "metadata": {
        "colab": {
          "base_uri": "https://localhost:8080/"
        },
        "id": "FNs18yiZuQo_",
        "outputId": "6d28e31a-bbad-4921-d297-4b82e986d883"
      },
      "execution_count": null,
      "outputs": [
        {
          "output_type": "execute_result",
          "data": {
            "text/plain": [
              "0.1592"
            ]
          },
          "metadata": {},
          "execution_count": 121
        }
      ]
    },
    {
      "cell_type": "markdown",
      "source": [
        "\n",
        "## Caso de n activos\n",
        "## Ejemplos 2.3, 2.4 y 2.5"
      ],
      "metadata": {
        "id": "gRPsX55-DR-u"
      }
    },
    {
      "cell_type": "code",
      "source": [
        "# Información histórica para las acciones: AAPL, AMZN, GOOG y MSFT\n",
        "fechai = \"2009-12-01\"\n",
        "fechaf = \"2021-12-31\"\n",
        "periodicidad = \"1Mo\"\n",
        "activos = [\"AAPL\",\"AMZN\",\"GOOGL\",\"MSFT\"]\n",
        "precios = yf.download(activos,start=fechai,end=fechaf,interval=periodicidad)['Adj Close'].dropna()\n",
        "retornos = np.log(precios/precios.shift(1)).dropna()\n",
        "mu = retornos.mean()*12\n",
        "cov = retornos.cov()*12\n",
        "var = np.diag(cov)\n",
        "sigma = np.sqrt(var)\n",
        "n = len(mu)\n",
        "round(mu,4)"
      ],
      "metadata": {
        "colab": {
          "base_uri": "https://localhost:8080/"
        },
        "id": "HzdyxhmYuPEz",
        "outputId": "b7ccde74-7668-4f7f-ca79-3cd40f7242f6"
      },
      "execution_count": 18,
      "outputs": [
        {
          "output_type": "stream",
          "name": "stdout",
          "text": [
            "[*********************100%***********************]  4 of 4 completed\n"
          ]
        },
        {
          "output_type": "execute_result",
          "data": {
            "text/plain": [
              "AAPL     0.2762\n",
              "AMZN     0.2675\n",
              "GOOGL    0.1862\n",
              "MSFT     0.2216\n",
              "dtype: float64"
            ]
          },
          "metadata": {},
          "execution_count": 18
        }
      ]
    },
    {
      "cell_type": "code",
      "source": [
        "## Portafolio Optimo de Markowitz\n",
        "unos = np.repeat(1,n)\n",
        "x = mu.T @ np.linalg.inv(cov) @ mu\n",
        "y = mu.T @ np.linalg.inv(cov) @ unos\n",
        "z = unos.T @ np.linalg.inv(cov) @ unos\n",
        "d = x*z - y**2\n",
        "\n",
        "g = (x*np.linalg.solve(cov,unos) - y*np.linalg.solve(cov,mu)) * (1/d)\n",
        "h = (z*np.linalg.solve(cov,mu) -  y*np.linalg.solve(cov,unos))  * (1/d)"
      ],
      "metadata": {
        "id": "YJZQqo0IEpU4"
      },
      "execution_count": 15,
      "outputs": []
    },
    {
      "cell_type": "code",
      "source": [
        "# Calculos para un solo portafolio con retorno Rp=0.25\n",
        "rpobj = 0.25\n",
        "wpobj = g + h * rpobj \n",
        "print('w PMVG: ', wpobj)"
      ],
      "metadata": {
        "colab": {
          "base_uri": "https://localhost:8080/"
        },
        "id": "QHB-xfciEyoS",
        "outputId": "4033e5f8-c4a6-45b6-b8c1-72dc69f80d25"
      },
      "execution_count": 23,
      "outputs": [
        {
          "output_type": "stream",
          "name": "stdout",
          "text": [
            "w PMVG:  [0.3235959  0.25422556 0.02707651 0.39510203]\n"
          ]
        }
      ]
    },
    {
      "cell_type": "code",
      "source": [
        "# Riesgo del portafolio óptimo\n",
        "sigmapobj = np.sqrt(wpobj.T @ cov @ wpobj)\n",
        "round(sigmapobj,4)"
      ],
      "metadata": {
        "colab": {
          "base_uri": "https://localhost:8080/"
        },
        "id": "LZJbgfeDG8EO",
        "outputId": "f11a8fab-c927-408d-af11-1e702049ab36"
      },
      "execution_count": 24,
      "outputs": [
        {
          "output_type": "execute_result",
          "data": {
            "text/plain": [
              "0.1936"
            ]
          },
          "metadata": {},
          "execution_count": 24
        }
      ]
    },
    {
      "cell_type": "code",
      "source": [
        "# Construcción de la FE\n",
        "rpmin = mu.min()\n",
        "rpmax = mu.max()\n",
        "nport = 100\n",
        "\n",
        "j = np.linspace(rpmin,rpmax, nport) \n",
        "wpo = np.zeros((nport, n))\n",
        "rpo = np.zeros((nport,1))\n",
        "sigmapo = np.zeros((nport,1))\n",
        "\n",
        "for i in range(nport):\n",
        "    wj = g + h*j[i] \n",
        "    wpo[i,:] = wj.T\n",
        "    rpo[i] = wj @ mu\n",
        "    sigmapo[i] = np.sqrt( wj.T @ cov @ wj)"
      ],
      "metadata": {
        "id": "0U3XB8z7G8It"
      },
      "execution_count": 25,
      "outputs": []
    },
    {
      "cell_type": "code",
      "source": [
        "# Plano Riesgo-Retorno\n",
        "fig = plt.figure(figsize = (6, 5))\n",
        "ax = fig.add_subplot(111)\n",
        "plt.plot(sigma, mu, \"ro\")\n",
        "plt.plot(sigmapo, rpo)\n",
        "plt.xlabel(\"Riesgo\")\n",
        "plt.ylabel(\"Retorno esperado\")\n",
        "plt.ylim(0.15,0.3)\n",
        "plt.xlim(0.15,0.3)\n",
        "plt.show()"
      ],
      "metadata": {
        "colab": {
          "base_uri": "https://localhost:8080/",
          "height": 338
        },
        "id": "jaWX9datG8Nu",
        "outputId": "d9304e2e-5c54-4025-f9cf-c7a8d5b2fcf3"
      },
      "execution_count": 27,
      "outputs": [
        {
          "output_type": "display_data",
          "data": {
            "text/plain": [
              "<Figure size 432x360 with 1 Axes>"
            ],
            "image/png": "[encoded data removed]"
          },
          "metadata": {
            "needs_background": "light"
          }
        }
      ]
    },
    {
      "cell_type": "code",
      "source": [
        "# PMVG\n",
        "cov_inv_1 = np.linalg.solve(cov,unos) \n",
        "wpmvg = (1/(unos @ cov_inv_1)) * cov_inv_1\n",
        "rpmvg = wpmvg @ mu\n",
        "sigmapmvg = np.sqrt( wpmvg.T @ cov @ wpmvg)\n",
        "\n",
        "print('Resultados PMVG: ')\n",
        "print('E(Rp): ', round(rpmvg,4))\n",
        "print('SigmaP: ', round(sigmapmvg,4))"
      ],
      "metadata": {
        "colab": {
          "base_uri": "https://localhost:8080/"
        },
        "id": "aIuC-p6FG8Uh",
        "outputId": "4740837f-0577-482e-f145-1048f0878030"
      },
      "execution_count": 28,
      "outputs": [
        {
          "output_type": "stream",
          "name": "stdout",
          "text": [
            "Resultados PMVG: \n",
            "E(Rp):  0.2278\n",
            "SigmaP:  0.1847\n"
          ]
        }
      ]
    },
    {
      "cell_type": "code",
      "source": [
        "# Pesos del PMVG\n",
        "fig = plt.figure(figsize = (6, 5))\n",
        "plt.bar(activos, wpmvg, width = 0.4)\n",
        "plt.ylabel(\"Part. (%)\")\n",
        "plt.show()"
      ],
      "metadata": {
        "colab": {
          "base_uri": "https://localhost:8080/",
          "height": 320
        },
        "id": "t2if44fTStp5",
        "outputId": "d48481e5-538c-4235-80f5-9e729db01478"
      },
      "execution_count": 29,
      "outputs": [
        {
          "output_type": "display_data",
          "data": {
            "text/plain": [
              "<Figure size 432x360 with 1 Axes>"
            ],
            "image/png": "[encoded data removed]"
          },
          "metadata": {
            "needs_background": "light"
          }
        }
      ]
    },
    {
      "cell_type": "code",
      "source": [
        "# Plano Riesgo-Retorno\n",
        "fig = plt.figure(figsize = (6, 5))\n",
        "ax = fig.add_subplot(111)\n",
        "plt.plot(sigma, mu, \"ro\")\n",
        "plt.plot(sigmapo, rpo)\n",
        "plt.xlabel(\"Riesgo\")\n",
        "plt.ylabel(\"Retorno esperado\")\n",
        "plt.ylim(0.15,0.3)\n",
        "plt.xlim(0.15,0.3)\n",
        "plt.plot(sigmapmvg, rpmvg, \"o\", color = 'black')\n",
        "ax.text(sigmapmvg*0.9, rpmvg, \"PMVG\", fontsize=12)\n",
        "plt.show()"
      ],
      "metadata": {
        "colab": {
          "base_uri": "https://localhost:8080/",
          "height": 338
        },
        "id": "2q0a7M6TITyn",
        "outputId": "69c94176-0cb2-4e6b-dcaf-a5959291cbdf"
      },
      "execution_count": 44,
      "outputs": [
        {
          "output_type": "display_data",
          "data": {
            "text/plain": [
              "<Figure size 432x360 with 1 Axes>"
            ],
            "image/png": "[encoded data removed]"
          },
          "metadata": {
            "needs_background": "light"
          }
        }
      ]
    },
    {
      "cell_type": "markdown",
      "source": [
        "## Ejemplo 2.6\n",
        "## Solucion del portafolio tangente: maximo Sharpe"
      ],
      "metadata": {
        "id": "6nmdsHLzQdd1"
      }
    },
    {
      "cell_type": "code",
      "source": [
        "# Formulacion 1\n",
        "rf = 0.0\n",
        "r = mu -rf \n",
        "Z = np.linalg.solve(cov,r) \n",
        "sumaZ = Z.sum()\n",
        "wpt = Z/sumaZ\n",
        "rpt = wpt @ mu\n",
        "sigmapt = np.sqrt(wpt.T @ cov @ wpt)\n",
        "\n",
        "print('Resultados PT: ')\n",
        "print('E(Rp): ', round(rpt,4))\n",
        "print('SigmaP: ', round(sigmapt,4))"
      ],
      "metadata": {
        "colab": {
          "base_uri": "https://localhost:8080/"
        },
        "id": "_ci7nQQzuPSZ",
        "outputId": "c455720e-e2c6-4045-a4af-f575bfca9c45"
      },
      "execution_count": 33,
      "outputs": [
        {
          "output_type": "stream",
          "name": "stdout",
          "text": [
            "Resultados PT: \n",
            "E(Rp):  0.2497\n",
            "SigmaP:  0.1934\n"
          ]
        }
      ]
    },
    {
      "cell_type": "code",
      "source": [
        "# Pesos del PT\n",
        "fig = plt.figure(figsize = (6, 5))\n",
        "plt.bar(activos, wpt, width = 0.4)\n",
        "plt.ylabel(\"Part. (%)\")\n",
        "plt.show()"
      ],
      "metadata": {
        "colab": {
          "base_uri": "https://localhost:8080/",
          "height": 320
        },
        "id": "KGRy0TGZSzgO",
        "outputId": "e52755fa-05a8-4776-f90b-e095c48c9cf9"
      },
      "execution_count": 34,
      "outputs": [
        {
          "output_type": "display_data",
          "data": {
            "text/plain": [
              "<Figure size 432x360 with 1 Axes>"
            ],
            "image/png": "[encoded data removed]"
          },
          "metadata": {
            "needs_background": "light"
          }
        }
      ]
    },
    {
      "cell_type": "code",
      "source": [
        "# Construcción de la LMC\n",
        "nport = 100\n",
        "wpc = np.linspace(0, 1.5, nport) \n",
        "rpc = np.zeros((nport))\n",
        "sigmapc = np.zeros((nport))\n",
        "\n",
        "for i in range(nport):\n",
        "    rpc[i] = wpc[i]*rpt+(1-wpc[i])*rf\n",
        "    sigmapc[i] = wpc[i]*sigmapt"
      ],
      "metadata": {
        "id": "sw3-U6-tROjU"
      },
      "execution_count": 35,
      "outputs": []
    },
    {
      "cell_type": "code",
      "source": [
        "# Plano Riesgo-Retorno\n",
        "fig = plt.figure(figsize = (6, 5))\n",
        "ax = fig.add_subplot(111)\n",
        "plt.plot(sigma, mu, \"ro\")\n",
        "plt.plot(sigmapo, rpo)\n",
        "plt.xlabel(\"Riesgo\")\n",
        "plt.ylabel(\"Retorno esperado\")\n",
        "plt.ylim(0.15,0.3)\n",
        "plt.xlim(0.15,0.3)\n",
        "plt.plot(sigmapmvg, rpmvg, \"o\", color = 'black')\n",
        "ax.text(sigmapmvg*0.9, rpmvg, \"PMVG\", fontsize=12)\n",
        "plt.plot(sigmapc, rpc, color = 'black')\n",
        "plt.plot(sigmapt, rpt, \"o\", color = 'black')\n",
        "ax.text(sigmapt*0.97, rpt, \"T\", fontsize=12)\n",
        "plt.show()"
      ],
      "metadata": {
        "colab": {
          "base_uri": "https://localhost:8080/",
          "height": 338
        },
        "id": "4M_RRRbsR116",
        "outputId": "be398c70-7a8b-41b7-d40a-84f932bc8025"
      },
      "execution_count": 43,
      "outputs": [
        {
          "output_type": "display_data",
          "data": {
            "text/plain": [
              "<Figure size 432x360 with 1 Axes>"
            ],
            "image/png": "[encoded data removed]"
          },
          "metadata": {
            "needs_background": "light"
          }
        }
      ]
    },
    {
      "cell_type": "markdown",
      "source": [
        "## Ejemplo 2.7\n",
        "## Solucion PMVG y PT sin cortos"
      ],
      "metadata": {
        "id": "N44wdg28ELBZ"
      }
    },
    {
      "cell_type": "code",
      "source": [
        "from cvxopt import matrix\n",
        "from cvxopt import solvers"
      ],
      "metadata": {
        "id": "opi2atDnQ43S"
      },
      "execution_count": 121,
      "outputs": []
    },
    {
      "cell_type": "code",
      "source": [
        "# Formulación programa QP\n",
        "rpmin = mu.min()\n",
        "rpmax = mu.max()\n",
        "nport = 100\n",
        "rp = 0.25\n",
        "j = np.linspace(rpmin,rpmax, nport) \n",
        "\n",
        "P = cov\n",
        "q = matrix(np.zeros((n,1)))\n",
        "G = matrix(np.concatenate((\n",
        "            -np.transpose(np.array(mu)).reshape((n,1)),\n",
        "            -np.ones(n).reshape(n,1),\n",
        "            -np.diag(np.full(n,1))),1).T)\n",
        "h = matrix(np.concatenate((\n",
        "             -np.ones((1,1))*rp, \n",
        "              np.zeros((n,1))), 0))"
      ],
      "metadata": {
        "id": "sguVNyZPENWz"
      },
      "execution_count": 134,
      "outputs": []
    },
    {
      "cell_type": "code",
      "source": [
        "## Falta terminar formulación\n"
      ],
      "metadata": {
        "id": "ENcErILJbHrG"
      },
      "execution_count": 136,
      "outputs": []
    },
    {
      "cell_type": "code",
      "source": [
        ""
      ],
      "metadata": {
        "id": "FOKtfmFRdgO9"
      },
      "execution_count": null,
      "outputs": []
    },
    {
      "cell_type": "code",
      "source": [
        ""
      ],
      "metadata": {
        "id": "jv77Gm_udgsm"
      },
      "execution_count": null,
      "outputs": []
    },
    {
      "cell_type": "markdown",
      "source": [
        "## Implementacion del algoritmo: Seccion 2.9"
      ],
      "metadata": {
        "id": "FBy97o_Adg1W"
      }
    },
    {
      "cell_type": "code",
      "source": [
        "# Información histórica para las acciones\n",
        "fechai = \"2009-12-01\"\n",
        "fechaf = \"2021-12-31\"\n",
        "periodicidad = \"1Mo\"\n",
        "activos = [\"AAPL\",\"ABT\",\"AMZN\",\"CAT\",\"CSX\",\"CSCO\",\"GOOG\",\"HD\",\"JNJ\",\"MSFT\",\"MCD\",\"V\"]\n",
        "precios = yf.download(activos,start=fechai,end=fechaf,interval=periodicidad)['Adj Close'].dropna()\n",
        "retornos = np.log(precios/precios.shift(1)).dropna()\n",
        "mu = retornos.mean()*12\n",
        "cov = retornos.cov()*12\n",
        "var = np.diag(cov)\n",
        "sigma = np.sqrt(var)\n",
        "n = len(mu)"
      ],
      "metadata": {
        "colab": {
          "base_uri": "https://localhost:8080/"
        },
        "id": "xOScLjOzeF7d",
        "outputId": "55da2784-bc6b-447d-f766-5f4d8ee06fd5"
      },
      "execution_count": 137,
      "outputs": [
        {
          "output_type": "stream",
          "name": "stdout",
          "text": [
            "[*********************100%***********************]  12 of 12 completed\n"
          ]
        }
      ]
    },
    {
      "cell_type": "code",
      "source": [
        "# Construcción de la FE\n",
        "unos = np.repeat(1,n)\n",
        "x = mu.T @ np.linalg.inv(cov) @ mu\n",
        "y = mu.T @ np.linalg.inv(cov) @ unos\n",
        "z = unos.T @ np.linalg.inv(cov) @ unos\n",
        "d = x*z - y**2\n",
        "\n",
        "g = (x*np.linalg.solve(cov,unos) - y*np.linalg.solve(cov,mu)) * (1/d)\n",
        "h = (z*np.linalg.solve(cov,mu) -  y*np.linalg.solve(cov,unos))  * (1/d)\n",
        "\n",
        "rpmin = mu.min()\n",
        "rpmax = mu.max()\n",
        "nport = 100\n",
        "\n",
        "j = np.linspace(rpmin,rpmax, nport) \n",
        "wpo = np.zeros((nport, n))\n",
        "rpo = np.zeros((nport,1))\n",
        "sigmapo = np.zeros((nport,1))\n",
        "\n",
        "for i in range(nport):\n",
        "    wj = g + h*j[i] \n",
        "    wpo[i,:] = wj.T\n",
        "    rpo[i] = wj @ mu\n",
        "    sigmapo[i] = np.sqrt( wj.T @ cov @ wj)\n",
        "\n",
        "# PMVG\n",
        "cov_inv_1 = np.linalg.solve(cov,unos) \n",
        "wpmvg = (1/(unos @ cov_inv_1)) * cov_inv_1\n",
        "rpmvg = wpmvg @ mu\n",
        "sigmapmvg = np.sqrt( wpmvg.T @ cov @ wpmvg)\n",
        "\n",
        "# PT\n",
        "rf = 0.0\n",
        "r = mu -rf \n",
        "Z = np.linalg.solve(cov,r) \n",
        "sumaZ = Z.sum()\n",
        "wpt = Z/sumaZ\n",
        "rpt = wpt @ mu\n",
        "sigmapt = np.sqrt(wpt.T @ cov @ wpt)\n"
      ],
      "metadata": {
        "id": "Up6-65EGeQY4"
      },
      "execution_count": 138,
      "outputs": []
    },
    {
      "cell_type": "code",
      "source": [
        "# Pesos del PT\n",
        "fig = plt.figure(figsize = (6, 5))\n",
        "plt.bar(activos, wpt, width = 0.4)\n",
        "plt.ylabel(\"Part. (%)\")\n",
        "plt.show()"
      ],
      "metadata": {
        "colab": {
          "base_uri": "https://localhost:8080/",
          "height": 320
        },
        "id": "yafUpRpjeZfc",
        "outputId": "fccc7cac-c763-406e-b691-70f4df38cf90"
      },
      "execution_count": 139,
      "outputs": [
        {
          "output_type": "display_data",
          "data": {
            "text/plain": [
              "<Figure size 432x360 with 1 Axes>"
            ],
            "image/png": "[encoded data removed]"
          },
          "metadata": {
            "needs_background": "light"
          }
        }
      ]
    },
    {
      "cell_type": "code",
      "source": [
        "# Plano Riesgo-Retorno\n",
        "fig = plt.figure(figsize = (6, 5))\n",
        "ax = fig.add_subplot(111)\n",
        "plt.plot(sigma, mu, \"o\", color = 'gray')\n",
        "plt.plot(sigmapo, rpo)\n",
        "plt.xlabel(\"Riesgo\")\n",
        "plt.ylabel(\"Retorno esperado\")\n",
        "plt.ylim(0.05,0.35)\n",
        "plt.xlim(0.05,0.35)\n",
        "plt.plot(sigmapmvg, rpmvg, \"o\", color = 'black')\n",
        "ax.text(sigmapmvg*0.7, rpmvg, \"PMVG\", fontsize=12)\n",
        "plt.plot(sigmapt, rpt, \"o\", color = 'black')\n",
        "ax.text(sigmapt*0.92, rpt, \"T\", fontsize=12)\n",
        "plt.show()\n"
      ],
      "metadata": {
        "colab": {
          "base_uri": "https://localhost:8080/",
          "height": 338
        },
        "id": "hUHDdllhecp-",
        "outputId": "3813ced3-303b-460c-9b67-bdd268288c9a"
      },
      "execution_count": 147,
      "outputs": [
        {
          "output_type": "display_data",
          "data": {
            "text/plain": [
              "<Figure size 432x360 with 1 Axes>"
            ],
            "image/png": "[encoded data removed]"
          },
          "metadata": {
            "needs_background": "light"
          }
        }
      ]
    },
    {
      "cell_type": "code",
      "source": [
        ""
      ],
      "metadata": {
        "id": "95-lksYae7rq"
      },
      "execution_count": null,
      "outputs": []
    }
  ]
}