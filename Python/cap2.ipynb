{
  "nbformat": 4,
  "nbformat_minor": 0,
  "metadata": {
    "colab": {
      "provenance": []
    },
    "kernelspec": {
      "name": "python3",
      "display_name": "Python 3"
    },
    "language_info": {
      "name": "python"
    }
  },
  "cells": [
    {
      "cell_type": "markdown",
      "source": [
        "# Gestión Moderna de Portafolio\n",
        "### Autores Bernardo León y Carlos Zapata\n",
        "### (C) Copyright 2023\n"
      ],
      "metadata": {
        "id": "1kYONzj8sx8T"
      }
    },
    {
      "cell_type": "markdown",
      "source": [
        "## Capitulo 2: Modelo MV"
      ],
      "metadata": {
        "id": "TunvSmX5tH-i"
      }
    },
    {
      "cell_type": "markdown",
      "source": [
        "### Ejemplos 2.1 y 2.2"
      ],
      "metadata": {
        "id": "pmExthRatPfL"
      }
    },
    {
      "cell_type": "code",
      "execution_count": 1,
      "metadata": {
        "id": "EHiQVRWYswsG",
        "colab": {
          "base_uri": "https://localhost:8080/"
        },
        "outputId": "7defd4c6-74c8-412a-8ccb-21adf1f6e28e"
      },
      "outputs": [
        {
          "output_type": "stream",
          "name": "stdout",
          "text": [
            "\u001b[2K     \u001b[90m━━━━━━━━━━━━━━━━━━━━━━━━━━━━━━━━━━━━━━━━\u001b[0m \u001b[32m55.9/55.9 KB\u001b[0m \u001b[31m1.0 MB/s\u001b[0m eta \u001b[36m0:00:00\u001b[0m\n",
            "\u001b[2K     \u001b[90m━━━━━━━━━━━━━━━━━━━━━━━━━━━━━━━━━━━━━━━━\u001b[0m \u001b[32m62.8/62.8 KB\u001b[0m \u001b[31m2.9 MB/s\u001b[0m eta \u001b[36m0:00:00\u001b[0m\n",
            "\u001b[2K     \u001b[90m━━━━━━━━━━━━━━━━━━━━━━━━━━━━━━━━━━━━━━━\u001b[0m \u001b[32m112.2/112.2 KB\u001b[0m \u001b[31m5.0 MB/s\u001b[0m eta \u001b[36m0:00:00\u001b[0m\n",
            "\u001b[2K     \u001b[90m━━━━━━━━━━━━━━━━━━━━━━━━━━━━━━━━━━━━━━━\u001b[0m \u001b[32m111.0/111.0 KB\u001b[0m \u001b[31m3.6 MB/s\u001b[0m eta \u001b[36m0:00:00\u001b[0m\n",
            "\u001b[2K     \u001b[90m━━━━━━━━━━━━━━━━━━━━━━━━━━━━━━━━━━━━━━━━\u001b[0m \u001b[32m4.2/4.2 MB\u001b[0m \u001b[31m12.7 MB/s\u001b[0m eta \u001b[36m0:00:00\u001b[0m\n",
            "\u001b[2K     \u001b[90m━━━━━━━━━━━━━━━━━━━━━━━━━━━━━━━━━━━━━━━\u001b[0m \u001b[32m129.4/129.4 KB\u001b[0m \u001b[31m7.5 MB/s\u001b[0m eta \u001b[36m0:00:00\u001b[0m\n",
            "\u001b[?25h"
          ]
        }
      ],
      "source": [
        "#Librerías usadas\n",
        "import pandas as pd\n",
        "import numpy as np\n",
        "import matplotlib.pyplot as plt\n",
        "%pip install --quiet yfinance\n",
        "import yfinance as yf\n",
        "import warnings\n",
        "warnings.filterwarnings(\"ignore\")"
      ]
    },
    {
      "cell_type": "markdown",
      "source": [
        "## Caso de 2 activos: ejemplo 2.1"
      ],
      "metadata": {
        "id": "AQYQrGir5U7d"
      }
    },
    {
      "cell_type": "code",
      "source": [
        "# Información histórica para AAPL y AMZN\n",
        "fechai = \"2009-12-01\"\n",
        "fechaf = \"2021-12-31\"\n",
        "periodicidad = \"1Mo\"\n",
        "activos = [\"AAPL\",\"AMZN\"]\n",
        "precios = yf.download(activos,start=fechai,end=fechaf,interval=periodicidad)['Adj Close'].dropna()\n",
        "retornos = np.log(precios/precios.shift(1)).dropna()\n",
        "mu = retornos.mean()\n",
        "cov = retornos.cov()\n",
        "sigma = retornos.std()\n",
        "rho = retornos['AAPL'].corr(retornos['AMZN'])\n",
        "n = len(mu)"
      ],
      "metadata": {
        "colab": {
          "base_uri": "https://localhost:8080/"
        },
        "id": "V4iXh0qFuKlc",
        "outputId": "fd7ae3e1-fba0-4665-ab1c-c39262f4d599"
      },
      "execution_count": 2,
      "outputs": [
        {
          "output_type": "stream",
          "name": "stdout",
          "text": [
            "[*********************100%***********************]  2 of 2 completed\n"
          ]
        }
      ]
    },
    {
      "cell_type": "code",
      "source": [
        "# Calculo de los pesos optimos\n",
        "sigma1 = sigma['AAPL']\n",
        "sigma2 = sigma['AMZN']\n",
        "w1 = (sigma2**2 - rho*sigma1*sigma2)/(sigma1**2+sigma2**2 - 2*(rho*sigma1*sigma2))\n",
        "w2 = (sigma1**2 - rho*sigma1*sigma2)/(sigma1**2+sigma2**2 - 2*(rho*sigma1*sigma2))\n",
        "\n",
        "print('w AAPL: ', round(w1,4))\n",
        "print('w AMZN: ', round(w2,4))"
      ],
      "metadata": {
        "colab": {
          "base_uri": "https://localhost:8080/"
        },
        "id": "jeTjynZhvri4",
        "outputId": "2eca5abd-dcb6-4786-9eee-ea2768242708"
      },
      "execution_count": 3,
      "outputs": [
        {
          "output_type": "stream",
          "name": "stdout",
          "text": [
            "w AAPL:  0.5294\n",
            "w AMZN:  0.4706\n"
          ]
        }
      ]
    },
    {
      "cell_type": "code",
      "source": [
        "# Portafolio  optimo\n",
        "w = np.array([w1,w2])\n",
        "rp = (w @ mu)*12\n",
        "sigmap = np.sqrt(w.T @ cov @ w)\n",
        "sigmap = sigmap*np.sqrt(12)\n",
        "\n",
        "print('E(Rp): ', round(rp,4))\n",
        "print('SigmaP: ', round(sigmap,4))"
      ],
      "metadata": {
        "colab": {
          "base_uri": "https://localhost:8080/"
        },
        "id": "bhlPSt4kxI5m",
        "outputId": "bafe7a7c-0057-4d95-9e71-2151ec975139"
      },
      "execution_count": 4,
      "outputs": [
        {
          "output_type": "stream",
          "name": "stdout",
          "text": [
            "E(Rp):  0.2721\n",
            "SigmaP:  0.2269\n"
          ]
        }
      ]
    },
    {
      "cell_type": "code",
      "source": [
        "# Plano Riesgo-Retorno\n",
        "fig = plt.figure()\n",
        "ax = fig.add_subplot(111)\n",
        "plt.plot(sigma*np.sqrt(12), mu*12, \"ro\")\n",
        "plt.plot(sigmap, rp, \"*\",marker = 'o')\n",
        "plt.ylim(0.2,0.3)\n",
        "plt.xlim(0.2,0.3)\n",
        "plt.xlabel(\"Riesgo\")\n",
        "plt.ylabel(\"Retorno esperado\")\n",
        "ax.text(sigmap, rp*1.01, \"P\", fontsize=12)\n",
        "plt.annotate(' ', xy = (sigmap, rp), \n",
        "             fontsize = 16, xytext = (sigmap*1.12, rp), \n",
        "             arrowprops = dict(facecolor = 'red'),\n",
        "             color = 'g')\n",
        "plt.show();"
      ],
      "metadata": {
        "colab": {
          "base_uri": "https://localhost:8080/",
          "height": 283
        },
        "id": "mWaf8o4muO8q",
        "outputId": "b55adce8-b3ee-4a0f-9e57-25deb38340e5"
      },
      "execution_count": 5,
      "outputs": [
        {
          "output_type": "display_data",
          "data": {
            "text/plain": [
              "<Figure size 432x288 with 1 Axes>"
            ],
            "image/png": "[encoded data removed]"
          },
          "metadata": {
            "needs_background": "light"
          }
        }
      ]
    },
    {
      "cell_type": "markdown",
      "source": [
        "## Cambios en la correlacion de los activos\n",
        "## Ejemplo 2.2\n"
      ],
      "metadata": {
        "id": "tsNtPwcuCAi7"
      }
    },
    {
      "cell_type": "code",
      "source": [
        "# Calculos con diferentes correlaciones (rho)\n",
        "rho1 = 0.7 \n",
        "w11 = (sigma2**2 - rho1*sigma1*sigma2)/(sigma1**2+sigma2**2 - 2*(rho1*sigma1*sigma2))\n",
        "w21 = (sigma1**2 - rho1*sigma1*sigma2)/(sigma1**2+sigma2**2 - 2*(rho1*sigma1*sigma2))\n",
        "sigmap1 = np.sqrt(w11**2 * sigma1**2+ w21**2 * sigma2**2 + 2*w11*w21*sigma1*sigma2*rho1)\n",
        "round(sigmap1*np.sqrt(12),4)"
      ],
      "metadata": {
        "colab": {
          "base_uri": "https://localhost:8080/"
        },
        "id": "D1xHeEEguQi7",
        "outputId": "25e2c5df-5355-43a3-e8ca-753ce4b64c1e"
      },
      "execution_count": 6,
      "outputs": [
        {
          "output_type": "execute_result",
          "data": {
            "text/plain": [
              "0.2478"
            ]
          },
          "metadata": {},
          "execution_count": 6
        }
      ]
    },
    {
      "cell_type": "code",
      "source": [
        "rho2 = -0.3\n",
        "w12 = (sigma2**2 - rho2*sigma1*sigma2)/(sigma1**2+sigma2**2 - 2*(rho2*sigma1*sigma2))\n",
        "w22 = (sigma1**2 - rho2*sigma1*sigma2)/(sigma1**2+sigma2**2 - 2*(rho2*sigma1*sigma2))\n",
        "sigmap1 = np.sqrt(w12**2 * sigma1**2+ w22**2 * sigma2**2 + 2*w12*w22*sigma1*sigma2*rho2)\n",
        "round(sigmap1*np.sqrt(12),4)"
      ],
      "metadata": {
        "colab": {
          "base_uri": "https://localhost:8080/"
        },
        "id": "FNs18yiZuQo_",
        "outputId": "0402fd21-cf0c-4e57-94de-7d299143c2fc"
      },
      "execution_count": 7,
      "outputs": [
        {
          "output_type": "execute_result",
          "data": {
            "text/plain": [
              "0.1592"
            ]
          },
          "metadata": {},
          "execution_count": 7
        }
      ]
    },
    {
      "cell_type": "markdown",
      "source": [
        "\n",
        "## Caso de n activos\n",
        "## Ejemplos 2.3, 2.4 y 2.5"
      ],
      "metadata": {
        "id": "gRPsX55-DR-u"
      }
    },
    {
      "cell_type": "code",
      "source": [
        "# Información histórica para las acciones: AAPL, AMZN, GOOG y MSFT\n",
        "fechai = \"2009-12-01\"\n",
        "fechaf = \"2021-12-31\"\n",
        "periodicidad = \"1Mo\"\n",
        "activos = [\"AAPL\",\"AMZN\",\"GOOGL\",\"MSFT\"]\n",
        "precios = yf.download(activos,start=fechai,end=fechaf,interval=periodicidad)['Adj Close'].dropna()\n",
        "retornos = np.log(precios/precios.shift(1)).dropna()\n",
        "mu = retornos.mean()*12\n",
        "cov = retornos.cov()*12\n",
        "var = np.diag(cov)\n",
        "sigma = np.sqrt(var)\n",
        "n = len(mu)\n",
        "round(mu,4)"
      ],
      "metadata": {
        "colab": {
          "base_uri": "https://localhost:8080/"
        },
        "id": "HzdyxhmYuPEz",
        "outputId": "1ae30ce4-69d0-46d0-80e1-4740c748cfa6"
      },
      "execution_count": 8,
      "outputs": [
        {
          "output_type": "stream",
          "name": "stdout",
          "text": [
            "[*********************100%***********************]  4 of 4 completed\n"
          ]
        },
        {
          "output_type": "execute_result",
          "data": {
            "text/plain": [
              "AAPL     0.2762\n",
              "AMZN     0.2675\n",
              "GOOGL    0.1862\n",
              "MSFT     0.2216\n",
              "dtype: float64"
            ]
          },
          "metadata": {},
          "execution_count": 8
        }
      ]
    },
    {
      "cell_type": "code",
      "source": [
        "## Portafolio Optimo de Markowitz\n",
        "unos = np.repeat(1,n)\n",
        "x = mu.T @ np.linalg.inv(cov) @ mu\n",
        "y = mu.T @ np.linalg.inv(cov) @ unos\n",
        "z = unos.T @ np.linalg.inv(cov) @ unos\n",
        "d = x*z - y**2\n",
        "\n",
        "g = (x*np.linalg.solve(cov,unos) - y*np.linalg.solve(cov,mu)) * (1/d)\n",
        "h = (z*np.linalg.solve(cov,mu) -  y*np.linalg.solve(cov,unos))  * (1/d)"
      ],
      "metadata": {
        "id": "YJZQqo0IEpU4"
      },
      "execution_count": null,
      "outputs": []
    },
    {
      "cell_type": "code",
      "source": [
        "# Calculos para un solo portafolio con retorno Rp=0.25\n",
        "rpobj = 0.25\n",
        "wpobj = g + h * rpobj \n",
        "print('w PMVG: ', wpobj)"
      ],
      "metadata": {
        "colab": {
          "base_uri": "https://localhost:8080/"
        },
        "id": "QHB-xfciEyoS",
        "outputId": "b22d79b0-d145-4327-a4c9-308805fba116"
      },
      "execution_count": null,
      "outputs": [
        {
          "output_type": "stream",
          "name": "stdout",
          "text": [
            "w PMVG:  [0.32359641 0.25422561 0.02707723 0.39510075]\n"
          ]
        }
      ]
    },
    {
      "cell_type": "code",
      "source": [
        "# Riesgo del portafolio óptimo\n",
        "sigmapobj = np.sqrt(wpobj.T @ cov @ wpobj)\n",
        "round(sigmapobj,4)"
      ],
      "metadata": {
        "colab": {
          "base_uri": "https://localhost:8080/"
        },
        "id": "LZJbgfeDG8EO",
        "outputId": "1be063ea-49f2-4a1a-883d-b1e472a2408f"
      },
      "execution_count": null,
      "outputs": [
        {
          "output_type": "execute_result",
          "data": {
            "text/plain": [
              "0.1936"
            ]
          },
          "metadata": {},
          "execution_count": 6
        }
      ]
    },
    {
      "cell_type": "code",
      "source": [
        "# Construcción de la FE\n",
        "rpmin = mu.min()\n",
        "rpmax = mu.max()\n",
        "nport = 100\n",
        "\n",
        "j = np.linspace(rpmin,rpmax, nport) \n",
        "wpo = np.zeros((nport, n))\n",
        "rpo = np.zeros((nport,1))\n",
        "sigmapo = np.zeros((nport,1))\n",
        "\n",
        "for i in range(nport):\n",
        "    wj = g + h*j[i] \n",
        "    wpo[i,:] = wj.T\n",
        "    rpo[i] = wj @ mu\n",
        "    sigmapo[i] = np.sqrt( wj.T @ cov @ wj)"
      ],
      "metadata": {
        "id": "0U3XB8z7G8It"
      },
      "execution_count": null,
      "outputs": []
    },
    {
      "cell_type": "code",
      "source": [
        "# Plano Riesgo-Retorno\n",
        "fig = plt.figure(figsize = (6, 5))\n",
        "ax = fig.add_subplot(111)\n",
        "plt.plot(sigma, mu, \"ro\")\n",
        "plt.plot(sigmapo, rpo)\n",
        "plt.xlabel(\"Riesgo\")\n",
        "plt.ylabel(\"Retorno esperado\")\n",
        "plt.ylim(0.15,0.3)\n",
        "plt.xlim(0.15,0.3)\n",
        "plt.show()"
      ],
      "metadata": {
        "colab": {
          "base_uri": "https://localhost:8080/",
          "height": 338
        },
        "id": "jaWX9datG8Nu",
        "outputId": "80ddaa7b-f24a-4d8f-9449-adac0fcf36ef"
      },
      "execution_count": null,
      "outputs": [
        {
          "output_type": "display_data",
          "data": {
            "text/plain": [
              "<Figure size 432x360 with 1 Axes>"
            ],
            "image/png": "[encoded data removed]"
          },
          "metadata": {
            "needs_background": "light"
          }
        }
      ]
    },
    {
      "cell_type": "code",
      "source": [
        "# PMVG\n",
        "cov_inv_1 = np.linalg.solve(cov,unos) \n",
        "wpmvg = (1/(unos @ cov_inv_1)) * cov_inv_1\n",
        "rpmvg = wpmvg @ mu\n",
        "sigmapmvg = np.sqrt( wpmvg.T @ cov @ wpmvg)\n",
        "\n",
        "print('Resultados PMVG: ')\n",
        "print('E(Rp): ', round(rpmvg,4))\n",
        "print('SigmaP: ', round(sigmapmvg,4))"
      ],
      "metadata": {
        "colab": {
          "base_uri": "https://localhost:8080/"
        },
        "id": "aIuC-p6FG8Uh",
        "outputId": "fd80a092-3321-4af2-b6d2-83b924c92f70"
      },
      "execution_count": null,
      "outputs": [
        {
          "output_type": "stream",
          "name": "stdout",
          "text": [
            "Resultados PMVG: \n",
            "E(Rp):  0.2278\n",
            "SigmaP:  0.1847\n"
          ]
        }
      ]
    },
    {
      "cell_type": "code",
      "source": [
        "# Pesos del PMVG\n",
        "fig = plt.figure(figsize = (6, 5))\n",
        "plt.bar(activos, wpmvg, width = 0.4)\n",
        "plt.ylabel(\"Part. (%)\")\n",
        "plt.show()"
      ],
      "metadata": {
        "colab": {
          "base_uri": "https://localhost:8080/",
          "height": 320
        },
        "id": "t2if44fTStp5",
        "outputId": "213b8581-afbe-4ea3-ce74-b2d062876e90"
      },
      "execution_count": null,
      "outputs": [
        {
          "output_type": "display_data",
          "data": {
            "text/plain": [
              "<Figure size 432x360 with 1 Axes>"
            ],
            "image/png": "[encoded data removed]"
          },
          "metadata": {
            "needs_background": "light"
          }
        }
      ]
    },
    {
      "cell_type": "code",
      "source": [
        "# Plano Riesgo-Retorno\n",
        "fig = plt.figure(figsize = (6, 5))\n",
        "ax = fig.add_subplot(111)\n",
        "plt.plot(sigma, mu, \"ro\")\n",
        "plt.plot(sigmapo, rpo)\n",
        "plt.xlabel(\"Riesgo\")\n",
        "plt.ylabel(\"Retorno esperado\")\n",
        "plt.ylim(0.15,0.3)\n",
        "plt.xlim(0.15,0.3)\n",
        "plt.plot(sigmapmvg, rpmvg, \"o\", color = 'black')\n",
        "ax.text(sigmapmvg*0.9, rpmvg, \"PMVG\", fontsize=12)\n",
        "plt.show()"
      ],
      "metadata": {
        "colab": {
          "base_uri": "https://localhost:8080/",
          "height": 338
        },
        "id": "2q0a7M6TITyn",
        "outputId": "b77a6e73-4000-4af8-8290-ad78fe6d0648"
      },
      "execution_count": null,
      "outputs": [
        {
          "output_type": "display_data",
          "data": {
            "text/plain": [
              "<Figure size 432x360 with 1 Axes>"
            ],
            "image/png": "[encoded data removed]"
          },
          "metadata": {
            "needs_background": "light"
          }
        }
      ]
    },
    {
      "cell_type": "markdown",
      "source": [
        "## Ejemplo 2.6\n",
        "## Solucion del portafolio tangente: maximo Sharpe"
      ],
      "metadata": {
        "id": "6nmdsHLzQdd1"
      }
    },
    {
      "cell_type": "code",
      "source": [
        "# Formulacion 1\n",
        "rf = 0.0\n",
        "r = mu -rf \n",
        "Z = np.linalg.solve(cov,r) \n",
        "sumaZ = Z.sum()\n",
        "wpt = Z/sumaZ\n",
        "rpt = wpt @ mu\n",
        "sigmapt = np.sqrt(wpt.T @ cov @ wpt)\n",
        "\n",
        "print('Resultados PT: ')\n",
        "print('E(Rp): ', round(rpt,4))\n",
        "print('SigmaP: ', round(sigmapt,4))"
      ],
      "metadata": {
        "colab": {
          "base_uri": "https://localhost:8080/"
        },
        "id": "_ci7nQQzuPSZ",
        "outputId": "8a6f0d78-34e0-4653-e5d0-42a43ac68364"
      },
      "execution_count": null,
      "outputs": [
        {
          "output_type": "stream",
          "name": "stdout",
          "text": [
            "Resultados PT: \n",
            "E(Rp):  0.2497\n",
            "SigmaP:  0.1934\n"
          ]
        }
      ]
    },
    {
      "cell_type": "code",
      "source": [
        "# Pesos del PT\n",
        "fig = plt.figure(figsize = (6, 5))\n",
        "plt.bar(activos, wpt, width = 0.4)\n",
        "plt.ylabel(\"Part. (%)\")\n",
        "plt.show()"
      ],
      "metadata": {
        "colab": {
          "base_uri": "https://localhost:8080/",
          "height": 320
        },
        "id": "KGRy0TGZSzgO",
        "outputId": "dc7320c4-685d-4d63-b28c-590b20400997"
      },
      "execution_count": null,
      "outputs": [
        {
          "output_type": "display_data",
          "data": {
            "text/plain": [
              "<Figure size 432x360 with 1 Axes>"
            ],
            "image/png": "[encoded data removed]"
          },
          "metadata": {
            "needs_background": "light"
          }
        }
      ]
    },
    {
      "cell_type": "code",
      "source": [
        "# Construcción de la LMC\n",
        "nport = 100\n",
        "wpc = np.linspace(0, 1.5, nport) \n",
        "rpc = np.zeros((nport))\n",
        "sigmapc = np.zeros((nport))\n",
        "\n",
        "for i in range(nport):\n",
        "    rpc[i] = wpc[i]*rpt+(1-wpc[i])*rf\n",
        "    sigmapc[i] = wpc[i]*sigmapt"
      ],
      "metadata": {
        "id": "sw3-U6-tROjU"
      },
      "execution_count": null,
      "outputs": []
    },
    {
      "cell_type": "code",
      "source": [
        "# Plano Riesgo-Retorno\n",
        "fig = plt.figure(figsize = (6, 5))\n",
        "ax = fig.add_subplot(111)\n",
        "plt.plot(sigma, mu, \"ro\")\n",
        "plt.plot(sigmapo, rpo)\n",
        "plt.xlabel(\"Riesgo\")\n",
        "plt.ylabel(\"Retorno esperado\")\n",
        "plt.ylim(0.15,0.3)\n",
        "plt.xlim(0.15,0.3)\n",
        "plt.plot(sigmapmvg, rpmvg, \"o\", color = 'black')\n",
        "ax.text(sigmapmvg*0.9, rpmvg, \"PMVG\", fontsize=12)\n",
        "plt.plot(sigmapc, rpc, color = 'black')\n",
        "plt.plot(sigmapt, rpt, \"o\", color = 'black')\n",
        "ax.text(sigmapt*0.97, rpt, \"T\", fontsize=12)\n",
        "plt.show()"
      ],
      "metadata": {
        "colab": {
          "base_uri": "https://localhost:8080/",
          "height": 338
        },
        "id": "4M_RRRbsR116",
        "outputId": "79c9ef46-b6e4-4dbe-b498-234166faa373"
      },
      "execution_count": null,
      "outputs": [
        {
          "output_type": "display_data",
          "data": {
            "text/plain": [
              "<Figure size 432x360 with 1 Axes>"
            ],
            "image/png": "[encoded data removed]"
          },
          "metadata": {
            "needs_background": "light"
          }
        }
      ]
    },
    {
      "cell_type": "markdown",
      "source": [
        "\n",
        "## Ejemplo 2.7\n",
        "## Solucion PMVG y PT sin cortos"
      ],
      "metadata": {
        "id": "N44wdg28ELBZ"
      }
    },
    {
      "cell_type": "code",
      "source": [
        "# Función para el PMVG\n",
        "def pmvg(cov, ones):  \n",
        "    covis = np.linalg.inv(cov) \n",
        "    w = np.dot(covis, ones)  \n",
        "    return w / np.sum(np.abs(w)) "
      ],
      "metadata": {
        "id": "W5NjEYVHO8M_"
      },
      "execution_count": 9,
      "outputs": []
    },
    {
      "cell_type": "code",
      "source": [
        "# Función para el PT\n",
        "def max_sharpe(cov, returns):  \n",
        "    covis = np.linalg.inv(cov)  \n",
        "    w = np.dot(covis, returns)  \n",
        "    return w / np.sum(np.abs(w))  "
      ],
      "metadata": {
        "id": "i5uA5M9rO0WP"
      },
      "execution_count": 10,
      "outputs": []
    },
    {
      "cell_type": "code",
      "source": [
        "# Implementación usando CVX\n",
        "import cvxpy as cp"
      ],
      "metadata": {
        "id": "opi2atDnQ43S"
      },
      "execution_count": 11,
      "outputs": []
    },
    {
      "cell_type": "code",
      "source": [
        "# PMVG\n",
        "n = len(mu)\n",
        "w = cp.Variable(n)\n",
        "risk = cp.quad_form(w, cov)\n",
        "objective = cp.Minimize(risk)\n",
        "constraints = [cp.sum(w) == 1, w >= 0]\n",
        "prob = cp.Problem(objective, constraints)\n",
        "prob.solve()\n",
        "wpmvg = pd.DataFrame(w.value)\n",
        "round(wpmvg,4)"
      ],
      "metadata": {
        "colab": {
          "base_uri": "https://localhost:8080/",
          "height": 174
        },
        "id": "Kj7NWit75xCp",
        "outputId": "6621765f-516a-465f-f571-509b58f678a1"
      },
      "execution_count": 12,
      "outputs": [
        {
          "output_type": "execute_result",
          "data": {
            "text/plain": [
              "        0\n",
              "0  0.1750\n",
              "1  0.1236\n",
              "2  0.2559\n",
              "3  0.4455"
            ],
            "text/html": [
              "\n",
              "  <div id=\"df-5118cbe0-18ab-41ce-afac-c7bf20efc597\">\n",
              "    <div class=\"colab-df-container\">\n",
              "      <div>\n",
              "<style scoped>\n",
              "    .dataframe tbody tr th:only-of-type {\n",
              "        vertical-align: middle;\n",
              "    }\n",
              "\n",
              "    .dataframe tbody tr th {\n",
              "        vertical-align: top;\n",
              "    }\n",
              "\n",
              "    .dataframe thead th {\n",
              "        text-align: right;\n",
              "    }\n",
              "</style>\n",
              "<table border=\"1\" class=\"dataframe\">\n",
              "  <thead>\n",
              "    <tr style=\"text-align: right;\">\n",
              "      <th></th>\n",
              "      <th>0</th>\n",
              "    </tr>\n",
              "  </thead>\n",
              "  <tbody>\n",
              "    <tr>\n",
              "      <th>0</th>\n",
              "      <td>0.1750</td>\n",
              "    </tr>\n",
              "    <tr>\n",
              "      <th>1</th>\n",
              "      <td>0.1236</td>\n",
              "    </tr>\n",
              "    <tr>\n",
              "      <th>2</th>\n",
              "      <td>0.2559</td>\n",
              "    </tr>\n",
              "    <tr>\n",
              "      <th>3</th>\n",
              "      <td>0.4455</td>\n",
              "    </tr>\n",
              "  </tbody>\n",
              "</table>\n",
              "</div>\n",
              "      <button class=\"colab-df-convert\" onclick=\"convertToInteractive('df-5118cbe0-18ab-41ce-afac-c7bf20efc597')\"\n",
              "              title=\"Convert this dataframe to an interactive table.\"\n",
              "              style=\"display:none;\">\n",
              "        \n",
              "  <svg xmlns=\"http://www.w3.org/2000/svg\" height=\"24px\"viewBox=\"0 0 24 24\"\n",
              "       width=\"24px\">\n",
              "    <path d=\"M0 0h24v24H0V0z\" fill=\"none\"/>\n",
              "    <path d=\"M18.56 5.44l.94 2.06.94-2.06 2.06-.94-2.06-.94-.94-2.06-.94 2.06-2.06.94zm-11 1L8.5 8.5l.94-2.06 2.06-.94-2.06-.94L8.5 2.5l-.94 2.06-2.06.94zm10 10l.94 2.06.94-2.06 2.06-.94-2.06-.94-.94-2.06-.94 2.06-2.06.94z\"/><path d=\"M17.41 7.96l-1.37-1.37c-.4-.4-.92-.59-1.43-.59-.52 0-1.04.2-1.43.59L10.3 9.45l-7.72 7.72c-.78.78-.78 2.05 0 2.83L4 21.41c.39.39.9.59 1.41.59.51 0 1.02-.2 1.41-.59l7.78-7.78 2.81-2.81c.8-.78.8-2.07 0-2.86zM5.41 20L4 18.59l7.72-7.72 1.47 1.35L5.41 20z\"/>\n",
              "  </svg>\n",
              "      </button>\n",
              "      \n",
              "  <style>\n",
              "    .colab-df-container {\n",
              "      display:flex;\n",
              "      flex-wrap:wrap;\n",
              "      gap: 12px;\n",
              "    }\n",
              "\n",
              "    .colab-df-convert {\n",
              "      background-color: #E8F0FE;\n",
              "      border: none;\n",
              "      border-radius: 50%;\n",
              "      cursor: pointer;\n",
              "      display: none;\n",
              "      fill: #1967D2;\n",
              "      height: 32px;\n",
              "      padding: 0 0 0 0;\n",
              "      width: 32px;\n",
              "    }\n",
              "\n",
              "    .colab-df-convert:hover {\n",
              "      background-color: #E2EBFA;\n",
              "      box-shadow: 0px 1px 2px rgba(60, 64, 67, 0.3), 0px 1px 3px 1px rgba(60, 64, 67, 0.15);\n",
              "      fill: #174EA6;\n",
              "    }\n",
              "\n",
              "    [theme=dark] .colab-df-convert {\n",
              "      background-color: #3B4455;\n",
              "      fill: #D2E3FC;\n",
              "    }\n",
              "\n",
              "    [theme=dark] .colab-df-convert:hover {\n",
              "      background-color: #434B5C;\n",
              "      box-shadow: 0px 1px 3px 1px rgba(0, 0, 0, 0.15);\n",
              "      filter: drop-shadow(0px 1px 2px rgba(0, 0, 0, 0.3));\n",
              "      fill: #FFFFFF;\n",
              "    }\n",
              "  </style>\n",
              "\n",
              "      <script>\n",
              "        const buttonEl =\n",
              "          document.querySelector('#df-5118cbe0-18ab-41ce-afac-c7bf20efc597 button.colab-df-convert');\n",
              "        buttonEl.style.display =\n",
              "          google.colab.kernel.accessAllowed ? 'block' : 'none';\n",
              "\n",
              "        async function convertToInteractive(key) {\n",
              "          const element = document.querySelector('#df-5118cbe0-18ab-41ce-afac-c7bf20efc597');\n",
              "          const dataTable =\n",
              "            await google.colab.kernel.invokeFunction('convertToInteractive',\n",
              "                                                     [key], {});\n",
              "          if (!dataTable) return;\n",
              "\n",
              "          const docLinkHtml = 'Like what you see? Visit the ' +\n",
              "            '<a target=\"_blank\" href=https://colab.research.google.com/notebooks/data_table.ipynb>data table notebook</a>'\n",
              "            + ' to learn more about interactive tables.';\n",
              "          element.innerHTML = '';\n",
              "          dataTable['output_type'] = 'display_data';\n",
              "          await google.colab.output.renderOutput(dataTable, element);\n",
              "          const docLink = document.createElement('div');\n",
              "          docLink.innerHTML = docLinkHtml;\n",
              "          element.appendChild(docLink);\n",
              "        }\n",
              "      </script>\n",
              "    </div>\n",
              "  </div>\n",
              "  "
            ]
          },
          "metadata": {},
          "execution_count": 12
        }
      ]
    },
    {
      "cell_type": "code",
      "source": [
        "# PT de Sharpe\n",
        "n = len(mu)\n",
        "w = cp.Variable(n)\n",
        "risk = cp.quad_form(w, cov)\n",
        "objective = cp.Minimize(risk)\n",
        "constraints = [w @ mu == 1, w >= 0] \n",
        "prob = cp.Problem(objective, constraints)\n",
        "prob.solve()\n",
        "wpt2 = pd.DataFrame(w.value/w.value.sum())\n",
        "round(wpt2,4)"
      ],
      "metadata": {
        "colab": {
          "base_uri": "https://localhost:8080/",
          "height": 174
        },
        "id": "NNcuszso6Efl",
        "outputId": "6685fe14-cede-4c2d-a6f6-101761bb0197"
      },
      "execution_count": 14,
      "outputs": [
        {
          "output_type": "execute_result",
          "data": {
            "text/plain": [
              "        0\n",
              "0  0.3214\n",
              "1  0.2523\n",
              "2  0.0304\n",
              "3  0.3958"
            ],
            "text/html": [
              "\n",
              "  <div id=\"df-e146eb72-e821-4894-a730-0e0922645aca\">\n",
              "    <div class=\"colab-df-container\">\n",
              "      <div>\n",
              "<style scoped>\n",
              "    .dataframe tbody tr th:only-of-type {\n",
              "        vertical-align: middle;\n",
              "    }\n",
              "\n",
              "    .dataframe tbody tr th {\n",
              "        vertical-align: top;\n",
              "    }\n",
              "\n",
              "    .dataframe thead th {\n",
              "        text-align: right;\n",
              "    }\n",
              "</style>\n",
              "<table border=\"1\" class=\"dataframe\">\n",
              "  <thead>\n",
              "    <tr style=\"text-align: right;\">\n",
              "      <th></th>\n",
              "      <th>0</th>\n",
              "    </tr>\n",
              "  </thead>\n",
              "  <tbody>\n",
              "    <tr>\n",
              "      <th>0</th>\n",
              "      <td>0.3214</td>\n",
              "    </tr>\n",
              "    <tr>\n",
              "      <th>1</th>\n",
              "      <td>0.2523</td>\n",
              "    </tr>\n",
              "    <tr>\n",
              "      <th>2</th>\n",
              "      <td>0.0304</td>\n",
              "    </tr>\n",
              "    <tr>\n",
              "      <th>3</th>\n",
              "      <td>0.3958</td>\n",
              "    </tr>\n",
              "  </tbody>\n",
              "</table>\n",
              "</div>\n",
              "      <button class=\"colab-df-convert\" onclick=\"convertToInteractive('df-e146eb72-e821-4894-a730-0e0922645aca')\"\n",
              "              title=\"Convert this dataframe to an interactive table.\"\n",
              "              style=\"display:none;\">\n",
              "        \n",
              "  <svg xmlns=\"http://www.w3.org/2000/svg\" height=\"24px\"viewBox=\"0 0 24 24\"\n",
              "       width=\"24px\">\n",
              "    <path d=\"M0 0h24v24H0V0z\" fill=\"none\"/>\n",
              "    <path d=\"M18.56 5.44l.94 2.06.94-2.06 2.06-.94-2.06-.94-.94-2.06-.94 2.06-2.06.94zm-11 1L8.5 8.5l.94-2.06 2.06-.94-2.06-.94L8.5 2.5l-.94 2.06-2.06.94zm10 10l.94 2.06.94-2.06 2.06-.94-2.06-.94-.94-2.06-.94 2.06-2.06.94z\"/><path d=\"M17.41 7.96l-1.37-1.37c-.4-.4-.92-.59-1.43-.59-.52 0-1.04.2-1.43.59L10.3 9.45l-7.72 7.72c-.78.78-.78 2.05 0 2.83L4 21.41c.39.39.9.59 1.41.59.51 0 1.02-.2 1.41-.59l7.78-7.78 2.81-2.81c.8-.78.8-2.07 0-2.86zM5.41 20L4 18.59l7.72-7.72 1.47 1.35L5.41 20z\"/>\n",
              "  </svg>\n",
              "      </button>\n",
              "      \n",
              "  <style>\n",
              "    .colab-df-container {\n",
              "      display:flex;\n",
              "      flex-wrap:wrap;\n",
              "      gap: 12px;\n",
              "    }\n",
              "\n",
              "    .colab-df-convert {\n",
              "      background-color: #E8F0FE;\n",
              "      border: none;\n",
              "      border-radius: 50%;\n",
              "      cursor: pointer;\n",
              "      display: none;\n",
              "      fill: #1967D2;\n",
              "      height: 32px;\n",
              "      padding: 0 0 0 0;\n",
              "      width: 32px;\n",
              "    }\n",
              "\n",
              "    .colab-df-convert:hover {\n",
              "      background-color: #E2EBFA;\n",
              "      box-shadow: 0px 1px 2px rgba(60, 64, 67, 0.3), 0px 1px 3px 1px rgba(60, 64, 67, 0.15);\n",
              "      fill: #174EA6;\n",
              "    }\n",
              "\n",
              "    [theme=dark] .colab-df-convert {\n",
              "      background-color: #3B4455;\n",
              "      fill: #D2E3FC;\n",
              "    }\n",
              "\n",
              "    [theme=dark] .colab-df-convert:hover {\n",
              "      background-color: #434B5C;\n",
              "      box-shadow: 0px 1px 3px 1px rgba(0, 0, 0, 0.15);\n",
              "      filter: drop-shadow(0px 1px 2px rgba(0, 0, 0, 0.3));\n",
              "      fill: #FFFFFF;\n",
              "    }\n",
              "  </style>\n",
              "\n",
              "      <script>\n",
              "        const buttonEl =\n",
              "          document.querySelector('#df-e146eb72-e821-4894-a730-0e0922645aca button.colab-df-convert');\n",
              "        buttonEl.style.display =\n",
              "          google.colab.kernel.accessAllowed ? 'block' : 'none';\n",
              "\n",
              "        async function convertToInteractive(key) {\n",
              "          const element = document.querySelector('#df-e146eb72-e821-4894-a730-0e0922645aca');\n",
              "          const dataTable =\n",
              "            await google.colab.kernel.invokeFunction('convertToInteractive',\n",
              "                                                     [key], {});\n",
              "          if (!dataTable) return;\n",
              "\n",
              "          const docLinkHtml = 'Like what you see? Visit the ' +\n",
              "            '<a target=\"_blank\" href=https://colab.research.google.com/notebooks/data_table.ipynb>data table notebook</a>'\n",
              "            + ' to learn more about interactive tables.';\n",
              "          element.innerHTML = '';\n",
              "          dataTable['output_type'] = 'display_data';\n",
              "          await google.colab.output.renderOutput(dataTable, element);\n",
              "          const docLink = document.createElement('div');\n",
              "          docLink.innerHTML = docLinkHtml;\n",
              "          element.appendChild(docLink);\n",
              "        }\n",
              "      </script>\n",
              "    </div>\n",
              "  </div>\n",
              "  "
            ]
          },
          "metadata": {},
          "execution_count": 14
        }
      ]
    },
    {
      "cell_type": "markdown",
      "source": [
        "## Implementacion del algoritmo: Seccion 2.9"
      ],
      "metadata": {
        "id": "FBy97o_Adg1W"
      }
    },
    {
      "cell_type": "code",
      "source": [
        "# Información histórica para las acciones\n",
        "fechai = \"2009-12-01\"\n",
        "fechaf = \"2021-12-31\"\n",
        "periodicidad = \"1Mo\"\n",
        "activos = [\"AAPL\",\"ABT\",\"AMZN\",\"CAT\",\"CSX\",\"CSCO\",\"GOOG\",\"HD\",\"JNJ\",\"MSFT\",\"MCD\",\"V\"]\n",
        "precios = yf.download(activos,start=fechai,end=fechaf,interval=periodicidad)['Adj Close'].dropna()\n",
        "retornos = np.log(precios/precios.shift(1)).dropna()\n",
        "mu = retornos.mean()*12\n",
        "cov = retornos.cov()*12\n",
        "var = np.diag(cov)\n",
        "sigma = np.sqrt(var)\n",
        "n = len(mu)"
      ],
      "metadata": {
        "colab": {
          "base_uri": "https://localhost:8080/"
        },
        "id": "xOScLjOzeF7d",
        "outputId": "55da2784-bc6b-447d-f766-5f4d8ee06fd5"
      },
      "execution_count": null,
      "outputs": [
        {
          "output_type": "stream",
          "name": "stdout",
          "text": [
            "[*********************100%***********************]  12 of 12 completed\n"
          ]
        }
      ]
    },
    {
      "cell_type": "code",
      "source": [
        "# Construcción de la FE\n",
        "unos = np.repeat(1,n)\n",
        "x = mu.T @ np.linalg.inv(cov) @ mu\n",
        "y = mu.T @ np.linalg.inv(cov) @ unos\n",
        "z = unos.T @ np.linalg.inv(cov) @ unos\n",
        "d = x*z - y**2\n",
        "\n",
        "g = (x*np.linalg.solve(cov,unos) - y*np.linalg.solve(cov,mu)) * (1/d)\n",
        "h = (z*np.linalg.solve(cov,mu) -  y*np.linalg.solve(cov,unos))  * (1/d)\n",
        "\n",
        "rpmin = mu.min()\n",
        "rpmax = mu.max()\n",
        "nport = 100\n",
        "\n",
        "j = np.linspace(rpmin,rpmax, nport) \n",
        "wpo = np.zeros((nport, n))\n",
        "rpo = np.zeros((nport,1))\n",
        "sigmapo = np.zeros((nport,1))\n",
        "\n",
        "for i in range(nport):\n",
        "    wj = g + h*j[i] \n",
        "    wpo[i,:] = wj.T\n",
        "    rpo[i] = wj @ mu\n",
        "    sigmapo[i] = np.sqrt( wj.T @ cov @ wj)\n",
        "\n",
        "# PMVG\n",
        "cov_inv_1 = np.linalg.solve(cov,unos) \n",
        "wpmvg = (1/(unos @ cov_inv_1)) * cov_inv_1\n",
        "rpmvg = wpmvg @ mu\n",
        "sigmapmvg = np.sqrt( wpmvg.T @ cov @ wpmvg)\n",
        "\n",
        "# PT\n",
        "rf = 0.0\n",
        "r = mu -rf \n",
        "Z = np.linalg.solve(cov,r) \n",
        "sumaZ = Z.sum()\n",
        "wpt = Z/sumaZ\n",
        "rpt = wpt @ mu\n",
        "sigmapt = np.sqrt(wpt.T @ cov @ wpt)\n"
      ],
      "metadata": {
        "id": "Up6-65EGeQY4"
      },
      "execution_count": null,
      "outputs": []
    },
    {
      "cell_type": "code",
      "source": [
        "# Pesos del PT\n",
        "fig = plt.figure(figsize = (6, 5))\n",
        "plt.bar(activos, wpt, width = 0.4)\n",
        "plt.ylabel(\"Part. (%)\")\n",
        "plt.show()"
      ],
      "metadata": {
        "colab": {
          "base_uri": "https://localhost:8080/",
          "height": 320
        },
        "id": "yafUpRpjeZfc",
        "outputId": "fccc7cac-c763-406e-b691-70f4df38cf90"
      },
      "execution_count": null,
      "outputs": [
        {
          "output_type": "display_data",
          "data": {
            "text/plain": [
              "<Figure size 432x360 with 1 Axes>"
            ],
            "image/png": "[encoded data removed]"
          },
          "metadata": {
            "needs_background": "light"
          }
        }
      ]
    },
    {
      "cell_type": "code",
      "source": [
        "# Plano Riesgo-Retorno\n",
        "fig = plt.figure(figsize = (6, 5))\n",
        "ax = fig.add_subplot(111)\n",
        "plt.plot(sigma, mu, \"o\", color = 'gray')\n",
        "plt.plot(sigmapo, rpo)\n",
        "plt.xlabel(\"Riesgo\")\n",
        "plt.ylabel(\"Retorno esperado\")\n",
        "plt.ylim(0.05,0.35)\n",
        "plt.xlim(0.05,0.35)\n",
        "plt.plot(sigmapmvg, rpmvg, \"o\", color = 'black')\n",
        "ax.text(sigmapmvg*0.7, rpmvg, \"PMVG\", fontsize=12)\n",
        "plt.plot(sigmapt, rpt, \"o\", color = 'black')\n",
        "ax.text(sigmapt*0.92, rpt, \"T\", fontsize=12)\n",
        "plt.show()\n"
      ],
      "metadata": {
        "colab": {
          "base_uri": "https://localhost:8080/",
          "height": 338
        },
        "id": "hUHDdllhecp-",
        "outputId": "3813ced3-303b-460c-9b67-bdd268288c9a"
      },
      "execution_count": null,
      "outputs": [
        {
          "output_type": "display_data",
          "data": {
            "text/plain": [
              "<Figure size 432x360 with 1 Axes>"
            ],
            "image/png": "[encoded data removed]"
          },
          "metadata": {
            "needs_background": "light"
          }
        }
      ]
    }
  ]
}