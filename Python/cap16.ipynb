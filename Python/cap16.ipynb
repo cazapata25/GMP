{
  "nbformat": 4,
  "nbformat_minor": 0,
  "metadata": {
    "colab": {
      "provenance": []
    },
    "kernelspec": {
      "name": "python3",
      "display_name": "Python 3"
    },
    "language_info": {
      "name": "python"
    }
  },
  "cells": [
    {
      "cell_type": "markdown",
      "source": [
        "# Gestión Moderna de Portafolio\n",
        "### Autores Bernardo León y Carlos Zapata\n",
        "### (C) Copyright 2023\n",
        "\n",
        "\n",
        "## Capitulo 16: Criterios ASG y portafolio óptimo"
      ],
      "metadata": {
        "id": "Nm_GA-VjWJ9L"
      }
    },
    {
      "cell_type": "code",
      "source": [
        "import requests\n",
        "import pandas as pd \n",
        "import numpy as np \n",
        "import seaborn as sns\n",
        "import scipy.stats\n",
        "import matplotlib.pyplot as plt\n",
        "import cvxpy as cp\n",
        "import urllib.request\n",
        "import json\n",
        "%pip install --quiet yfinance\n",
        "import yfinance as yf\n",
        "import warnings\n",
        "warnings.simplefilter(\"ignore\")"
      ],
      "metadata": {
        "id": "eNHw7q2VWM5J",
        "colab": {
          "base_uri": "https://localhost:8080/"
        },
        "outputId": "69d04d29-0637-45f1-c27c-4ee4f8715b2b"
      },
      "execution_count": 1,
      "outputs": [
        {
          "output_type": "stream",
          "name": "stdout",
          "text": [
            "\u001b[2K     \u001b[90m━━━━━━━━━━━━━━━━━━━━━━━━━━━━━━━━━━━━━━━\u001b[0m \u001b[32m55.9/55.9 KB\u001b[0m \u001b[31m872.1 kB/s\u001b[0m eta \u001b[36m0:00:00\u001b[0m\n",
            "\u001b[2K     \u001b[90m━━━━━━━━━━━━━━━━━━━━━━━━━━━━━━━━━━━━━━━\u001b[0m \u001b[32m112.2/112.2 KB\u001b[0m \u001b[31m4.3 MB/s\u001b[0m eta \u001b[36m0:00:00\u001b[0m\n",
            "\u001b[2K     \u001b[90m━━━━━━━━━━━━━━━━━━━━━━━━━━━━━━━━━━━━━━━━\u001b[0m \u001b[32m4.2/4.2 MB\u001b[0m \u001b[31m10.2 MB/s\u001b[0m eta \u001b[36m0:00:00\u001b[0m\n",
            "\u001b[2K     \u001b[90m━━━━━━━━━━━━━━━━━━━━━━━━━━━━━━━━━━━━━━━\u001b[0m \u001b[32m129.4/129.4 KB\u001b[0m \u001b[31m4.6 MB/s\u001b[0m eta \u001b[36m0:00:00\u001b[0m\n",
            "\u001b[2K     \u001b[90m━━━━━━━━━━━━━━━━━━━━━━━━━━━━━━━━━━━━━━━\u001b[0m \u001b[32m111.0/111.0 KB\u001b[0m \u001b[31m4.8 MB/s\u001b[0m eta \u001b[36m0:00:00\u001b[0m\n",
            "\u001b[2K     \u001b[90m━━━━━━━━━━━━━━━━━━━━━━━━━━━━━━━━━━━━━━━━\u001b[0m \u001b[32m62.8/62.8 KB\u001b[0m \u001b[31m1.6 MB/s\u001b[0m eta \u001b[36m0:00:00\u001b[0m\n",
            "\u001b[?25h"
          ]
        }
      ]
    },
    {
      "cell_type": "code",
      "source": [
        "# Información histórica dentro de muetsra (In-sample) para las acciones\n",
        "fechai = \"2015-12-01\"\n",
        "fechaf = \"2020-12-31\"\n",
        "periodicidad = \"1Mo\"\n",
        "activos = [\"ADBE\",\"MCD\",\"MSCI\",\"MSFT\",\"NEE\",\"PG\",\"RSG\",\"WMT\"]\n",
        "precios = yf.download(activos,start=fechai,end=fechaf,interval=periodicidad)['Adj Close'].dropna()\n",
        "retornos = np.log(precios/precios.shift(1)).dropna()\n",
        "mu = retornos.mean()\n",
        "cov = retornos.cov()\n",
        "sigma = retornos.std()\n",
        "n = len(mu)"
      ],
      "metadata": {
        "colab": {
          "base_uri": "https://localhost:8080/"
        },
        "id": "u69RPHzgWnwI",
        "outputId": "4a8c2bb4-4d99-46fb-9199-28e6653c91d0"
      },
      "execution_count": null,
      "outputs": [
        {
          "output_type": "stream",
          "name": "stdout",
          "text": [
            "[*********************100%***********************]  8 of 8 completed\n"
          ]
        }
      ]
    },
    {
      "cell_type": "code",
      "source": [
        "# Datos ESG para los activos\n",
        "tickers = activos\n",
        "esg_list = []\n",
        "e_list = []\n",
        "s_list = []\n",
        "g_list = []\n",
        "missing = []\n",
        "\n",
        "for ticker in tickers:\n",
        "    try:\n",
        "        url = \"https://query2.finance.yahoo.com/v1/finance/esgChart?symbol={}\".format(ticker)\n",
        "        connection = urllib.request.urlopen(url)\n",
        "        data_connection = connection.read()\n",
        "        data_json = json.loads(data_connection)\n",
        "        formatdata = data_json[\"esgChart\"][\"result\"][0][\"symbolSeries\"]\n",
        "        df_data = pd.DataFrame(formatdata)\n",
        "        df_data[\"timestamp\"] = pd.to_datetime(df_data[\"timestamp\"], unit=\"s\")\n",
        "        df_data = df_data.set_index('timestamp')\n",
        "        df_data = df_data.loc['2020':'2020']\n",
        "        esg_list.append(df_data['esgScore'])\n",
        "        e_list.append(df_data['environmentScore'])\n",
        "        s_list.append(df_data['socialScore'])\n",
        "        g_list.append(df_data['governanceScore'])\n",
        "    except:\n",
        "        missing.append(ticker)\n",
        "        continue\n",
        "# If ticker is missing data remove ticker from investment sample universe\n",
        "if missing != None:\n",
        "    for tick in missing:\n",
        "        tickers.remove(tick)\n",
        "esg_df = pd.concat(esg_list, axis=1).dropna()\n",
        "esg_df.columns = tickers\n",
        "e_df = pd.concat(e_list, axis=1)\n",
        "e_df.columns = tickers\n",
        "s_df = pd.concat(s_list, axis=1)\n",
        "s_df.columns = tickers\n",
        "g_df = pd.concat(g_list, axis=1)\n",
        "g_df.columns = tickers"
      ],
      "metadata": {
        "id": "X5dFzI0PW-Ow"
      },
      "execution_count": null,
      "outputs": []
    },
    {
      "cell_type": "code",
      "source": [
        "# Se filtra el indicador ESG para el último mes de historia\n",
        "t = len(esg_df)\n",
        "esg_score = np.array(esg_df.iloc[-1,:])\n",
        "esg_score"
      ],
      "metadata": {
        "colab": {
          "base_uri": "https://localhost:8080/"
        },
        "id": "HhTMBlm2X_Jy",
        "outputId": "20d6ace8-3aea-4d5c-f220-a6f46720857e"
      },
      "execution_count": null,
      "outputs": [
        {
          "output_type": "execute_result",
          "data": {
            "text/plain": [
              "array([13.32, 23.97, 23.17, 14.94, 29.45, 24.68, 23.75, 28.72])"
            ]
          },
          "metadata": {},
          "execution_count": 15
        }
      ]
    },
    {
      "cell_type": "code",
      "source": [
        "# Se ajustan los demás inputs como arrays\n",
        "mui = np.array(mu)\n",
        "covi = np.array(cov)"
      ],
      "metadata": {
        "id": "txNKT69lY8P6"
      },
      "execution_count": null,
      "outputs": []
    },
    {
      "cell_type": "markdown",
      "source": [
        "## Portfolio MV de Markowitz"
      ],
      "metadata": {
        "id": "U5iROrfBZIbY"
      }
    },
    {
      "cell_type": "code",
      "source": [
        "# PMVG\n",
        "unos = np.repeat(1,n)\n",
        "cov_inv_1 = np.linalg.solve(cov,unos) \n",
        "wpmvg = (1/(unos @ cov_inv_1)) * cov_inv_1\n",
        "rpmvg = wpmvg @ mu\n",
        "sigmapmvg = np.sqrt( wpmvg.T @ cov @ wpmvg)\n",
        "# Pesos del PMVG\n",
        "fig = plt.figure(figsize = (6, 5))\n",
        "plt.bar(activos, wpmvg, width = 0.4)\n",
        "plt.ylabel(\"Part. (%)\")\n",
        "plt.show()"
      ],
      "metadata": {
        "colab": {
          "base_uri": "https://localhost:8080/",
          "height": 320
        },
        "id": "ATgjjpj8ZYep",
        "outputId": "01f1989d-e3a4-4f22-d731-ba56e34dbc13"
      },
      "execution_count": null,
      "outputs": [
        {
          "output_type": "display_data",
          "data": {
            "text/plain": [
              "<Figure size 432x360 with 1 Axes>"
            ],
            "image/png": "[encoded data removed]"
          },
          "metadata": {
            "needs_background": "light"
          }
        }
      ]
    },
    {
      "cell_type": "code",
      "source": [
        "# ESG optimization\n",
        "asgi = esg_score\n",
        "x = mu.T @ np.linalg.inv(covi) @ mu\n",
        "y = mu.T @ np.linalg.inv(covi) @ unos\n",
        "z = unos.T @ np.linalg.inv(covi) @ unos\n",
        "p = mui.T @ np.linalg.inv(covi) @ asgi\n",
        "q = unos.T @ np.linalg.inv(covi) @ asgi\n",
        "r = asgi.T @ np.linalg.inv(covi) @ asgi\n",
        "d = x*z*r+y*p*q+y*p*q-z*p**2-x*q**2-r*y**2\n",
        "\n",
        "g = ((p*q)*np.linalg.solve(covi,mui) - (y*r)*np.linalg.solve(covi,mui) + (x*r)*np.linalg.solve(covi,unos) - \n",
        "     (p**2)*np.linalg.solve(covi,unos) + (p*y)*np.linalg.solve(covi,asgi) - (x*q)*np.linalg.solve(covi,asgi)) * (1/d)\n",
        "h = ((r*z)*np.linalg.solve(covi,mui) - (q**2)*np.linalg.solve(covi,mui) + (p*q)*np.linalg.solve(covi,unos) - \n",
        "     (y*r)*np.linalg.solve(covi,unos) + (q*y)*np.linalg.solve(covi,asgi) - (p*z)*np.linalg.solve(covi,asgi)) * (1/d)\n",
        "\n",
        "f = ((y*q)*np.linalg.solve(covi,mui) - (z*p)*np.linalg.solve(covi,mui) + (p*y)*np.linalg.solve(covi,unos) - \n",
        "     (q*x)*np.linalg.solve(covi,unos) + (z*x)*np.linalg.solve(covi,asgi) - (y**2)*np.linalg.solve(covi,asgi)) * (1/d)"
      ],
      "metadata": {
        "id": "pgFC5KfYaCkh"
      },
      "execution_count": null,
      "outputs": []
    },
    {
      "cell_type": "code",
      "source": [
        "# Portafolio ASG para un indicador ASG promedio\n",
        "ip = asgi.mean()\n",
        "rp = mui.mean()\n",
        "wpmvESG = g+h*rp+f*ip\n",
        "fig = plt.figure(figsize = (6, 5))\n",
        "plt.bar(activos, wpmvESG, width = 0.4)\n",
        "plt.ylabel(\"Part. (%)\")\n",
        "plt.show()"
      ],
      "metadata": {
        "colab": {
          "base_uri": "https://localhost:8080/",
          "height": 320
        },
        "id": "muBbgAyDaVms",
        "outputId": "312c8c8a-8192-40c3-a1ee-c894e4ceb724"
      },
      "execution_count": null,
      "outputs": [
        {
          "output_type": "display_data",
          "data": {
            "text/plain": [
              "<Figure size 432x360 with 1 Axes>"
            ],
            "image/png": "[encoded data removed]"
          },
          "metadata": {
            "needs_background": "light"
          }
        }
      ]
    },
    {
      "cell_type": "code",
      "source": [
        "# Portafolio ASG - Caso Ip=Ip(MVG), Rp=Rp(MVG)\n",
        "ipMV = wpmvg @ asgi\n",
        "rpMV = wpmvg @ mu\n",
        "wpmvESG = g+h*rpMV +f*ipMV\n",
        "fig = plt.figure(figsize = (6, 5))\n",
        "plt.bar(activos, wpmvESG, width = 0.4)\n",
        "plt.ylabel(\"Part. (%)\")\n",
        "plt.show()"
      ],
      "metadata": {
        "colab": {
          "base_uri": "https://localhost:8080/",
          "height": 320
        },
        "id": "rDUXKmpaqHQ2",
        "outputId": "d831af10-4d0f-4b16-ee9a-f67ca41fae2b"
      },
      "execution_count": null,
      "outputs": [
        {
          "output_type": "display_data",
          "data": {
            "text/plain": [
              "<Figure size 432x360 with 1 Axes>"
            ],
            "image/png": "[encoded data removed]"
          },
          "metadata": {
            "needs_background": "light"
          }
        }
      ]
    },
    {
      "cell_type": "markdown",
      "source": [
        "## Construcción de la FE para un indicador ASG promedio"
      ],
      "metadata": {
        "id": "A5uxGGHAql6N"
      }
    },
    {
      "cell_type": "code",
      "source": [
        "# Construcción de la FE\n",
        "rpmin = mu.min()\n",
        "rpmax = mu.max()\n",
        "nport = 100\n",
        "j = np.linspace(rpmin,rpmax, nport) \n",
        "wpoESG = np.zeros((nport, n))\n",
        "rpoESG = np.zeros((nport,1))\n",
        "sigmapoESG = np.zeros((nport,1))\n",
        "\n",
        "for i in range(nport):\n",
        "    wj = g + h*j[i] + f*ip\n",
        "    wpoESG[i,:] = wj.T\n",
        "    rpoESG[i] = wj @ mui\n",
        "    sigmapoESG[i] = np.sqrt( wj.T @ covi @ wj)\n",
        "\n",
        "# Plano Riesgo-Retorno\n",
        "fig = plt.figure(figsize = (6, 5))\n",
        "ax = fig.add_subplot(111)\n",
        "plt.plot(sigma, mu, \"ro\")\n",
        "plt.plot(sigmapoESG, rpoESG)\n",
        "plt.xlabel(\"Riesgo\")\n",
        "plt.ylabel(\"Retorno esperado\")\n",
        "plt.xlim(0.02,0.1)\n",
        "plt.show()"
      ],
      "metadata": {
        "colab": {
          "base_uri": "https://localhost:8080/",
          "height": 334
        },
        "id": "wH0VffvYdhv0",
        "outputId": "6b2a6d7e-18c5-4d8a-d431-640c68aa4ca2"
      },
      "execution_count": null,
      "outputs": [
        {
          "output_type": "display_data",
          "data": {
            "text/plain": [
              "<Figure size 432x360 with 1 Axes>"
            ],
            "image/png": "[encoded data removed]"
          },
          "metadata": {
            "needs_background": "light"
          }
        }
      ]
    }
  ]
}