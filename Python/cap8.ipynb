{
  "nbformat": 4,
  "nbformat_minor": 0,
  "metadata": {
    "colab": {
      "name": "cap8.ipynb",
      "provenance": []
    },
    "kernelspec": {
      "name": "python3",
      "display_name": "Python 3"
    },
    "language_info": {
      "name": "python"
    }
  },
  "cells": [
    {
      "cell_type": "markdown",
      "source": [
        "# Gestión Moderna de portafolio\n",
        "### Autores Bernardo León y Carlos Zapata\n",
        "### Copyright 2022\n",
        "\n",
        "## Capitulo 8: Modelos Factoriales\n"
      ],
      "metadata": {
        "id": "clWKEz-gSGr0"
      }
    },
    {
      "cell_type": "code",
      "source": [
        "#Librerías usadas\n",
        "import pandas as pd\n",
        "import numpy as np\n",
        "import matplotlib.pyplot as plt\n",
        "%pip install yfinance\n",
        "import yfinance as yf"
      ],
      "metadata": {
        "colab": {
          "base_uri": "https://localhost:8080/"
        },
        "id": "lRj9w7j8SO3S",
        "outputId": "b5c3cd33-e5fa-487e-9320-73d22219bdec"
      },
      "execution_count": null,
      "outputs": [
        {
          "output_type": "stream",
          "name": "stdout",
          "text": [
            "Looking in indexes: https://pypi.org/simple, https://us-python.pkg.dev/colab-wheels/public/simple/\n",
            "Collecting yfinance\n",
            "  Downloading yfinance-0.1.74-py2.py3-none-any.whl (27 kB)\n",
            "Collecting requests>=2.26\n",
            "  Downloading requests-2.28.1-py3-none-any.whl (62 kB)\n",
            "\u001b[K     |████████████████████████████████| 62 kB 1.2 MB/s \n",
            "\u001b[?25hRequirement already satisfied: lxml>=4.5.1 in /usr/local/lib/python3.7/dist-packages (from yfinance) (4.9.1)\n",
            "Requirement already satisfied: multitasking>=0.0.7 in /usr/local/lib/python3.7/dist-packages (from yfinance) (0.0.11)\n",
            "Requirement already satisfied: numpy>=1.15 in /usr/local/lib/python3.7/dist-packages (from yfinance) (1.21.6)\n",
            "Requirement already satisfied: pandas>=0.24.0 in /usr/local/lib/python3.7/dist-packages (from yfinance) (1.3.5)\n",
            "Requirement already satisfied: python-dateutil>=2.7.3 in /usr/local/lib/python3.7/dist-packages (from pandas>=0.24.0->yfinance) (2.8.2)\n",
            "Requirement already satisfied: pytz>=2017.3 in /usr/local/lib/python3.7/dist-packages (from pandas>=0.24.0->yfinance) (2022.2.1)\n",
            "Requirement already satisfied: six>=1.5 in /usr/local/lib/python3.7/dist-packages (from python-dateutil>=2.7.3->pandas>=0.24.0->yfinance) (1.15.0)\n",
            "Requirement already satisfied: idna<4,>=2.5 in /usr/local/lib/python3.7/dist-packages (from requests>=2.26->yfinance) (2.10)\n",
            "Requirement already satisfied: certifi>=2017.4.17 in /usr/local/lib/python3.7/dist-packages (from requests>=2.26->yfinance) (2022.6.15)\n",
            "Requirement already satisfied: urllib3<1.27,>=1.21.1 in /usr/local/lib/python3.7/dist-packages (from requests>=2.26->yfinance) (1.24.3)\n",
            "Requirement already satisfied: charset-normalizer<3,>=2 in /usr/local/lib/python3.7/dist-packages (from requests>=2.26->yfinance) (2.1.0)\n",
            "Installing collected packages: requests, yfinance\n",
            "  Attempting uninstall: requests\n",
            "    Found existing installation: requests 2.23.0\n",
            "    Uninstalling requests-2.23.0:\n",
            "      Successfully uninstalled requests-2.23.0\n",
            "Successfully installed requests-2.28.1 yfinance-0.1.74\n"
          ]
        }
      ]
    },
    {
      "cell_type": "markdown",
      "source": [
        "### Ejemplo 8.1\n",
        "\n",
        "### Estimación modelo CAPM"
      ],
      "metadata": {
        "id": "LN-_Ja_dSTcW"
      }
    },
    {
      "cell_type": "code",
      "execution_count": null,
      "metadata": {
        "colab": {
          "base_uri": "https://localhost:8080/"
        },
        "id": "RMIGMEqsSGK3",
        "outputId": "13e34aa3-7155-4252-92bc-917a0c926ebf"
      },
      "outputs": [
        {
          "output_type": "stream",
          "name": "stdout",
          "text": [
            "\r[*********************100%***********************]  1 of 1 completed\n"
          ]
        }
      ],
      "source": [
        "# Información histórica para la acción de WMT\n",
        "fechai = \"2015-12-01\"\n",
        "fechaf = \"2020-12-31\"\n",
        "periodicidad = \"1Mo\"\n",
        "precios_wmt = yf.download(\"WMT\",start=fechai,end=fechaf,interval=periodicidad)['Adj Close'].dropna()\n",
        "retornos_wmt = np.log(precios_wmt/precios_wmt.shift(1)).dropna()"
      ]
    },
    {
      "cell_type": "code",
      "source": [
        "# Información histórica del índice SP 500\n",
        "fechai = \"2015-12-01\"\n",
        "fechaf = \"2020-12-31\"\n",
        "periodicidad = \"1Mo\"\n",
        "precios_sp = yf.download(\"^GSPC\",start=fechai,end=fechaf,interval=periodicidad)['Adj Close'].dropna()\n",
        "retornos_sp = np.log(precios_sp/precios_sp.shift(1)).dropna()\n",
        "rm = retornos_sp.mean()"
      ],
      "metadata": {
        "colab": {
          "base_uri": "https://localhost:8080/"
        },
        "id": "Ul8n4CYmSubS",
        "outputId": "e177dd55-b896-4a38-b26b-e4c79f37ecbf"
      },
      "execution_count": null,
      "outputs": [
        {
          "output_type": "stream",
          "name": "stdout",
          "text": [
            "\r[*********************100%***********************]  1 of 1 completed\n"
          ]
        }
      ]
    },
    {
      "cell_type": "code",
      "source": [
        "## Estimación modelo de mercado: CAPM\n",
        "import statsmodels.api as sm\n",
        "X = sm.add_constant(retornos_sp) #\n",
        "modelo1 = sm.OLS(retornos_wmt, X).fit()\n",
        "\n",
        "beta_wmt = modelo1.params[1]\n",
        "beta_wmt\n",
        "\n",
        "print(\"Beta: \", beta_wmt)\n",
        "print(\"R2: \", modelo1.rsquared)"
      ],
      "metadata": {
        "colab": {
          "base_uri": "https://localhost:8080/"
        },
        "id": "sWg988p4TZxn",
        "outputId": "d3f0f2b0-7bd3-406a-ca54-0f113c54a99a"
      },
      "execution_count": null,
      "outputs": [
        {
          "output_type": "stream",
          "name": "stdout",
          "text": [
            "Beta:  0.41443305868939256\n",
            "R2:  0.13168630891696287\n"
          ]
        },
        {
          "output_type": "stream",
          "name": "stderr",
          "text": [
            "/usr/local/lib/python3.7/dist-packages/statsmodels/tsa/tsatools.py:142: FutureWarning: In a future version of pandas all arguments of concat except for the argument 'objs' will be keyword-only\n",
            "  x = pd.concat(x[::order], 1)\n"
          ]
        }
      ]
    },
    {
      "cell_type": "code",
      "source": [
        "modelo1.summary()"
      ],
      "metadata": {
        "colab": {
          "base_uri": "https://localhost:8080/",
          "height": 444
        },
        "id": "1VhNtvTVWcko",
        "outputId": "e16c6c23-f986-4b0e-e6f9-27253f96b8a2"
      },
      "execution_count": null,
      "outputs": [
        {
          "output_type": "execute_result",
          "data": {
            "text/plain": [
              "<class 'statsmodels.iolib.summary.Summary'>\n",
              "\"\"\"\n",
              "                            OLS Regression Results                            \n",
              "==============================================================================\n",
              "Dep. Variable:              Adj Close   R-squared:                       0.132\n",
              "Model:                            OLS   Adj. R-squared:                  0.117\n",
              "Method:                 Least Squares   F-statistic:                     8.796\n",
              "Date:                Mon, 29 Aug 2022   Prob (F-statistic):            0.00438\n",
              "Time:                        16:10:40   Log-Likelihood:                 98.854\n",
              "No. Observations:                  60   AIC:                            -193.7\n",
              "Df Residuals:                      58   BIC:                            -189.5\n",
              "Df Model:                           1                                         \n",
              "Covariance Type:            nonrobust                                         \n",
              "==============================================================================\n",
              "                 coef    std err          t      P>|t|      [0.025      0.975]\n",
              "------------------------------------------------------------------------------\n",
              "const          0.0120      0.006      1.916      0.060      -0.001       0.025\n",
              "Adj Close      0.4144      0.140      2.966      0.004       0.135       0.694\n",
              "==============================================================================\n",
              "Omnibus:                        6.029   Durbin-Watson:                   2.086\n",
              "Prob(Omnibus):                  0.049   Jarque-Bera (JB):                6.847\n",
              "Skew:                          -0.359   Prob(JB):                       0.0326\n",
              "Kurtosis:                       4.491   Cond. No.                         22.8\n",
              "==============================================================================\n",
              "\n",
              "Notes:\n",
              "[1] Standard Errors assume that the covariance matrix of the errors is correctly specified.\n",
              "\"\"\""
            ],
            "text/html": [
              "<table class=\"simpletable\">\n",
              "<caption>OLS Regression Results</caption>\n",
              "<tr>\n",
              "  <th>Dep. Variable:</th>        <td>Adj Close</td>    <th>  R-squared:         </th> <td>   0.132</td>\n",
              "</tr>\n",
              "<tr>\n",
              "  <th>Model:</th>                   <td>OLS</td>       <th>  Adj. R-squared:    </th> <td>   0.117</td>\n",
              "</tr>\n",
              "<tr>\n",
              "  <th>Method:</th>             <td>Least Squares</td>  <th>  F-statistic:       </th> <td>   8.796</td>\n",
              "</tr>\n",
              "<tr>\n",
              "  <th>Date:</th>             <td>Mon, 29 Aug 2022</td> <th>  Prob (F-statistic):</th>  <td>0.00438</td>\n",
              "</tr>\n",
              "<tr>\n",
              "  <th>Time:</th>                 <td>16:10:40</td>     <th>  Log-Likelihood:    </th> <td>  98.854</td>\n",
              "</tr>\n",
              "<tr>\n",
              "  <th>No. Observations:</th>      <td>    60</td>      <th>  AIC:               </th> <td>  -193.7</td>\n",
              "</tr>\n",
              "<tr>\n",
              "  <th>Df Residuals:</th>          <td>    58</td>      <th>  BIC:               </th> <td>  -189.5</td>\n",
              "</tr>\n",
              "<tr>\n",
              "  <th>Df Model:</th>              <td>     1</td>      <th>                     </th>     <td> </td>   \n",
              "</tr>\n",
              "<tr>\n",
              "  <th>Covariance Type:</th>      <td>nonrobust</td>    <th>                     </th>     <td> </td>   \n",
              "</tr>\n",
              "</table>\n",
              "<table class=\"simpletable\">\n",
              "<tr>\n",
              "      <td></td>         <th>coef</th>     <th>std err</th>      <th>t</th>      <th>P>|t|</th>  <th>[0.025</th>    <th>0.975]</th>  \n",
              "</tr>\n",
              "<tr>\n",
              "  <th>const</th>     <td>    0.0120</td> <td>    0.006</td> <td>    1.916</td> <td> 0.060</td> <td>   -0.001</td> <td>    0.025</td>\n",
              "</tr>\n",
              "<tr>\n",
              "  <th>Adj Close</th> <td>    0.4144</td> <td>    0.140</td> <td>    2.966</td> <td> 0.004</td> <td>    0.135</td> <td>    0.694</td>\n",
              "</tr>\n",
              "</table>\n",
              "<table class=\"simpletable\">\n",
              "<tr>\n",
              "  <th>Omnibus:</th>       <td> 6.029</td> <th>  Durbin-Watson:     </th> <td>   2.086</td>\n",
              "</tr>\n",
              "<tr>\n",
              "  <th>Prob(Omnibus):</th> <td> 0.049</td> <th>  Jarque-Bera (JB):  </th> <td>   6.847</td>\n",
              "</tr>\n",
              "<tr>\n",
              "  <th>Skew:</th>          <td>-0.359</td> <th>  Prob(JB):          </th> <td>  0.0326</td>\n",
              "</tr>\n",
              "<tr>\n",
              "  <th>Kurtosis:</th>      <td> 4.491</td> <th>  Cond. No.          </th> <td>    22.8</td>\n",
              "</tr>\n",
              "</table><br/><br/>Notes:<br/>[1] Standard Errors assume that the covariance matrix of the errors is correctly specified."
            ]
          },
          "metadata": {},
          "execution_count": 34
        }
      ]
    },
    {
      "cell_type": "code",
      "source": [
        "predictions = modelo1.predict(X)"
      ],
      "metadata": {
        "id": "2mZtucDgXwtJ"
      },
      "execution_count": null,
      "outputs": []
    },
    {
      "cell_type": "code",
      "source": [
        "# Grafico de regresión: WMT - S&P 500\n",
        "plt.figure(figsize=(8, 4))\n",
        "plt.plot(retornos_sp, predictions)  # regression line\n",
        "plt.plot(retornos_sp, retornos_wmt, 'bo') \n",
        "plt.xlabel('Retornos S&P 500')\n",
        "plt.ylabel('Retornos WMT')\n",
        "plt.show()"
      ],
      "metadata": {
        "colab": {
          "base_uri": "https://localhost:8080/",
          "height": 279
        },
        "id": "94WmIPsBTZ0p",
        "outputId": "f8d95b6f-b861-4056-bbed-88a2529bc07e"
      },
      "execution_count": null,
      "outputs": [
        {
          "output_type": "display_data",
          "data": {
            "text/plain": [
              "<Figure size 576x288 with 1 Axes>"
            ],
            "image/png": "[encoded data removed]"
          },
          "metadata": {
            "needs_background": "light"
          }
        }
      ]
    },
    {
      "cell_type": "markdown",
      "source": [
        "### Estimación modelo Factorial"
      ],
      "metadata": {
        "id": "o86dBHFJYana"
      }
    },
    {
      "cell_type": "code",
      "source": [
        "tasa_txn = yf.download('TXN',start=fechai,end=fechaf,interval=periodicidad)['Adj Close'].dropna()\n",
        "retornos_txn = np.log(tasa_txn/tasa_txn.shift(1)).dropna()\n",
        "mu_txn = retornos_txn.mean()"
      ],
      "metadata": {
        "colab": {
          "base_uri": "https://localhost:8080/"
        },
        "id": "915RYIzETZ4I",
        "outputId": "cf36c33f-1c99-4f97-bb0b-4f7a7f94d16b"
      },
      "execution_count": null,
      "outputs": [
        {
          "output_type": "stream",
          "name": "stdout",
          "text": [
            "\r[*********************100%***********************]  1 of 1 completed\n"
          ]
        }
      ]
    },
    {
      "cell_type": "code",
      "source": [
        "# Regresión factorial con S&P 500 y TXN\n",
        "Xf = np.column_stack((retornos_sp,retornos_txn))\n",
        "Xf = sm.add_constant(Xf) \n",
        "modelo2 = sm.OLS(retornos_wmt, Xf).fit()\n",
        "modelo2.params\n",
        "\n",
        "beta_wmt = modelo2.params[1]\n",
        "beta_txn = modelo2.params[2]\n",
        "\n",
        "print(\"Beta: \", beta_wmt)\n",
        "print(\"Beta TXN: \", beta_txn)\n",
        "print(\"R2: \", modelo2.rsquared)"
      ],
      "metadata": {
        "colab": {
          "base_uri": "https://localhost:8080/"
        },
        "id": "5y5nuhu2YsAr",
        "outputId": "7e61c64e-8d9d-44b3-fd10-e1588f87ba95"
      },
      "execution_count": null,
      "outputs": [
        {
          "output_type": "stream",
          "name": "stdout",
          "text": [
            "Beta:  0.4820447701006357\n",
            "Beta TXN:  -0.06387466829352824\n",
            "R2:  0.13436577961814267\n"
          ]
        }
      ]
    },
    {
      "cell_type": "code",
      "source": [
        "print(modelo2.summary())"
      ],
      "metadata": {
        "colab": {
          "base_uri": "https://localhost:8080/"
        },
        "id": "recal77yanp9",
        "outputId": "a06a6a50-2fa8-47ee-f357-2688ea677f88"
      },
      "execution_count": null,
      "outputs": [
        {
          "output_type": "stream",
          "name": "stdout",
          "text": [
            "                            OLS Regression Results                            \n",
            "==============================================================================\n",
            "Dep. Variable:              Adj Close   R-squared:                       0.134\n",
            "Model:                            OLS   Adj. R-squared:                  0.104\n",
            "Method:                 Least Squares   F-statistic:                     4.424\n",
            "Date:                Mon, 29 Aug 2022   Prob (F-statistic):             0.0164\n",
            "Time:                        16:35:34   Log-Likelihood:                 98.947\n",
            "No. Observations:                  60   AIC:                            -191.9\n",
            "Df Residuals:                      57   BIC:                            -185.6\n",
            "Df Model:                           2                                         \n",
            "Covariance Type:            nonrobust                                         \n",
            "==============================================================================\n",
            "                 coef    std err          t      P>|t|      [0.025      0.975]\n",
            "------------------------------------------------------------------------------\n",
            "const          0.0127      0.006      1.948      0.056      -0.000       0.026\n",
            "x1             0.4820      0.214      2.255      0.028       0.054       0.910\n",
            "x2            -0.0639      0.152     -0.420      0.676      -0.368       0.241\n",
            "==============================================================================\n",
            "Omnibus:                        5.592   Durbin-Watson:                   2.056\n",
            "Prob(Omnibus):                  0.061   Jarque-Bera (JB):                6.030\n",
            "Skew:                          -0.347   Prob(JB):                       0.0490\n",
            "Kurtosis:                       4.390   Cond. No.                         40.2\n",
            "==============================================================================\n",
            "\n",
            "Notes:\n",
            "[1] Standard Errors assume that the covariance matrix of the errors is correctly specified.\n"
          ]
        }
      ]
    },
    {
      "cell_type": "code",
      "source": [
        "# Retornos estimados \n",
        "# CAPM\n",
        "re_capm = round(beta_wmt*rm,4)\n",
        "\n",
        "# Factorial\n",
        "re_fact = round(beta_wmt*rm+beta_txn*mu_txn,4)\n",
        "\n",
        "print(\"E(R) capm: \", re_capm)\n",
        "print(\"E(R) fact: \", re_fact)"
      ],
      "metadata": {
        "colab": {
          "base_uri": "https://localhost:8080/"
        },
        "id": "cHtWBiE5dfNb",
        "outputId": "749100b8-4748-4f05-c1e9-2b058646226d"
      },
      "execution_count": null,
      "outputs": [
        {
          "output_type": "stream",
          "name": "stdout",
          "text": [
            "E(R) capm:  0.0049\n",
            "E(R) fact:  0.0036\n"
          ]
        }
      ]
    },
    {
      "cell_type": "code",
      "source": [
        "# Grafico de regresión: WMT - TXN\n",
        "plt.figure(figsize=(8, 4))\n",
        "#plt.plot(retornos_sp, predictions)  # regression line\n",
        "plt.plot(retornos_txn, retornos_wmt, 'bo') \n",
        "plt.xlabel('Retornos TXN')\n",
        "plt.ylabel('Retornos WMT')\n",
        "plt.show()"
      ],
      "metadata": {
        "colab": {
          "base_uri": "https://localhost:8080/",
          "height": 279
        },
        "id": "_LBULc0ySuhl",
        "outputId": "4d2846e0-bd7d-4afb-d074-1e4bb7b00682"
      },
      "execution_count": null,
      "outputs": [
        {
          "output_type": "display_data",
          "data": {
            "text/plain": [
              "<Figure size 576x288 with 1 Axes>"
            ],
            "image/png": "[encoded data removed]"
          },
          "metadata": {
            "needs_background": "light"
          }
        }
      ]
    },
    {
      "cell_type": "markdown",
      "source": [
        "### Ejemplo 8.2: Estimación factorial"
      ],
      "metadata": {
        "id": "ZAVDslKjf4na"
      }
    },
    {
      "cell_type": "code",
      "source": [
        "# Información histórica para las acciones: AAPL, AMZN, GOOG y MSFT\n",
        "fechai = \"2015-12-01\"\n",
        "fechaf = \"2020-12-31\"\n",
        "periodicidad = \"1Mo\"\n",
        "activos = [\"AAPL\",\"AMZN\",\"GOOGL\",\"MSFT\"]\n",
        "precios = yf.download(activos,start=fechai,end=fechaf,interval=periodicidad)['Adj Close'].dropna()\n",
        "retornos = np.log(precios/precios.shift(1)).dropna()"
      ],
      "metadata": {
        "colab": {
          "base_uri": "https://localhost:8080/"
        },
        "id": "EHeI7wMASun1",
        "outputId": "a03564c1-8c1a-4aff-d9d5-76de6ec74df7"
      },
      "execution_count": null,
      "outputs": [
        {
          "output_type": "stream",
          "name": "stdout",
          "text": [
            "[*********************100%***********************]  4 of 4 completed\n"
          ]
        }
      ]
    },
    {
      "cell_type": "code",
      "source": [
        "# Load data INDIPRO y UNEMP\n",
        "factores = pd.read_csv(\"factores.csv\")[['indipro','unemp']]\n",
        "factores.index = retornos_sp.index\n",
        "factores2 = factores.join(retornos_sp)"
      ],
      "metadata": {
        "id": "M-CieTQgVbDp"
      },
      "execution_count": null,
      "outputs": []
    },
    {
      "cell_type": "code",
      "source": [
        "# Regresión factorial para AAPL\n",
        "modeloAAPL = sm.OLS(retornos['AAPL'], sm.add_constant(factores2)).fit()\n",
        "modeloAAPL.params"
      ],
      "metadata": {
        "id": "nQbDbWXMVbGr",
        "colab": {
          "base_uri": "https://localhost:8080/"
        },
        "outputId": "dee3f089-7342-4545-ea1a-2a11920a22e1"
      },
      "execution_count": null,
      "outputs": [
        {
          "output_type": "stream",
          "name": "stderr",
          "text": [
            "/usr/local/lib/python3.7/dist-packages/statsmodels/tsa/tsatools.py:142: FutureWarning: In a future version of pandas all arguments of concat except for the argument 'objs' will be keyword-only\n",
            "  x = pd.concat(x[::order], 1)\n"
          ]
        },
        {
          "output_type": "execute_result",
          "data": {
            "text/plain": [
              "const       -0.002297\n",
              "indipro      0.353466\n",
              "unemp        0.365616\n",
              "Adj Close    1.212094\n",
              "dtype: float64"
            ]
          },
          "metadata": {},
          "execution_count": 222
        }
      ]
    },
    {
      "cell_type": "code",
      "source": [
        "# Regresión factorial para AMZN\n",
        "modeloAMZN = sm.OLS(retornos['AMZN'], sm.add_constant(factores2)).fit()\n",
        "modeloAMZN.params"
      ],
      "metadata": {
        "id": "c0RpvTNvVbJZ",
        "colab": {
          "base_uri": "https://localhost:8080/"
        },
        "outputId": "1ee9c5c4-58ed-441b-c39d-ebe8de7666f6"
      },
      "execution_count": null,
      "outputs": [
        {
          "output_type": "execute_result",
          "data": {
            "text/plain": [
              "const        0.005526\n",
              "indipro     -0.318332\n",
              "unemp        0.190845\n",
              "Adj Close    1.106079\n",
              "dtype: float64"
            ]
          },
          "metadata": {},
          "execution_count": 223
        }
      ]
    },
    {
      "cell_type": "code",
      "source": [
        "# Regresión factorial para GOOG\n",
        "modeloGOOG = sm.OLS(retornos['GOOGL'], sm.add_constant(factores2)).fit()\n",
        "modeloGOOG.params"
      ],
      "metadata": {
        "id": "QH9RTv2IkyIs",
        "colab": {
          "base_uri": "https://localhost:8080/"
        },
        "outputId": "9aca0869-f02e-4a7f-95cc-173e25d6e381"
      },
      "execution_count": null,
      "outputs": [
        {
          "output_type": "stream",
          "name": "stderr",
          "text": [
            "/usr/local/lib/python3.7/dist-packages/statsmodels/tsa/tsatools.py:142: FutureWarning: In a future version of pandas all arguments of concat except for the argument 'objs' will be keyword-only\n",
            "  x = pd.concat(x[::order], 1)\n"
          ]
        },
        {
          "output_type": "execute_result",
          "data": {
            "text/plain": [
              "const        0.004411\n",
              "indipro     -0.181095\n",
              "unemp       -0.016870\n",
              "Adj Close    0.984519\n",
              "dtype: float64"
            ]
          },
          "metadata": {},
          "execution_count": 227
        }
      ]
    },
    {
      "cell_type": "code",
      "source": [
        "# Regresión factorial para MSFT\n",
        "modeloMSFT = sm.OLS(retornos['MSFT'], sm.add_constant(factores2)).fit()\n",
        "modeloMSFT.params"
      ],
      "metadata": {
        "id": "A1YmTT6Tkyh9",
        "colab": {
          "base_uri": "https://localhost:8080/"
        },
        "outputId": "e383bb52-2969-49e6-f405-1da44fbbf6df"
      },
      "execution_count": null,
      "outputs": [
        {
          "output_type": "execute_result",
          "data": {
            "text/plain": [
              "const        0.024674\n",
              "indipro     -0.081283\n",
              "unemp       -0.168634\n",
              "Adj Close    0.828126\n",
              "dtype: float64"
            ]
          },
          "metadata": {},
          "execution_count": 228
        }
      ]
    },
    {
      "cell_type": "markdown",
      "source": [
        "### Ejemplo 8.3: Modelos Factoriales - Fama y French"
      ],
      "metadata": {
        "id": "u79gdAfsmab7"
      }
    },
    {
      "cell_type": "code",
      "source": [
        "# Información histórica para la acción de WMT\n",
        "fechai = \"2015-12-01\"\n",
        "fechaf = \"2020-12-31\"\n",
        "periodicidad = \"1Mo\"\n",
        "activos = [\"AAPL\",\"AMZN\",\"GOOGL\",\"MSFT\"]\n",
        "precios = yf.download(activos,start=fechai,end=fechaf,interval=periodicidad)['Adj Close'].dropna()\n",
        "retornos = np.log(precios/precios.shift(1)).dropna()"
      ],
      "metadata": {
        "id": "_ayRfnExmfqc"
      },
      "execution_count": null,
      "outputs": []
    },
    {
      "cell_type": "code",
      "source": [
        "# Factores del modelo de estimacion\n",
        "# Importar la info descargada desde la web-page de Keneth French\n",
        "datosff3 = pd.read_csv(\"datosff3.csv\")[['Mkt-RF','SMB','HML']]\n",
        "datosff3.index = retornos.index"
      ],
      "metadata": {
        "id": "wznYfcNemiOh"
      },
      "execution_count": null,
      "outputs": []
    },
    {
      "cell_type": "code",
      "source": [
        "# Regresión unifactorial para AAPL\n",
        "modeloAAPL = sm.OLS(retornos['AAPL'], sm.add_constant(datosff3['Mkt-RF'])).fit()\n",
        "modeloAAPL.params"
      ],
      "metadata": {
        "id": "po2pBRklmkGy"
      },
      "execution_count": null,
      "outputs": []
    },
    {
      "cell_type": "code",
      "source": [
        "modeloAAPLf = sm.OLS(retornos['AAPL'], sm.add_constant(datosff3)).fit()\n",
        "modeloAAPLf.params"
      ],
      "metadata": {
        "id": "QGoIMvTNmlrw"
      },
      "execution_count": null,
      "outputs": []
    }
  ]
}